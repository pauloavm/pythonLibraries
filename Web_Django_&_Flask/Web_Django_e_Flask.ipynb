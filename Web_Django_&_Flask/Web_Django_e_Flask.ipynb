{
  "cells": [
    {
      "cell_type": "markdown",
      "metadata": {
        "id": "LAGKH6UIHULJ"
      },
      "source": [
        "## **Web - Django e Flask**\n",
        "\n",
        "### **Flask** "
      ]
    },
    {
      "cell_type": "markdown",
      "metadata": {},
      "source": [
        "#### **1. Criação de uma aplicação Flask básica**"
      ]
    },
    {
      "cell_type": "code",
      "execution_count": null,
      "metadata": {
        "id": "BK-E3TVCHULP"
      },
      "outputs": [],
      "source": [
        "from flask import Flask\n",
        "\n",
        "app = Flask(__name__)\n",
        "\n",
        "@app.route('/')\n",
        "def index():\n",
        "    return 'Hello, World!'\n",
        "\n",
        "if __name__ == '__main__':\n",
        "    app.run(debug=True)"
      ]
    },
    {
      "cell_type": "markdown",
      "metadata": {
        "id": "42wwGN-EHULR"
      },
      "source": [
        "-----\n",
        "\n",
        "#### **2. Renderização de templates usando Jinja2**\n",
        "\n",
        "*Este código requer um arquivo `index.html` na pasta `templates`.*"
      ]
    },
    {
      "cell_type": "code",
      "execution_count": null,
      "metadata": {
        "id": "vDvZiQY5HULT"
      },
      "outputs": [],
      "source": [
        "from flask import Flask, render_template\n",
        "\n",
        "app = Flask(__name__)\n",
        "\n",
        "@app.route('/')\n",
        "def index():\n",
        "    return render_template('index.html', titulo='Página Inicial', conteudo='Olá, Mundo!')\n",
        "\n",
        "if __name__ == '__main__':\n",
        "    app.run(debug=True)"
      ]
    },
    {
      "cell_type": "markdown",
      "metadata": {
        "id": "VL3OUr13HULU"
      },
      "source": [
        "-----\n",
        "\n",
        "#### **3. Manipulação de formulários com Flask-WTF**\n",
        "\n",
        "*Este código requer a instalação de `Flask-WTF` e um arquivo `formulario.html` na pasta `templates`.*"
      ]
    },
    {
      "cell_type": "code",
      "execution_count": null,
      "metadata": {
        "id": "KJbVvogNHULU"
      },
      "outputs": [],
      "source": [
        "from flask import Flask, render_template, request\n",
        "from flask_wtf import FlaskForm\n",
        "from wtforms import StringField, SubmitField\n",
        "\n",
        "app = Flask(__name__)\n",
        "app.config['SECRET_KEY'] = 'chave_secreta'\n",
        "\n",
        "class MeuFormulario(FlaskForm):\n",
        "    nome = StringField('Nome')\n",
        "    enviar = SubmitField('Enviar')\n",
        "\n",
        "@app.route('/', methods=['GET', 'POST'])\n",
        "def index():\n",
        "    form = MeuFormulario()\n",
        "    if form.validate_on_submit():\n",
        "        nome = form.nome.data\n",
        "        return f'Olá, {nome}!'\n",
        "    return render_template('formulario.html', form=form)\n",
        "\n",
        "if __name__ == '__main__':\n",
        "    app.run(debug=True)"
      ]
    },
    {
      "cell_type": "markdown",
      "metadata": {
        "id": "VZaAjk2yHULV"
      },
      "source": [
        "-----\n",
        "\n",
        "#### **4. Autenticação de usuários com Flask-Login**\n",
        "\n",
        "*Este código requer a instalação de `Flask-Login`.*"
      ]
    },
    {
      "cell_type": "code",
      "execution_count": null,
      "metadata": {
        "id": "-OrIjK2WHULW"
      },
      "outputs": [],
      "source": [
        "from flask import Flask, render_template, redirect, url_for\n",
        "from flask_login import LoginManager, UserMixin, login_user, login_required, logout_user\n",
        "\n",
        "app = Flask(__name__)\n",
        "app.config['SECRET_KEY'] = 'chave_secreta'\n",
        "\n",
        "login_manager = LoginManager()\n",
        "login_manager.init_app(app)\n",
        "\n",
        "class Usuario(UserMixin):\n",
        "    def __init__(self, id):\n",
        "        self.id = id\n",
        "\n",
        "@login_manager.user_loader\n",
        "def carregar_usuario(id):\n",
        "    return Usuario(id)\n",
        "\n",
        "@app.route('/login')\n",
        "def login():\n",
        "    user = Usuario(1)\n",
        "    login_user(user)\n",
        "    return redirect(url_for('index'))\n",
        "\n",
        "@app.route('/logout')\n",
        "@login_required\n",
        "def logout():\n",
        "    logout_user()\n",
        "    return 'Deslogado com sucesso!'\n",
        "\n",
        "@app.route('/')\n",
        "@login_required\n",
        "def index():\n",
        "    return 'Você está logado!'\n",
        "\n",
        "if __name__ == '__main__':\n",
        "    app.run(debug=True)"
      ]
    },
    {
      "cell_type": "markdown",
      "metadata": {
        "id": "KPjKEkDgHULX"
      },
      "source": [
        "-----\n",
        "\n",
        "#### **5. Criação de APIs RESTful com Flask-RESTful**\n",
        "\n",
        "*Este código requer a instalação de `Flask-RESTful`.*"
      ]
    },
    {
      "cell_type": "code",
      "execution_count": null,
      "metadata": {
        "id": "UY9mOAwHHULY"
      },
      "outputs": [],
      "source": [
        "from flask import Flask\n",
        "from flask_restful import Api, Resource\n",
        "\n",
        "app = Flask(__name__)\n",
        "api = Api(app)\n",
        "\n",
        "class HelloWorld(Resource):\n",
        "    def get(self):\n",
        "        return {'message': 'Hello, World!'}\n",
        "\n",
        "api.add_resource(HelloWorld, '/')\n",
        "\n",
        "if __name__ == '__main__':\n",
        "    app.run(debug=True)"
      ]
    },
    {
      "cell_type": "markdown",
      "metadata": {
        "id": "dNOg_5KKHULZ"
      },
      "source": [
        "-----\n",
        "\n",
        "#### **6. Armazenamento de sessões de usuário com Flask-Session**\n",
        "\n",
        "*Este código requer a instalação de `Flask-Session`.*"
      ]
    },
    {
      "cell_type": "code",
      "execution_count": null,
      "metadata": {
        "id": "ShgPCagVHULZ"
      },
      "outputs": [],
      "source": [
        "from flask import Flask, session, redirect, url_for\n",
        "\n",
        "app = Flask(__name__)\n",
        "app.config['SECRET_KEY'] = 'chave_secreta'\n",
        "app.config['SESSION_TYPE'] = 'filesystem' # Armazena sessões em arquivos\n",
        "\n",
        "@app.route('/login/<username>')\n",
        "def login(username):\n",
        "    session['username'] = username\n",
        "    return redirect(url_for('index'))\n",
        "\n",
        "@app.route('/')\n",
        "def index():\n",
        "    if 'username' in session:\n",
        "        return f'Bem-vindo, {session[\"username\"]}!'\n",
        "    return 'Você não está logado!'\n",
        "\n",
        "@app.route('/logout')\n",
        "def logout():\n",
        "    session.pop('username', None)\n",
        "    return redirect(url_for('index'))\n",
        "\n",
        "if __name__ == '__main__':\n",
        "    app.run(debug=True)"
      ]
    },
    {
      "cell_type": "markdown",
      "metadata": {
        "id": "uYnwgVfWHULa"
      },
      "source": [
        "-----\n",
        "\n",
        "#### **7. Envio de e-mails com Flask-Mail**\n",
        "\n",
        "*Requer a instalação de `Flask-Mail` e um arquivo `formulario_email.html`.*"
      ]
    },
    {
      "cell_type": "code",
      "execution_count": null,
      "metadata": {
        "id": "TorsGWo5HULa"
      },
      "outputs": [],
      "source": [
        "from flask import Flask, render_template, request\n",
        "from flask_mail import Mail, Message\n",
        "\n",
        "app = Flask(__name__)\n",
        "# ATENÇÃO: Configure com suas credenciais de e-mail reais\n",
        "app.config['SECRET_KEY'] = 'chave_secreta'\n",
        "app.config['MAIL_SERVER'] = 'smtp.example.com'\n",
        "app.config['MAIL_PORT'] = 587\n",
        "app.config['MAIL_USERNAME'] = 'seu_email@example.com'\n",
        "app.config['MAIL_PASSWORD'] = 'sua_senha'\n",
        "app.config['MAIL_USE_TLS'] = True\n",
        "\n",
        "mail = Mail(app)\n",
        "\n",
        "@app.route('/enviar-email', methods=['GET', 'POST'])\n",
        "def enviar_email():\n",
        "    if request.method == 'POST':\n",
        "        destinatario = request.form['destinatario']\n",
        "        assunto = request.form['assunto']\n",
        "        corpo = request.form['corpo']\n",
        "        msg = Message(assunto, sender='seu_email@example.com', recipients=[destinatario])\n",
        "        msg.body = corpo\n",
        "        mail.send(msg)\n",
        "        return 'Email enviado com sucesso!'\n",
        "    return render_template('formulario_email.html')\n",
        "\n",
        "if __name__ == '__main__':\n",
        "    app.run(debug=True)"
      ]
    },
    {
      "cell_type": "markdown",
      "metadata": {
        "id": "p5Z5Ng00HULb"
      },
      "source": [
        "-----\n",
        "\n",
        "#### **8. Autenticação OAuth com Flask-OAuthlib**\n",
        "\n",
        "*Requer a instalação de `Flask-OAuthlib` e credenciais OAuth do provedor (ex: Google).*"
      ]
    },
    {
      "cell_type": "code",
      "execution_count": null,
      "metadata": {
        "id": "e0ES_tp2HULb"
      },
      "outputs": [],
      "source": [
        "from flask import Flask, redirect, url_for, session\n",
        "from flask_oauthlib.client import OAuth\n",
        "\n",
        "app = Flask(__name__)\n",
        "# ATENÇÃO: Configure com suas credenciais reais do Google\n",
        "app.config['SECRET_KEY'] = 'chave_secreta'\n",
        "app.config['OAUTH_CREDENTIALS'] = {\n",
        "    'google': {\n",
        "        'id': 'seu_id_de_cliente',\n",
        "        'secret': 'seu_segredo_de_cliente'\n",
        "    }\n",
        "}\n",
        "\n",
        "oauth = OAuth(app)\n",
        "google = oauth.remote_app(\n",
        "    'google',\n",
        "    consumer_key=app.config['OAUTH_CREDENTIALS']['google']['id'],\n",
        "    consumer_secret=app.config['OAUTH_CREDENTIALS']['google']['secret'],\n",
        "    request_token_params={'scope': 'email'},\n",
        "    base_url='https://www.googleapis.com/oauth2/v1/',\n",
        "    request_token_url=None,\n",
        "    access_token_method='POST',\n",
        "    access_token_url='https://accounts.google.com/o/oauth2/token',\n",
        "    authorize_url='https://accounts.google.com/o/oauth2/auth>',\n",
        ")\n",
        "\n",
        "@app.route('/')\n",
        "def index():\n",
        "    if 'google_token' in session:\n",
        "        user_info = google.get('userinfo')\n",
        "        return f'Usuário logado com Google: {user_info.data[\"email\"]}'\n",
        "    return redirect(url_for('login'))\n",
        "\n",
        "@app.route('/login')\n",
        "def login():\n",
        "    return google.authorize(callback=url_for('authorized', _external=True))\n",
        "\n",
        "@app.route('/logout')\n",
        "def logout():\n",
        "    session.pop('google_token', None)\n",
        "    return redirect(url_for('index'))\n",
        "\n",
        "@app.route('/login/authorized')\n",
        "def authorized():\n",
        "    resp = google.authorized_response()\n",
        "    if resp is None or resp.get('access_token') is None:\n",
        "        return 'Acesso negado'\n",
        "    session['google_token'] = (resp['access_token'], '')\n",
        "    return redirect(url_for('index'))\n",
        "\n",
        "@google.tokengetter\n",
        "def get_google_oauth_token():\n",
        "    return session.get('google_token')\n",
        "\n",
        "if __name__ == '__main__':\n",
        "    app.run(debug=True)"
      ]
    },
    {
      "cell_type": "markdown",
      "metadata": {
        "id": "BkIF7nDrHULc"
      },
      "source": [
        "-----\n",
        "\n",
        "#### **9. Cache de resposta com Flask-Caching**\n",
        "\n",
        "*Requer a instalação de `Flask-Caching`.*"
      ]
    },
    {
      "cell_type": "code",
      "execution_count": null,
      "metadata": {
        "id": "b-OB3m3nHULd"
      },
      "outputs": [],
      "source": [
        "from flask import Flask\n",
        "from flask_caching import Cache\n",
        "import time\n",
        "\n",
        "app = Flask(__name__)\n",
        "app.config['SECRET_KEY'] = 'chave_secreta'\n",
        "app.config['CACHE_TYPE'] = 'SimpleCache' # Cache simples em memória\n",
        "\n",
        "cache = Cache(app)\n",
        "\n",
        "@app.route('/resultado')\n",
        "@cache.cached(timeout=60) # Cache de 60 segundos\n",
        "def resultado():\n",
        "    # Simula uma operação demorada\n",
        "    time.sleep(5)\n",
        "    return f'Resultado gerado às {time.ctime()}'\n",
        "\n",
        "if __name__ == '__main__':\n",
        "    app.run(debug=True)"
      ]
    },
    {
      "cell_type": "markdown",
      "metadata": {
        "id": "-9_xQrUrHULd"
      },
      "source": [
        "-----\n",
        "\n",
        "#### **10. Internacionalização (i18n) com Flask-Babel**\n",
        "\n",
        "*Requer a instalação de `Flask-Babel`.*"
      ]
    },
    {
      "cell_type": "code",
      "execution_count": null,
      "metadata": {
        "id": "nmumL5QyHULd"
      },
      "outputs": [],
      "source": [
        "from flask import Flask, render_template, request\n",
        "from flask_babel import Babel\n",
        "\n",
        "app = Flask(__name__)\n",
        "app.config['SECRET_KEY'] = 'chave_secreta'\n",
        "app.config['BABEL_DEFAULT_LOCALE'] = 'pt'\n",
        "\n",
        "babel = Babel(app)\n",
        "\n",
        "@babel.localeselector\n",
        "def get_locale():\n",
        "    # Retorna o melhor idioma com base nas preferências do navegador\n",
        "    return request.accept_languages.best_match(['en', 'es', 'pt'])\n",
        "\n",
        "@app.route('/')\n",
        "def index():\n",
        "    # O template 'index.html' deve usar a função gettext (_), ex: <h1>{{ _('Olá Mundo') }}</h1>\n",
        "    return render_template('index.html')\n",
        "\n",
        "if __name__ == '__main__':\n",
        "    app.run(debug=True)"
      ]
    },
    {
      "cell_type": "markdown",
      "metadata": {
        "id": "JOd5wV0uHULd"
      },
      "source": [
        "-----\n",
        "\n",
        "#### **11. Criação de Cookies e Sessões com Flask**"
      ]
    },
    {
      "cell_type": "code",
      "execution_count": null,
      "metadata": {
        "id": "UGrn_UhSHULe"
      },
      "outputs": [],
      "source": [
        "from flask import Flask, request, session, make_response\n",
        "\n",
        "app = Flask(__name__)\n",
        "app.secret_key = 'uma_chave_muito_secreta'\n",
        "\n",
        "@app.route('/session')\n",
        "def exemplo_session():\n",
        "    # Session: os dados são armazenados no servidor e um cookie seguro é enviado ao cliente.\n",
        "    # Fecha junto com o navegador, a menos que seja configurada como permanente.\n",
        "    session['usuario'] = 'Leonardo'\n",
        "    return f'Sessão criada para o usuário: {session[\"usuario\"]}'\n",
        "\n",
        "@app.route('/cookie')\n",
        "def exemplo_cookie():\n",
        "    # Cookie: os dados são armazenados diretamente no navegador do cliente.\n",
        "    resp = make_response('Cookie criado com sucesso!')\n",
        "    resp.set_cookie('NomeUsuario', 'Leonardo')\n",
        "    return resp\n",
        "\n",
        "if __name__ == '__main__':\n",
        "    app.run(debug=True)"
      ]
    },
    {
      "cell_type": "markdown",
      "metadata": {
        "id": "Cwf4a-v2HULe"
      },
      "source": [
        "-----\n",
        "\n",
        "#### **12. Manipulação de uploads de arquivos com Flask-Uploads**\n",
        "\n",
        "*Requer a instalação de `Flask-Uploads` e a criação de uma pasta `uploads`.*"
      ]
    },
    {
      "cell_type": "code",
      "execution_count": null,
      "metadata": {
        "id": "A6Qv04DwHULe"
      },
      "outputs": [],
      "source": [
        "from flask import Flask, request, render_template_string\n",
        "from flask_uploads import UploadSet, configure_uploads, ALL\n",
        "\n",
        "app = Flask(__name__)\n",
        "# Configura o destino dos uploads para uma pasta chamada 'uploads'\n",
        "app.config['UPLOADED_PHOTOS_DEST'] = 'uploads'\n",
        "app.secret_key = 'chave_secreta_para_uploads'\n",
        "\n",
        "photos = UploadSet('photos', ALL)\n",
        "configure_uploads(app, photos)\n",
        "\n",
        "@app.route('/upload', methods=['GET', 'POST'])\n",
        "def upload_arquivo():\n",
        "    if request.method == 'POST' and 'photo' in request.files:\n",
        "        filename = photos.save(request.files['photo'])\n",
        "        return f'Arquivo {filename} enviado com sucesso!'\n",
        "    return render_template_string('''\n",
        "        <!doctype html>\n",
        "        <title>Upload de Arquivo</title>\n",
        "        <h1>Faça o upload de um novo arquivo</h1>\n",
        "        <form method=post enctype=multipart/form-data>\n",
        "          <input type=file name=photo>\n",
        "          <input type=submit value=Upload>\n",
        "        </form>\n",
        "    ''')\n",
        "\n",
        "if __name__ == '__main__':\n",
        "    app.run(debug=True)"
      ]
    },
    {
      "cell_type": "markdown",
      "metadata": {
        "id": "OlbR2TuJHULe"
      },
      "source": [
        "-----\n",
        "\n",
        "#### **13. Criação de APIs RESTful com Flask-RESTPlus**\n",
        "\n",
        "*Requer a instalação de `flask-restplus`.*"
      ]
    },
    {
      "cell_type": "code",
      "execution_count": null,
      "metadata": {
        "id": "dXyQMNXtHULe"
      },
      "outputs": [],
      "source": [
        "from flask import Flask\n",
        "from flask_restplus import Api, Resource\n",
        "\n",
        "app = Flask(__name__)\n",
        "api = Api(app, version='1.0', title='Minha API', description='Uma API de exemplo')\n",
        "\n",
        "ns = api.namespace('exemplo', description='Operações de exemplo')\n",
        "\n",
        "@ns.route('/hello')\n",
        "class HelloWorld(Resource):\n",
        "    def get(self):\n",
        "        '''Retorna uma mensagem de olá mundo'''\n",
        "        return {'message': 'Hello, World!'}\n",
        "\n",
        "if __name__ == '__main__':\n",
        "    app.run(debug=True)"
      ]
    },
    {
      "cell_type": "markdown",
      "metadata": {
        "id": "5-0p3ARTHULe"
      },
      "source": [
        "-----\n",
        "\n",
        "#### **14. Manipulação de requisições com Flask-JWT**\n",
        "\n",
        "*Requer a instalação de `Flask-JWT`.*"
      ]
    },
    {
      "cell_type": "code",
      "execution_count": null,
      "metadata": {
        "id": "qFUBbFXjHULe"
      },
      "outputs": [],
      "source": [
        "from flask import Flask, jsonify, request\n",
        "from flask_jwt import JWT, jwt_required, current_identity\n",
        "\n",
        "class User:\n",
        "    def __init__(self, id, username, password):\n",
        "        self.id = id\n",
        "        self.username = username\n",
        "        self.password = password\n",
        "\n",
        "users = [\n",
        "    User(1, 'usuario1', 'senha123'),\n",
        "]\n",
        "\n",
        "username_table = {u.username: u for u in users}\n",
        "userid_table = {u.id: u for u in users}\n",
        "\n",
        "def authenticate(username, password):\n",
        "    user = username_table.get(username, None)\n",
        "    if user and user.password == password:\n",
        "        return user\n",
        "\n",
        "def identity(payload):\n",
        "    user_id = payload['identity']\n",
        "    return userid_table.get(user_id, None)\n",
        "\n",
        "app = Flask(__name__)\n",
        "app.config['SECRET_KEY'] = 'chave_secreta_jwt'\n",
        "jwt = JWT(app, authenticate, identity)\n",
        "\n",
        "@app.route('/protegido')\n",
        "@jwt_required()\n",
        "def protegido():\n",
        "    return f'Olá, {current_identity.username}! Você está acessando um recurso protegido.'\n",
        "\n",
        "if __name__ == '__main__':\n",
        "    app.run(debug=True)"
      ]
    },
    {
      "cell_type": "markdown",
      "metadata": {
        "id": "vd6Ww5JQHULe"
      },
      "source": [
        "-----\n",
        "\n",
        "#### **15. Criação de páginas web estáticas com Flask-FlatPages**\n",
        "\n",
        "*Requer a instalação de `Flask-FlatPages` e `Markdown`.*"
      ]
    },
    {
      "cell_type": "code",
      "execution_count": null,
      "metadata": {
        "id": "qW9Gw4_0HULf"
      },
      "outputs": [],
      "source": [
        "from flask import Flask, render_template\n",
        "from flask_flatpages import FlatPages\n",
        "\n",
        "# Crie uma pasta 'pages' e dentro dela um arquivo 'index.md'\n",
        "# Exemplo de index.md:\n",
        "# title: Minha Página Inicial\n",
        "#\n",
        "# # Bem-vindo!\n",
        "# Este é um exemplo de página estática.\n",
        "\n",
        "app = Flask(__name__)\n",
        "app.config['FLATPAGES_EXTENSION'] = '.md'\n",
        "app.config['FLATPAGES_ROOT'] = 'pages'\n",
        "pages = FlatPages(app)\n",
        "\n",
        "@app.route('/')\n",
        "def index():\n",
        "    page = pages.get('index')\n",
        "    return render_template('page.html', page=page) # Requer um template 'page.html'\n",
        "\n",
        "if __name__ == '__main__':\n",
        "    app.run(debug=True)"
      ]
    },
    {
      "cell_type": "markdown",
      "metadata": {
        "id": "T6hucwj6HULf"
      },
      "source": [
        "-----\n",
        "\n",
        "-----\n",
        "\n",
        "### **Django** 🏗️\n",
        "\n",
        "#### **16. Criação de um projeto Django básico**\n",
        "\n",
        "*Estes são comandos de terminal e trechos de código para diferentes arquivos.*\n",
        "\n",
        "**No terminal:**\n",
        "\n",
        "```bash\n",
        "django-admin startproject meu_projeto\n",
        "cd meu_projeto\n",
        "python manage.py startapp meu_app\n",
        "```\n",
        "\n",
        "**Em `meu_app/views.py`:**"
      ]
    },
    {
      "cell_type": "code",
      "execution_count": null,
      "metadata": {
        "id": "G1NKt8MCHULf"
      },
      "outputs": [],
      "source": [
        "from django.http import HttpResponse\n",
        "\n",
        "def index(request):\n",
        "    return HttpResponse(\"Olá, mundo! Você está na página inicial.\")"
      ]
    },
    {
      "cell_type": "markdown",
      "metadata": {
        "id": "bd4yl6jkHULf"
      },
      "source": [
        "**Em `meu_app/urls.py` (crie este arquivo):**"
      ]
    },
    {
      "cell_type": "code",
      "execution_count": null,
      "metadata": {
        "id": "YSXYrkXXHULg"
      },
      "outputs": [],
      "source": [
        "from django.urls import path\n",
        "from . import views\n",
        "\n",
        "urlpatterns = [\n",
        "    path('', views.index, name='index'),\n",
        "]"
      ]
    },
    {
      "cell_type": "markdown",
      "metadata": {
        "id": "ysXu7hAkHULg"
      },
      "source": [
        "**Em `meu_projeto/urls.py`:**"
      ]
    },
    {
      "cell_type": "code",
      "execution_count": null,
      "metadata": {
        "id": "zFHZNFtJHULg"
      },
      "outputs": [],
      "source": [
        "from django.contrib import admin\n",
        "from django.urls import path, include\n",
        "\n",
        "urlpatterns = [\n",
        "    path('admin/', admin.site.urls),\n",
        "    path('meu_app/', include('meu_app.urls')), # Inclui as URLs do app\n",
        "]"
      ]
    },
    {
      "cell_type": "markdown",
      "metadata": {
        "id": "yBtg9W1sHULg"
      },
      "source": [
        "-----\n",
        "\n",
        "#### **17. Criação de modelos de banco de dados**\n",
        "\n",
        "*Coloque este código em `meu_app/models.py`.*"
      ]
    },
    {
      "cell_type": "code",
      "execution_count": null,
      "metadata": {
        "id": "BeD6w0pcHULg"
      },
      "outputs": [],
      "source": [
        "from django.db import models\n",
        "from django.contrib.auth.models import User # Supondo que você use o usuário padrão do Django\n",
        "\n",
        "class Pessoa(models.Model):\n",
        "    nome = models.CharField(max_length=100)\n",
        "    idade = models.IntegerField()\n",
        "    email = models.EmailField()\n",
        "\n",
        "    def __str__(self):\n",
        "        return self.nome\n",
        "\n",
        "class Post(models.Model):\n",
        "    autor = models.ForeignKey(User, on_delete=models.CASCADE)\n",
        "    titulo = models.CharField(max_length=200)\n",
        "    conteudo = models.TextField()\n",
        "    data_publicacao = models.DateTimeField(auto_now_add=True)\n",
        "\n",
        "    def __str__(self):\n",
        "        return self.titulo"
      ]
    },
    {
      "cell_type": "markdown",
      "metadata": {
        "id": "cwkKo922HULg"
      },
      "source": [
        "-----\n",
        "\n",
        "#### **18. Criação de formulários com Django Forms**\n",
        "\n",
        "*Coloque este código em `meu_app/forms.py` (crie este arquivo).*"
      ]
    },
    {
      "cell_type": "code",
      "execution_count": null,
      "metadata": {
        "id": "OrRfmgaEHULs"
      },
      "outputs": [],
      "source": [
        "from django import forms\n",
        "\n",
        "class MeuFormulario(forms.Form):\n",
        "    nome = forms.CharField(label='Seu Nome', max_length=100)\n",
        "    email = forms.EmailField(label='Seu Email')\n",
        "    mensagem = forms.CharField(label='Mensagem', widget=forms.Textarea)"
      ]
    },
    {
      "cell_type": "markdown",
      "metadata": {
        "id": "_wuxGkBEHULt"
      },
      "source": [
        "-----\n",
        "\n",
        "#### **19. Autenticação de usuários com Django Authentication System**\n",
        "\n",
        "*Este é um exemplo de uso em uma view (`meu_app/views.py`).*"
      ]
    },
    {
      "cell_type": "code",
      "execution_count": null,
      "metadata": {
        "id": "YhCNvg4WHULt"
      },
      "outputs": [],
      "source": [
        "from django.contrib.auth.models import User\n",
        "from django.contrib.auth import authenticate, login, logout\n",
        "from django.shortcuts import redirect\n",
        "\n",
        "# Função de exemplo para registrar\n",
        "def registrar_usuario(request, username, email, password):\n",
        "    user = User.objects.create_user(username, email, password)\n",
        "    login(request, user) # Opcional: logar após o registro\n",
        "    return redirect('pagina_inicial') # Redireciona para alguma página\n",
        "\n",
        "# Função de exemplo para login\n",
        "def fazer_login(request, username, password):\n",
        "    user = authenticate(request, username=username, password=password)\n",
        "    if user is not None:\n",
        "        login(request, user)\n",
        "        return redirect('pagina_inicial')\n",
        "    else:\n",
        "        # Retorna uma mensagem de erro\n",
        "        pass\n",
        "\n",
        "# Função de exemplo para logout\n",
        "def fazer_logout(request):\n",
        "    logout(request)\n",
        "    return redirect('pagina_inicial')"
      ]
    },
    {
      "cell_type": "markdown",
      "metadata": {
        "id": "qt8nnG3KHULu"
      },
      "source": [
        "-----\n",
        "\n",
        "#### **20. Criação de APIs RESTful com Django REST Framework**\n",
        "\n",
        "*Requer a instalação de `djangorestframework`.*\n",
        "\n",
        "**Em `meu_app/serializers.py` (crie este arquivo):**"
      ]
    },
    {
      "cell_type": "code",
      "execution_count": null,
      "metadata": {
        "id": "9H9-88mIHULu"
      },
      "outputs": [],
      "source": [
        "from rest_framework import serializers\n",
        "from .models import Pessoa\n",
        "\n",
        "class PessoaSerializer(serializers.ModelSerializer):\n",
        "    class Meta:\n",
        "        model = Pessoa\n",
        "        fields = ['id', 'nome', 'idade', 'email']"
      ]
    },
    {
      "cell_type": "markdown",
      "metadata": {
        "id": "QwLraAyuHULu"
      },
      "source": [
        "**Em `meu_app/views.py`:**"
      ]
    },
    {
      "cell_type": "code",
      "execution_count": null,
      "metadata": {
        "id": "n_9-7PXtHULu"
      },
      "outputs": [],
      "source": [
        "from rest_framework import viewsets\n",
        "from .models import Pessoa\n",
        "from .serializers import PessoaSerializer\n",
        "\n",
        "class PessoaViewSet(viewsets.ModelViewSet):\n",
        "    queryset = Pessoa.objects.all()\n",
        "    serializer_class = PessoaSerializer"
      ]
    },
    {
      "cell_type": "markdown",
      "metadata": {
        "id": "8sYPK4cqHULu"
      },
      "source": [
        "**Em `meu_projeto/urls.py`:**"
      ]
    },
    {
      "cell_type": "code",
      "execution_count": null,
      "metadata": {
        "id": "ntBfPiLxHULv"
      },
      "outputs": [],
      "source": [
        "from django.urls import path, include\n",
        "from rest_framework.routers import DefaultRouter\n",
        "from meu_app import views\n",
        "\n",
        "router = DefaultRouter()\n",
        "router.register(r'pessoas', views.PessoaViewSet)\n",
        "\n",
        "urlpatterns = [\n",
        "    # ... suas outras urls\n",
        "    path('api/', include(router.urls)),\n",
        "]"
      ]
    },
    {
      "cell_type": "markdown",
      "metadata": {
        "id": "9dFgd2X3HULv"
      },
      "source": [
        "-----\n",
        "\n",
        "#### **21. Criação de views usando Django Class-Based Views**\n",
        "\n",
        "*Coloque em `meu_app/views.py`.*"
      ]
    },
    {
      "cell_type": "code",
      "execution_count": null,
      "metadata": {
        "id": "cAU7Eo0IHULv"
      },
      "outputs": [],
      "source": [
        "from django.views import View\n",
        "from django.http import HttpResponse\n",
        "\n",
        "class MinhaView(View):\n",
        "    def get(self, request):\n",
        "        return HttpResponse('Olá, mundo! Esta é uma view baseada em classes.')"
      ]
    },
    {
      "cell_type": "markdown",
      "metadata": {
        "id": "3e91N-WZHULv"
      },
      "source": [
        "-----\n",
        "\n",
        "#### **22. Manipulação de formulários usando Django ModelForms**\n",
        "\n",
        "*Coloque em `meu_app/forms.py`.*"
      ]
    },
    {
      "cell_type": "code",
      "execution_count": null,
      "metadata": {
        "id": "ebjrgaSTHULv"
      },
      "outputs": [],
      "source": [
        "from django import forms\n",
        "from .models import Pessoa\n",
        "\n",
        "class PessoaForm(forms.ModelForm):\n",
        "    class Meta:\n",
        "        model = Pessoa\n",
        "        fields = ['nome', 'idade', 'email']"
      ]
    },
    {
      "cell_type": "markdown",
      "metadata": {
        "id": "-0jz6UCYHULw"
      },
      "source": [
        "-----\n",
        "\n",
        "#### **23. Criação de middleware personalizado em Django**\n",
        "\n",
        "*Crie um arquivo `meu_app/middleware.py`.*"
      ]
    },
    {
      "cell_type": "code",
      "execution_count": null,
      "metadata": {
        "id": "EypKvgZwHULw"
      },
      "outputs": [],
      "source": [
        "class MeuMiddleware:\n",
        "    def __init__(self, get_response):\n",
        "        self.get_response = get_response\n",
        "\n",
        "    def __call__(self, request):\n",
        "        # Código executado antes da view ser chamada\n",
        "        print(\"Antes da view\")\n",
        "\n",
        "        response = self.get_response(request)\n",
        "\n",
        "        # Código executado após a view ser chamada\n",
        "        print(\"Depois da view\")\n",
        "        return response"
      ]
    },
    {
      "cell_type": "markdown",
      "metadata": {
        "id": "P-19Q6P6HULw"
      },
      "source": [
        "*Não se esqueça de adicionar `'meu_app.middleware.MeuMiddleware'` à lista `MIDDLEWARE` em `settings.py`.*\n",
        "\n",
        "-----\n",
        "\n",
        "#### **24. Definir modelos em um aplicativo Django**\n",
        "\n",
        "*Exemplo para `meu_app/models.py`.*"
      ]
    },
    {
      "cell_type": "code",
      "execution_count": null,
      "metadata": {
        "id": "-8i_ybWMHULx"
      },
      "outputs": [],
      "source": [
        "from django.db import models\n",
        "\n",
        "class MeuModelo(models.Model):\n",
        "    campo1 = models.CharField(max_length=100)\n",
        "    campo2 = models.IntegerField(default=0)\n",
        "    campo3 = models.DateField(auto_now_add=True)\n",
        "\n",
        "    def __str__(self):\n",
        "        return self.campo1"
      ]
    },
    {
      "cell_type": "markdown",
      "metadata": {
        "id": "HjqZb3eyHULx"
      },
      "source": [
        "-----\n",
        "\n",
        "#### **25. Criar views em um aplicativo Django**\n",
        "\n",
        "*Exemplo para `meu_app/views.py`.*"
      ]
    },
    {
      "cell_type": "code",
      "execution_count": null,
      "metadata": {
        "id": "MGR3CeKVHULx"
      },
      "outputs": [],
      "source": [
        "from django.shortcuts import render\n",
        "from .models import MeuModelo\n",
        "\n",
        "def minha_view(request):\n",
        "    objetos = MeuModelo.objects.all()\n",
        "    context = {'objetos': objetos}\n",
        "    return render(request, 'meu_app/minha_template.html', context)"
      ]
    },
    {
      "cell_type": "markdown",
      "metadata": {
        "id": "hTLBEhQ-HULx"
      },
      "source": [
        "-----\n",
        "\n",
        "#### **26. Criar URLs em um aplicativo Django**\n",
        "\n",
        "*Exemplo para `meu_app/urls.py`.*"
      ]
    },
    {
      "cell_type": "code",
      "execution_count": null,
      "metadata": {
        "id": "BTohpdOeHULy"
      },
      "outputs": [],
      "source": [
        "from django.urls import path\n",
        "from . import views\n",
        "\n",
        "urlpatterns = [\n",
        "    path('meus-objetos/', views.minha_view, name='minha_view'),\n",
        "]"
      ]
    },
    {
      "cell_type": "markdown",
      "metadata": {
        "id": "gYTiV1jiHULy"
      },
      "source": [
        "-----\n",
        "\n",
        "#### **27. Pré-Set para `CharField`**\n",
        "\n",
        "*Exemplo de um campo de texto com tamanho máximo em `models.py`.*"
      ]
    },
    {
      "cell_type": "code",
      "execution_count": null,
      "metadata": {
        "id": "KpHaOPJNHULy"
      },
      "outputs": [],
      "source": [
        "from django.db import models\n",
        "\n",
        "class MeuModelo(models.Model):\n",
        "    # Campo para armazenar strings de até 100 caracteres.\n",
        "    meu_charfield = models.CharField(max_length=100)"
      ]
    },
    {
      "cell_type": "markdown",
      "metadata": {
        "id": "kfc8iveJHULy"
      },
      "source": [
        "-----\n",
        "\n",
        "#### **28. Pré-Set para `ManyToManyField`**\n",
        "\n",
        "*Exemplo de uma relação \"muitos para muitos\" em `models.py`.*"
      ]
    },
    {
      "cell_type": "code",
      "execution_count": null,
      "metadata": {
        "id": "_wN968-9HULz"
      },
      "outputs": [],
      "source": [
        "from django.db import models\n",
        "\n",
        "class Categoria(models.Model):\n",
        "    nome = models.CharField(max_length=100)\n",
        "\n",
        "class Produto(models.Model):\n",
        "    nome = models.CharField(max_length=100)\n",
        "    # Um produto pode ter várias categorias, e uma categoria pode ter vários produtos.\n",
        "    categorias = models.ManyToManyField(Categoria)"
      ]
    },
    {
      "cell_type": "markdown",
      "metadata": {
        "id": "Kda0zGfVHULz"
      },
      "source": [
        "-----\n",
        "\n",
        "#### **29. Pré-Set para `OneToOneField`**\n",
        "\n",
        "*Exemplo de uma relação \"um para um\" em `models.py`.*"
      ]
    },
    {
      "cell_type": "code",
      "execution_count": null,
      "metadata": {
        "id": "7lIEcHR6HULz"
      },
      "outputs": [],
      "source": [
        "from django.db import models\n",
        "from django.contrib.auth.models import User\n",
        "\n",
        "class PerfilUsuario(models.Model):\n",
        "    # Cada usuário tem apenas um perfil, e cada perfil pertence a apenas um usuário.\n",
        "    usuario = models.OneToOneField(User, on_delete=models.CASCADE)\n",
        "    bio = models.TextField(blank=True)\n",
        "    foto_perfil = models.ImageField(upload_to='fotos_perfil', blank=True)"
      ]
    },
    {
      "cell_type": "markdown",
      "metadata": {
        "id": "fKYfhtXzHULz"
      },
      "source": [
        "-----\n",
        "\n",
        "#### **30. Pré-Set para `ForeignKey`**\n",
        "\n",
        "*Exemplo de uma relação \"muitos para um\" em `models.py`.*"
      ]
    },
    {
      "cell_type": "code",
      "execution_count": null,
      "metadata": {
        "id": "mftZmXZCHULz"
      },
      "outputs": [],
      "source": [
        "from django.db import models\n",
        "\n",
        "class Autor(models.Model):\n",
        "    nome = models.CharField(max_length=100)\n",
        "\n",
        "class Livro(models.Model):\n",
        "    titulo = models.CharField(max_length=100)\n",
        "    # Vários livros podem pertencer a um único autor.\n",
        "    autor = models.ForeignKey(Autor, on_delete=models.CASCADE)"
      ]
    }
  ],
  "metadata": {
    "colab": {
      "provenance": []
    },
    "kernelspec": {
      "display_name": "Python 3",
      "name": "python3"
    }
  },
  "nbformat": 4,
  "nbformat_minor": 0
}
