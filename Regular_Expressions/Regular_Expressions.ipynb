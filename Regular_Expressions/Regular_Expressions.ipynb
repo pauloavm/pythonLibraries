{
  "cells": [
    {
      "cell_type": "markdown",
      "metadata": {},
      "source": [
        "## Regular Expressions"
      ]
    },
    {
      "cell_type": "markdown",
      "metadata": {
        "id": "Nek0KOxqVGyk"
      },
      "source": [
        "**1. Verificar se um padrão está presente em uma string**"
      ]
    },
    {
      "cell_type": "code",
      "execution_count": null,
      "metadata": {
        "id": "1Es_plWRVGyn"
      },
      "outputs": [],
      "source": [
        "import re\n",
        "\n",
        "padrao = r'Python'\n",
        "texto = 'Python é uma linguagem de programação poderosa.'\n",
        "\n",
        "if re.search(padrao, texto):\n",
        "    print(\"Padrão encontrado na string.\")\n",
        "else:\n",
        "    print(\"Padrão não encontrado na string.\")"
      ]
    },
    {
      "cell_type": "markdown",
      "metadata": {
        "id": "JrTWMBIvVGyp"
      },
      "source": [
        "**2. Encontrar todas as ocorrências de um padrão em uma string**"
      ]
    },
    {
      "cell_type": "code",
      "execution_count": null,
      "metadata": {
        "id": "VSBbI5qaVGyp"
      },
      "outputs": [],
      "source": [
        "import re\n",
        "\n",
        "padrao = r'\\b\\w{4}\\b'\n",
        "texto = 'Python é uma linguagem de programação poderosa.'\n",
        "\n",
        "ocorrencias = re.findall(padrao, texto)\n",
        "print(\"Ocorrências encontradas:\", ocorrencias)"
      ]
    },
    {
      "cell_type": "markdown",
      "metadata": {
        "id": "nZfwgBTuVGyq"
      },
      "source": [
        "**3. Substituir um padrão por outro em uma string**"
      ]
    },
    {
      "cell_type": "code",
      "execution_count": null,
      "metadata": {
        "id": "Jc4pJ63zVGyq"
      },
      "outputs": [],
      "source": [
        "import re\n",
        "\n",
        "padrao = r'\\b\\w{4}\\b'\n",
        "texto = 'Python é uma linguagem de programação poderosa.'\n",
        "\n",
        "novo_texto = re.sub(padrao, 'Java', texto)\n",
        "print(\"Texto modificado:\", novo_texto)"
      ]
    },
    {
      "cell_type": "markdown",
      "metadata": {
        "id": "fXCyGCJHVGyr"
      },
      "source": [
        "**4. Dividir uma string usando um padrão como delimitador**"
      ]
    },
    {
      "cell_type": "code",
      "execution_count": null,
      "metadata": {
        "id": "DMVwutMKVGyr"
      },
      "outputs": [],
      "source": [
        "import re\n",
        "\n",
        "padrao = r'\\s+'\n",
        "texto = 'Python é uma linguagem de programação poderosa.'\n",
        "\n",
        "partes = re.split(padrao, texto)\n",
        "print(\"Partes divididas:\", partes)"
      ]
    },
    {
      "cell_type": "markdown",
      "metadata": {
        "id": "z_FjiPS4VGys"
      },
      "source": [
        "**5. Validar se uma string corresponde a um padrão específico**"
      ]
    },
    {
      "cell_type": "code",
      "execution_count": null,
      "metadata": {
        "id": "NwkTHEAPVGys"
      },
      "outputs": [],
      "source": [
        "import re\n",
        "\n",
        "padrao = r'\\b\\d{3}-\\d{3}-\\d{4}\\b'  # Padrão para número de telefone no formato XXX-XXX-XXXX\n",
        "telefone = '123-456-7890'\n",
        "\n",
        "if re.fullmatch(padrao, telefone):\n",
        "    print(\"Número de telefone válido.\")\n",
        "else:\n",
        "    print(\"Número de telefone inválido.\")"
      ]
    },
    {
      "cell_type": "markdown",
      "metadata": {
        "id": "APOOla1OVGys"
      },
      "source": [
        "**6. Verificar se um padrão está presente no início de uma string**"
      ]
    },
    {
      "cell_type": "code",
      "execution_count": null,
      "metadata": {
        "id": "wJ4wQhCYVGys"
      },
      "outputs": [],
      "source": [
        "import re\n",
        "\n",
        "padrao = r'^Python'\n",
        "texto = 'Python é uma linguagem de programação poderosa.'\n",
        "\n",
        "if re.match(padrao, texto):\n",
        "    print(\"O padrão está presente no início da string.\")\n",
        "else:\n",
        "    print(\"O padrão não está presente no início da string.\")"
      ]
    },
    {
      "cell_type": "markdown",
      "metadata": {
        "id": "5oq3csGGVGys"
      },
      "source": [
        "**7. Validar se uma string contém apenas dígitos**"
      ]
    },
    {
      "cell_type": "code",
      "execution_count": null,
      "metadata": {
        "id": "Q2AUX1ZMVGyt"
      },
      "outputs": [],
      "source": [
        "import re\n",
        "\n",
        "padrao = r'^\\d+$'\n",
        "texto1 = '12345'\n",
        "texto2 = '123a45'\n",
        "\n",
        "if re.match(padrao, texto1):\n",
        "    print(\"A string contém apenas dígitos.\")\n",
        "else:\n",
        "    print(\"A string não contém apenas dígitos.\")\n",
        "\n",
        "if re.match(padrao, texto2):\n",
        "    print(\"A string contém apenas dígitos.\")\n",
        "else:\n",
        "    print(\"A string não contém apenas dígitos.\")"
      ]
    },
    {
      "cell_type": "markdown",
      "metadata": {
        "id": "m_1AIc1VVGyt"
      },
      "source": [
        "**8. Encontrar todas as ocorrências de um padrão em uma lista de strings**"
      ]
    },
    {
      "cell_type": "code",
      "execution_count": null,
      "metadata": {
        "id": "VgH_9IrgVGyt"
      },
      "outputs": [],
      "source": [
        "import re\n",
        "\n",
        "padrao = r'\\b\\w{4}\\b'\n",
        "lista = ['Python', 'Java', 'C++', 'JavaScript', 'PHP']\n",
        "\n",
        "ocorrencias = [string for string in lista if re.search(padrao, string)]\n",
        "print(\"Ocorrências encontradas na lista:\", ocorrencias)"
      ]
    },
    {
      "cell_type": "markdown",
      "metadata": {
        "id": "xpBJmaYuVGyt"
      },
      "source": [
        "**9. Validar se uma string corresponde a um padrão de e-mail**"
      ]
    },
    {
      "cell_type": "code",
      "execution_count": null,
      "metadata": {
        "id": "uhm8wV2wVGyt"
      },
      "outputs": [],
      "source": [
        "import re\n",
        "\n",
        "padrao = r'^[\\w\\.-]+@[\\w\\.-]+\\.\\w+$'\n",
        "emails = ['usuario@example.com', 'invalido@', 'sem_arroba.com']\n",
        "\n",
        "for email in emails:\n",
        "    if re.match(padrao, email):\n",
        "        print(f\"{email} é um e-mail válido.\")\n",
        "    else:\n",
        "        print(f\"{email} não é um e-mail válido.\")"
      ]
    },
    {
      "cell_type": "markdown",
      "metadata": {
        "id": "qrK9ejBBVGyt"
      },
      "source": [
        "**10. Substituir todas as letras minúsculas por maiúsculas em uma string**"
      ]
    },
    {
      "cell_type": "code",
      "execution_count": null,
      "metadata": {
        "id": "bgo9TPxHVGyt"
      },
      "outputs": [],
      "source": [
        "import re\n",
        "\n",
        "texto = 'Python é uma linguagem de programação poderosa.'\n",
        "\n",
        "texto_modificado = re.sub(r'[a-z]', lambda x: x.group(0).upper(), texto)\n",
        "print(\"Texto modificado:\", texto_modificado)"
      ]
    },
    {
      "cell_type": "markdown",
      "metadata": {
        "id": "ZkIuVcLpVGyt"
      },
      "source": [
        "**11. Verificar se uma string começa com um número**"
      ]
    },
    {
      "cell_type": "code",
      "execution_count": null,
      "metadata": {
        "id": "RlBjBYDQVGyt"
      },
      "outputs": [],
      "source": [
        "import re\n",
        "\n",
        "padrao = r'\\d+'\n",
        "texto = '123 Python'\n",
        "\n",
        "match = re.match(padrao, texto)\n",
        "if match:\n",
        "    print(\"Correspondência encontrada:\", match.group())\n",
        "else:\n",
        "    print(\"Nenhuma correspondência encontrada.\")"
      ]
    },
    {
      "cell_type": "markdown",
      "metadata": {
        "id": "nVB-Sf8IVGyu"
      },
      "source": [
        "**12. Verificar se uma string começa com uma letra maiúscula**"
      ]
    },
    {
      "cell_type": "code",
      "execution_count": null,
      "metadata": {
        "id": "aH-i7hIRVGyu"
      },
      "outputs": [],
      "source": [
        "import re\n",
        "\n",
        "padrao = r'[A-Z]'\n",
        "texto = 'Python'\n",
        "\n",
        "match = re.match(padrao, texto)\n",
        "if match:\n",
        "    print(\"Correspondência encontrada:\", match.group())\n",
        "else:\n",
        "    print(\"Nenhuma correspondência encontrada.\")"
      ]
    },
    {
      "cell_type": "markdown",
      "metadata": {
        "id": "07PPnUyBVGyu"
      },
      "source": [
        "**13. Verificar se uma string começa com a palavra \"Hello\"**"
      ]
    },
    {
      "cell_type": "code",
      "execution_count": null,
      "metadata": {
        "id": "fOTnc6gOVGyu"
      },
      "outputs": [],
      "source": [
        "import re\n",
        "\n",
        "padrao = r'Hello'\n",
        "texto = 'Hello, World!'\n",
        "\n",
        "match = re.match(padrao, texto)\n",
        "if match:\n",
        "    print(\"Correspondência encontrada:\", match.group())\n",
        "else:\n",
        "    print(\"Nenhuma correspondência encontrada.\")"
      ]
    },
    {
      "cell_type": "markdown",
      "metadata": {
        "id": "Tyh8llMrVGyu"
      },
      "source": [
        "**14. Verificar se uma string começa com um caractere especial**"
      ]
    },
    {
      "cell_type": "code",
      "execution_count": null,
      "metadata": {
        "id": "msdYXEIIVGyu"
      },
      "outputs": [],
      "source": [
        "import re\n",
        "\n",
        "padrao = r'\\W'\n",
        "texto = '@Hello'\n",
        "\n",
        "match = re.match(padrao, texto)\n",
        "if match:\n",
        "    print(\"Correspondência encontrada:\", match.group())\n",
        "else:\n",
        "    print(\"Nenhuma correspondência encontrada.\")"
      ]
    },
    {
      "cell_type": "markdown",
      "metadata": {
        "id": "e6GkvuLqVGyu"
      },
      "source": [
        "**15. Verificar se uma string começa com uma palavra de exatamente três letras**"
      ]
    },
    {
      "cell_type": "code",
      "execution_count": null,
      "metadata": {
        "id": "qMaFprrDVGyu"
      },
      "outputs": [],
      "source": [
        "import re\n",
        "\n",
        "padrao = r'\\b\\w{3}\\b'\n",
        "texto = 'The quick brown fox'\n",
        "\n",
        "match = re.match(padrao, texto)\n",
        "if match:\n",
        "    print(\"Correspondência encontrada:\", match.group())\n",
        "else:\n",
        "    print(\"Nenhuma correspondência encontrada.\")"
      ]
    },
    {
      "cell_type": "markdown",
      "metadata": {
        "id": "XDPzzo4yVGyu"
      },
      "source": [
        "**16. Verificar se uma string começa com uma sequência específica de caracteres**"
      ]
    },
    {
      "cell_type": "code",
      "execution_count": null,
      "metadata": {
        "id": "YJGPl2-cVGyu"
      },
      "outputs": [],
      "source": [
        "import re\n",
        "\n",
        "padrao = r'^abc'\n",
        "texto = 'abcdef'\n",
        "\n",
        "match = re.match(padrao, texto)\n",
        "if match:\n",
        "    print(\"Correspondência encontrada:\", match.group())\n",
        "else:\n",
        "    print(\"Nenhuma correspondência encontrada.\")"
      ]
    },
    {
      "cell_type": "markdown",
      "metadata": {
        "id": "K1yWjK1oVGyu"
      },
      "source": [
        "**17. Verificar se uma string começa com um número de telefone no formato adequado**"
      ]
    },
    {
      "cell_type": "code",
      "execution_count": null,
      "metadata": {
        "id": "n0hBJim_VGyu"
      },
      "outputs": [],
      "source": [
        "import re\n",
        "\n",
        "padrao = r'^\\d{3}-\\d{3}-\\d{4}'\n",
        "telefone = '123-456-7890'\n",
        "\n",
        "match = re.match(padrao, telefone)\n",
        "if match:\n",
        "    print(\"Correspondência encontrada:\", match.group())\n",
        "else:\n",
        "    print(\"Nenhuma correspondência encontrada.\")"
      ]
    },
    {
      "cell_type": "markdown",
      "metadata": {
        "id": "1sBS3DQaVGyu"
      },
      "source": [
        "**18. Verificar se uma string começa com uma palavra seguida de um número**"
      ]
    },
    {
      "cell_type": "code",
      "execution_count": null,
      "metadata": {
        "id": "Q8SZLOmOVGyv"
      },
      "outputs": [],
      "source": [
        "import re\n",
        "\n",
        "padrao = r'^\\w+\\d'\n",
        "texto = 'Python3'\n",
        "\n",
        "match = re.match(padrao, texto)\n",
        "if match:\n",
        "    print(\"Correspondência encontrada:\", match.group())\n",
        "else:\n",
        "    print(\"Nenhuma correspondência encontrada.\")"
      ]
    },
    {
      "cell_type": "markdown",
      "metadata": {
        "id": "McTddeAhVGyv"
      },
      "source": [
        "**19. Verificar se uma string começa com um padrão de data no formato \"dd/mm/aaaa\"**"
      ]
    },
    {
      "cell_type": "code",
      "execution_count": null,
      "metadata": {
        "id": "iB8E0OujVGyv"
      },
      "outputs": [],
      "source": [
        "import re\n",
        "\n",
        "padrao = r'^\\d{2}/\\d{2}/\\d{4}'\n",
        "data = '25/12/2023'\n",
        "\n",
        "match = re.match(padrao, data)\n",
        "if match:\n",
        "    print(\"Correspondência encontrada:\", match.group())\n",
        "else:\n",
        "    print(\"Nenhuma correspondência encontrada.\")"
      ]
    },
    {
      "cell_type": "markdown",
      "metadata": {
        "id": "AmdFh4LqVGyv"
      },
      "source": [
        "**20. Verificar se uma string começa com uma sequência de caracteres alfanuméricos**"
      ]
    },
    {
      "cell_type": "code",
      "execution_count": null,
      "metadata": {
        "id": "7ofbO8JsVGyz"
      },
      "outputs": [],
      "source": [
        "import re\n",
        "\n",
        "padrao = r'^\\w+'\n",
        "texto = 'Python123'\n",
        "\n",
        "match = re.match(padrao, texto)\n",
        "if match:\n",
        "    print(\"Correspondência encontrada:\", match.group())\n",
        "else:\n",
        "    print(\"Nenhuma correspondência encontrada.\")"
      ]
    },
    {
      "cell_type": "markdown",
      "metadata": {
        "id": "m7jLX3BSVGyz"
      },
      "source": [
        "**21. Verificar se uma string contém a palavra \"Python\"**"
      ]
    },
    {
      "cell_type": "code",
      "execution_count": null,
      "metadata": {
        "id": "dwJPNNrOVGy0"
      },
      "outputs": [],
      "source": [
        "import re\n",
        "\n",
        "padrao = r'Python'\n",
        "texto = 'Python é uma linguagem de programação poderosa.'\n",
        "\n",
        "match = re.search(padrao, texto)\n",
        "if match:\n",
        "    print(\"Correspondência encontrada:\", match.group())\n",
        "else:\n",
        "    print(\"Nenhuma correspondência encontrada.\")"
      ]
    },
    {
      "cell_type": "markdown",
      "metadata": {
        "id": "mqhXl6aPVGy0"
      },
      "source": [
        "**22. Verificar se uma string contém um número de telefone no formato adequado**"
      ]
    },
    {
      "cell_type": "code",
      "execution_count": null,
      "metadata": {
        "id": "MrVirULdVGy0"
      },
      "outputs": [],
      "source": [
        "import re\n",
        "\n",
        "padrao = r'\\d{3}-\\d{3}-\\d{4}'\n",
        "texto = 'Entre em contato pelo número 123-456-7890.'\n",
        "\n",
        "match = re.search(padrao, texto)\n",
        "if match:\n",
        "    print(\"Correspondência encontrada:\", match.group())\n",
        "else:\n",
        "    print(\"Nenhuma correspondência encontrada.\")"
      ]
    },
    {
      "cell_type": "markdown",
      "metadata": {
        "id": "qWV7KUXSVGy0"
      },
      "source": [
        "**23. Verificar se uma string contém uma sequência de caracteres alfanuméricos**"
      ]
    },
    {
      "cell_type": "code",
      "execution_count": null,
      "metadata": {
        "id": "0teAxFgiVGy0"
      },
      "outputs": [],
      "source": [
        "import re\n",
        "\n",
        "padrao = r'\\w+'\n",
        "texto = 'Python123 é uma ótima linguagem.'\n",
        "\n",
        "match = re.search(padrao, texto)\n",
        "if match:\n",
        "    print(\"Correspondência encontrada:\", match.group())\n",
        "else:\n",
        "    print(\"Nenhuma correspondência encontrada.\")"
      ]
    },
    {
      "cell_type": "markdown",
      "metadata": {
        "id": "AuyDzHLRVGy0"
      },
      "source": [
        "**24. Verificar se uma string contém uma data no formato \"dd/mm/aaaa\"**"
      ]
    },
    {
      "cell_type": "code",
      "execution_count": null,
      "metadata": {
        "id": "69h6TRMeVGy0"
      },
      "outputs": [],
      "source": [
        "import re\n",
        "\n",
        "padrao = r'\\b\\d{2}/\\d{2}/\\d{4}\\b'\n",
        "texto = 'A reunião está marcada para o dia 25/12/2023.'\n",
        "\n",
        "match = re.search(padrao, texto)\n",
        "if match:\n",
        "    print(\"Correspondência encontrada:\", match.group())\n",
        "else:\n",
        "    print(\"Nenhuma correspondência encontrada.\")"
      ]
    },
    {
      "cell_type": "markdown",
      "metadata": {
        "id": "J3KMyfpuVGy0"
      },
      "source": [
        "**25. Verificar se uma string contém um endereço de e-mail**"
      ]
    },
    {
      "cell_type": "code",
      "execution_count": null,
      "metadata": {
        "id": "6geJ6OUsVGy0"
      },
      "outputs": [],
      "source": [
        "import re\n",
        "\n",
        "padrao = r'\\b[\\w\\.-]+@[\\w\\.-]+\\.\\w+\\b'\n",
        "texto = 'Entre em contato pelo e-mail usuario@example.com.'\n",
        "\n",
        "match = re.search(padrao, texto)\n",
        "if match:\n",
        "    print(\"Correspondência encontrada:\", match.group())\n",
        "else:\n",
        "    print(\"Nenhuma correspondência encontrada.\")"
      ]
    },
    {
      "cell_type": "markdown",
      "metadata": {
        "id": "j8kQ61pxVGy0"
      },
      "source": [
        "**26. Verificar se uma string contém uma sequência de dígitos consecutivos**"
      ]
    },
    {
      "cell_type": "code",
      "execution_count": null,
      "metadata": {
        "id": "9jGQiDH2VGy0"
      },
      "outputs": [],
      "source": [
        "import re\n",
        "\n",
        "padrao = r'\\d+'\n",
        "texto = 'O número de telefone é 123-456-7890.'\n",
        "\n",
        "match = re.search(padrao, texto)\n",
        "if match:\n",
        "    print(\"Correspondência encontrada:\", match.group())\n",
        "else:\n",
        "    print(\"Nenhuma correspondência encontrada.\")"
      ]
    },
    {
      "cell_type": "markdown",
      "metadata": {
        "id": "XptGrf9CVGy0"
      },
      "source": [
        "**27. Verificar se uma string contém uma sequência de caracteres especiais**"
      ]
    },
    {
      "cell_type": "code",
      "execution_count": null,
      "metadata": {
        "id": "OWHRJbqxVGy0"
      },
      "outputs": [],
      "source": [
        "import re\n",
        "\n",
        "padrao = r'\\W+'\n",
        "texto = 'Oi! Como você está?'\n",
        "\n",
        "match = re.search(padrao, texto)\n",
        "if match:\n",
        "    print(\"Correspondência encontrada:\", match.group())\n",
        "else:\n",
        "    print(\"Nenhuma correspondência encontrada.\")"
      ]
    },
    {
      "cell_type": "markdown",
      "metadata": {
        "id": "wXgmGg9XVGy0"
      },
      "source": [
        "**28. Verificar se uma string contém uma sequência de letras minúsculas seguida por uma letra maiúscula**"
      ]
    },
    {
      "cell_type": "code",
      "execution_count": null,
      "metadata": {
        "id": "SDfsvze1VGy0"
      },
      "outputs": [],
      "source": [
        "import re\n",
        "\n",
        "padrao = r'[a-z]+[A-Z]'\n",
        "texto = 'PythonCode'\n",
        "\n",
        "match = re.search(padrao, texto)\n",
        "if match:\n",
        "    print(\"Correspondência encontrada:\", match.group())\n",
        "else:\n",
        "    print(\"Nenhuma correspondência encontrada.\")"
      ]
    },
    {
      "cell_type": "markdown",
      "metadata": {
        "id": "o2VM9ZF1VGy0"
      },
      "source": [
        "**29. Verificar se uma string contém uma palavra que começa com \"P\" seguida por uma ou mais letras**"
      ]
    },
    {
      "cell_type": "code",
      "execution_count": null,
      "metadata": {
        "id": "VraqytJDVGy1"
      },
      "outputs": [],
      "source": [
        "import re\n",
        "\n",
        "padrao = r'\\bP\\w+'\n",
        "texto = 'Python é uma linguagem de programação.'\n",
        "\n",
        "match = re.search(padrao, texto)\n",
        "if match:\n",
        "    print(\"Correspondência encontrada:\", match.group())\n",
        "else:\n",
        "    print(\"Nenhuma correspondência encontrada.\")"
      ]
    },
    {
      "cell_type": "markdown",
      "metadata": {
        "id": "qBhn2hW1VGy1"
      },
      "source": [
        "**30. Verificar se uma string contém um número hexadecimal**"
      ]
    },
    {
      "cell_type": "code",
      "execution_count": null,
      "metadata": {
        "id": "9UbTT3eaVGy1"
      },
      "outputs": [],
      "source": [
        "import re\n",
        "\n",
        "padrao = r'0[xX][0-9a-fA-F]+'\n",
        "texto = 'O código de cor é #00FF00.'\n",
        "\n",
        "match = re.search(padrao, texto)\n",
        "if match:\n",
        "    print(\"Correspondência encontrada:\", match.group())\n",
        "else:\n",
        "    print(\"Nenhuma correspondência encontrada.\")"
      ]
    },
    {
      "cell_type": "markdown",
      "metadata": {
        "id": "qQwcMpzGVGy1"
      },
      "source": [
        "**31. Encontrar todas as palavras de três letras em uma string**"
      ]
    },
    {
      "cell_type": "code",
      "execution_count": null,
      "metadata": {
        "id": "EKAvYicBVGy1"
      },
      "outputs": [],
      "source": [
        "import re\n",
        "\n",
        "padrao = r'\\b\\w{3}\\b'\n",
        "texto = 'Python é uma linguagem de programação poderosa.'\n",
        "\n",
        "ocorrencias = re.findall(padrao, texto)\n",
        "print(\"Palavras de três letras encontradas:\", ocorrencias)"
      ]
    },
    {
      "cell_type": "markdown",
      "metadata": {
        "id": "7-Xx93NRVGy1"
      },
      "source": [
        "**32. Encontrar todos os números em uma string**"
      ]
    },
    {
      "cell_type": "code",
      "execution_count": null,
      "metadata": {
        "id": "ETokoUZpVGy1"
      },
      "outputs": [],
      "source": [
        "import re\n",
        "\n",
        "padrao = r'\\d+'\n",
        "texto = 'O número de telefone é 123-456-7890 e o código postal é 54321.'\n",
        "\n",
        "ocorrencias = re.findall(padrao, texto)\n",
        "print(\"Números encontrados:\", ocorrencias)"
      ]
    },
    {
      "cell_type": "markdown",
      "metadata": {
        "id": "QNqgcCfqVGy1"
      },
      "source": [
        "**33. Encontrar todas as palavras que começam com a letra 'P'**"
      ]
    },
    {
      "cell_type": "code",
      "execution_count": null,
      "metadata": {
        "id": "y7nLeYgHVGy1"
      },
      "outputs": [],
      "source": [
        "import re\n",
        "\n",
        "padrao = r'\\bP\\w+'\n",
        "texto = 'Python é uma linguagem de programação poderosa e fácil de aprender.'\n",
        "\n",
        "ocorrencias = re.findall(padrao, texto)\n",
        "print(\"Palavras que começam com 'P':\", ocorrencias)"
      ]
    },
    {
      "cell_type": "markdown",
      "metadata": {
        "id": "0PaMuDW7VGy1"
      },
      "source": [
        "**34. Encontrar todos os endereços de e-mail em uma lista de strings**"
      ]
    },
    {
      "cell_type": "code",
      "execution_count": null,
      "metadata": {
        "id": "oHS4hTvaVGy1"
      },
      "outputs": [],
      "source": [
        "import re\n",
        "\n",
        "padrao = r'\\b[\\w\\.-]+@[\\w\\.-]+\\.\\w+\\b'\n",
        "lista = ['usuario1@example.com', 'contato@example.com', 'invalido', 'usuario2@example.com']\n",
        "\n",
        "ocorrencias = [email for email in lista if re.findall(padrao, email)]\n",
        "print(\"Endereços de e-mail encontrados:\", ocorrencias)"
      ]
    },
    {
      "cell_type": "markdown",
      "metadata": {
        "id": "N9A4Hcj1VGy1"
      },
      "source": [
        "**35. Encontrar todas as palavras que começam com uma letra maiúscula em uma string**"
      ]
    },
    {
      "cell_type": "code",
      "execution_count": null,
      "metadata": {
        "id": "0KaS7NTdVGy1"
      },
      "outputs": [],
      "source": [
        "import re\n",
        "\n",
        "padrao = r'\\b[A-Z]\\w*'\n",
        "texto = 'Python é uma linguagem de programação poderosa e Fácil de aprender.'\n",
        "\n",
        "ocorrencias = re.findall(padrao, texto)\n",
        "print(\"Palavras que começam com letra maiúscula:\", ocorrencias)"
      ]
    },
    {
      "cell_type": "markdown",
      "metadata": {
        "id": "y8N2x5mGVGy1"
      },
      "source": [
        "**36. Encontrar todas as hashtags em um texto**"
      ]
    },
    {
      "cell_type": "code",
      "execution_count": null,
      "metadata": {
        "id": "KUYNNF3aVGy2"
      },
      "outputs": [],
      "source": [
        "import re\n",
        "\n",
        "padrao = r'#\\w+'\n",
        "texto = 'Hoje está um belo dia! #sol #verão #praia'\n",
        "\n",
        "ocorrencias = re.findall(padrao, texto)\n",
        "print(\"Hashtags encontradas:\", ocorrencias)"
      ]
    },
    {
      "cell_type": "markdown",
      "metadata": {
        "id": "36DPSdLdVGy2"
      },
      "source": [
        "**37. Encontrar todas as palavras que terminam com \"ing\" em uma string**"
      ]
    },
    {
      "cell_type": "code",
      "execution_count": null,
      "metadata": {
        "id": "F4-UcueGVGy2"
      },
      "outputs": [],
      "source": [
        "import re\n",
        "\n",
        "padrao = r'\\b\\w+ing\\b'\n",
        "texto = 'Correndo, nadando, pulando, cantando'\n",
        "\n",
        "ocorrencias = re.findall(padrao, texto)\n",
        "print(\"Palavras que terminam com 'ing':\", ocorrencias)"
      ]
    },
    {
      "cell_type": "markdown",
      "metadata": {
        "id": "nMeFekFVVGy2"
      },
      "source": [
        "**38. Encontrar todas as URLs em um texto**"
      ]
    },
    {
      "cell_type": "code",
      "execution_count": null,
      "metadata": {
        "id": "NUYs5X1OVGy2"
      },
      "outputs": [],
      "source": [
        "import re\n",
        "\n",
        "padrao = r'https?://(?:[-\\w.]|(?:%[\\da-fA-F]{2}))+'\n",
        "texto = 'Visite nosso site em https://www.exemplo.com.br'\n",
        "\n",
        "ocorrencias = re.findall(padrao, texto)\n",
        "print(\"URLs encontradas:\", ocorrencias)"
      ]
    },
    {
      "cell_type": "markdown",
      "metadata": {
        "id": "Y8bns5D3VGy2"
      },
      "source": [
        "**39. Encontrar todos os números decimais em uma string**"
      ]
    },
    {
      "cell_type": "code",
      "execution_count": null,
      "metadata": {
        "id": "S7SkOJYHVGy2"
      },
      "outputs": [],
      "source": [
        "import re\n",
        "\n",
        "padrao = r'\\b\\d+\\.\\d+\\b'\n",
        "texto = 'O preço do produto é R$ 9.99 ou $15.50'\n",
        "\n",
        "ocorrencias = re.findall(padrao, texto)\n",
        "print(\"Números decimais encontrados:\", ocorrencias)"
      ]
    },
    {
      "cell_type": "markdown",
      "metadata": {
        "id": "-ssUdu1kVGy2"
      },
      "source": [
        "**40. Encontrar todas as palavras duplicadas em uma string**"
      ]
    },
    {
      "cell_type": "code",
      "execution_count": null,
      "metadata": {
        "id": "qzvQl9djVGy2"
      },
      "outputs": [],
      "source": [
        "import re\n",
        "\n",
        "padrao = r'\\b(\\w+)\\b.*\\b\\1\\b'\n",
        "texto = 'Este é um exemplo de frase com palavras repetidas.'\n",
        "\n",
        "ocorrencias = re.findall(padrao, texto)\n",
        "print(\"Palavras duplicadas encontradas:\", ocorrencias)"
      ]
    },
    {
      "cell_type": "markdown",
      "metadata": {
        "id": "PCcsR7FmVGy2"
      },
      "source": [
        "**41. Substituir todas as ocorrências de \"gato\" por \"cachorro\"**"
      ]
    },
    {
      "cell_type": "code",
      "execution_count": null,
      "metadata": {
        "id": "XFHIpuDuVGy2"
      },
      "outputs": [],
      "source": [
        "import re\n",
        "\n",
        "padrao = r'gato'\n",
        "texto = 'Eu tenho um gato preto e um gato branco.'\n",
        "\n",
        "novo_texto = re.sub(padrao, 'cachorro', texto)\n",
        "print(\"Novo texto:\", novo_texto)"
      ]
    },
    {
      "cell_type": "markdown",
      "metadata": {
        "id": "T-NB9LJLVGy2"
      },
      "source": [
        "**42. Substituir todas as letras minúsculas por letras maiúsculas**"
      ]
    },
    {
      "cell_type": "code",
      "execution_count": null,
      "metadata": {
        "id": "VAH27Q6wVGy2"
      },
      "outputs": [],
      "source": [
        "import re\n",
        "\n",
        "texto = 'Este é um exemplo de texto com letras minúsculas.'\n",
        "\n",
        "novo_texto = re.sub(r'[a-z]', lambda x: x.group(0).upper(), texto)\n",
        "print(\"Novo texto:\", novo_texto)"
      ]
    },
    {
      "cell_type": "markdown",
      "metadata": {
        "id": "IZXnkAWAVGy2"
      },
      "source": [
        "**43. Substituir todos os números por \"X\"**"
      ]
    },
    {
      "cell_type": "code",
      "execution_count": null,
      "metadata": {
        "id": "6FgcyIe_VGy2"
      },
      "outputs": [],
      "source": [
        "import re\n",
        "\n",
        "texto = 'A senha é 1234.'\n",
        "\n",
        "novo_texto = re.sub(r'\\d', 'X', texto)\n",
        "print(\"Novo texto:\", novo_texto)"
      ]
    },
    {
      "cell_type": "markdown",
      "metadata": {
        "id": "sVhWcRs_VGy2"
      },
      "source": [
        "**44. Remover todos os caracteres não alfanuméricos**"
      ]
    },
    {
      "cell_type": "code",
      "execution_count": null,
      "metadata": {
        "id": "VC1sA9pFVGy3"
      },
      "outputs": [],
      "source": [
        "import re\n",
        "\n",
        "texto = 'Este é um exemplo! De texto; com caracteres especiais?'\n",
        "\n",
        "novo_texto = re.sub(r'\\W', '', texto)\n",
        "print(\"Novo texto:\", novo_texto)"
      ]
    },
    {
      "cell_type": "markdown",
      "metadata": {
        "id": "p8CQtvBOVGy3"
      },
      "source": [
        "**45. Substituir datas no formato \"dd/mm/aaaa\" por \"DATA\"**"
      ]
    },
    {
      "cell_type": "code",
      "execution_count": null,
      "metadata": {
        "id": "Z_7cOHh2VGy3"
      },
      "outputs": [],
      "source": [
        "import re\n",
        "\n",
        "texto = 'Hoje é 25/12/2023 e amanhã será 26/12/2023.'\n",
        "\n",
        "novo_texto = re.sub(r'\\b\\d{2}/\\d{2}/\\d{4}\\b', 'DATA', texto)\n",
        "print(\"Novo texto:\", novo_texto)"
      ]
    },
    {
      "cell_type": "markdown",
      "metadata": {
        "id": "at8D3Fc_VGy3"
      },
      "source": [
        "**46. Substituir todas as vogais por um caractere de sublinhado**"
      ]
    },
    {
      "cell_type": "code",
      "execution_count": null,
      "metadata": {
        "id": "1dugqg2_VGy3"
      },
      "outputs": [],
      "source": [
        "import re\n",
        "\n",
        "texto = 'Este é um exemplo de substituição de vogais.'\n",
        "\n",
        "novo_texto = re.sub(r'[aeiou]', '_', texto)\n",
        "print(\"Novo texto:\", novo_texto)"
      ]
    },
    {
      "cell_type": "markdown",
      "metadata": {
        "id": "DlnsnwTgVGy3"
      },
      "source": [
        "**47. Substituir todas as palavras por seu comprimento**"
      ]
    },
    {
      "cell_type": "code",
      "execution_count": null,
      "metadata": {
        "id": "n2Bw-SPAVGy3"
      },
      "outputs": [],
      "source": [
        "import re\n",
        "\n",
        "texto = 'O rato roeu a roupa do rei de Roma.'\n",
        "\n",
        "novo_texto = re.sub(r'\\b\\w+\\b', lambda x: str(len(x.group())), texto)\n",
        "print(\"Novo texto:\", novo_texto)"
      ]
    },
    {
      "cell_type": "markdown",
      "metadata": {
        "id": "RgCil8szVGy3"
      },
      "source": [
        "**48. Remover todas as letras minúsculas**"
      ]
    },
    {
      "cell_type": "code",
      "execution_count": null,
      "metadata": {
        "id": "catEmKqiVGy3"
      },
      "outputs": [],
      "source": [
        "import re\n",
        "\n",
        "texto = 'Este é um Exemplo De TEXTO com Letras Minúsculas.'\n",
        "\n",
        "novo_texto = re.sub(r'[a-z]', '', texto)\n",
        "print(\"Novo texto:\", novo_texto)"
      ]
    },
    {
      "cell_type": "markdown",
      "metadata": {
        "id": "-iXWnfRkVGy3"
      },
      "source": [
        "**49. Substituir todas as letras maiúsculas por uma letra X**"
      ]
    },
    {
      "cell_type": "code",
      "execution_count": null,
      "metadata": {
        "id": "e0zMXyKWVGy3"
      },
      "outputs": [],
      "source": [
        "import re\n",
        "\n",
        "texto = 'Este é um Exemplo De TEXTO com Letras Maiúsculas.'\n",
        "\n",
        "novo_texto = re.sub(r'[A-Z]', 'X', texto)\n",
        "print(\"Novo texto:\", novo_texto)"
      ]
    },
    {
      "cell_type": "markdown",
      "metadata": {
        "id": "kmQtdwaDVGy3"
      },
      "source": [
        "**50. Substituir palavras por sua forma invertida**"
      ]
    },
    {
      "cell_type": "code",
      "execution_count": null,
      "metadata": {
        "id": "IioElanAVGy3"
      },
      "outputs": [],
      "source": [
        "import re\n",
        "\n",
        "texto = 'Python é uma linguagem de programação.'\n",
        "\n",
        "def invert_palavra(match):\n",
        "    return match.group()[::-1]\n",
        "\n",
        "novo_texto = re.sub(r'\\b\\w+\\b', invert_palavra, texto)\n",
        "print(\"Novo texto:\", novo_texto)"
      ]
    },
    {
      "cell_type": "markdown",
      "metadata": {
        "id": "GLdYTvzjVGy3"
      },
      "source": [
        "**51. Calculadora Simples**"
      ]
    },
    {
      "cell_type": "code",
      "execution_count": null,
      "metadata": {
        "id": "Amo6rCyjVGy3"
      },
      "outputs": [],
      "source": [
        "import re\n",
        "\n",
        "operacao = input('Qual a operação? ')\n",
        "conta = re.search(r'^(\\d)+(\\+|\\-|\\*|\\/)+(\\d)$', operacao)\n",
        "\n",
        "a = int(conta.group(1))\n",
        "b = str(conta.group(2))\n",
        "c = int(conta.group(3))\n",
        "\n",
        "if b == '+':\n",
        "    resultado = a + c\n",
        "elif b == '-':\n",
        "    resultado = a - c\n",
        "elif b == '*':\n",
        "    resultado = a * c\n",
        "else b == '/':\n",
        "    resultado = a / c\n",
        "\n",
        "print(resultado)"
      ]
    },
    {
      "cell_type": "markdown",
      "metadata": {
        "id": "-K4yHwwmVGy3"
      },
      "source": [
        "**52. Extrator de Links Web.**"
      ]
    },
    {
      "cell_type": "code",
      "execution_count": null,
      "metadata": {
        "id": "jrkjqiRFVGy4"
      },
      "outputs": [],
      "source": [
        "import re\n",
        "import requests\n",
        "\n",
        "def extrair_links_pagina(url):\n",
        "    try:\n",
        "        resposta = requests.get(url)\n",
        "        conteudo = resposta.text\n",
        "        links = re.findall(r'href=[\"\\'](https?://.*?)(?=[\"\\'])', conteudo)\n",
        "        return links\n",
        "    except Exception as e:\n",
        "        print(f\"Erro ao extrair links: {str(e)}\")\n",
        "        return []\n",
        "\n",
        "if __name__ == \"__main__\":\n",
        "    url = input(\"Digite a URL da página da web para extrair links: \")\n",
        "    links = extrair_links_pagina(url)\n",
        "\n",
        "    if links:\n",
        "        print(\"Links encontrados:\")\n",
        "        for link in links:\n",
        "            print(link)\n",
        "    else:\n",
        "        print(\"Nenhum link encontrado.\")"
      ]
    },
    {
      "cell_type": "markdown",
      "metadata": {
        "id": "Ke_ZbI8LVGy4"
      },
      "source": [
        "**53. Extrator de Endereço IP.**"
      ]
    },
    {
      "cell_type": "code",
      "execution_count": null,
      "metadata": {
        "id": "N-_9CswMVGy4"
      },
      "outputs": [],
      "source": [
        "import re\n",
        "\n",
        "# Texto de exemplo contendo endereços IP\n",
        "texto = \"Este é um exemplo de texto contendo endereços IP como 192.168.1.1, 10.0.0.1 e 172.16.254.1.\"\n",
        "\n",
        "# Expressão regular para encontrar endereços IP\n",
        "padrao_ip = r'\\b(?:\\d{1,3}\\.){3}\\d{1,3}\\b'\n",
        "\n",
        "# Encontrar todos os endereços IP no texto\n",
        "ips_encontrados = re.findall(padrao_ip, texto)\n",
        "\n",
        "# Imprimir os endereços IP encontrados\n",
        "print(\"Endereços IP encontrados:\")\n",
        "for ip in ips_encontrados:\n",
        "    print(ip)"
      ]
    },
    {
      "cell_type": "markdown",
      "metadata": {
        "id": "EgBJm8m9VGy4"
      },
      "source": [
        "**54. Extrator de Dados de Texto.**"
      ]
    },
    {
      "cell_type": "code",
      "execution_count": null,
      "metadata": {
        "id": "iXn1Zz_kVGy5"
      },
      "outputs": [],
      "source": [
        "import re\n",
        "\n",
        "def extrair_numeros_telefone(texto):\n",
        "    padrao = r'\\b\\d{3}[-.\\s]?\\d{3}[-.\\s]?\\d{4}\\b'\n",
        "    numeros = re.findall(padrao, texto)\n",
        "    return numeros\n",
        "\n",
        "if __name__ == \"__main__\":\n",
        "    texto = input(\"Digite o texto no qual você deseja encontrar números de telefone: \")\n",
        "    numeros = extrair_numeros_telefone(texto)\n",
        "\n",
        "    if numeros:\n",
        "        print(\"Números de telefone encontrados:\")\n",
        "        for numero in numeros:\n",
        "            print(numero)\n",
        "    else:\n",
        "        print(\"Nenhum número de telefone encontrado.\")"
      ]
    },
    {
      "cell_type": "markdown",
      "metadata": {
        "id": "cyk5lATqVGy5"
      },
      "source": [
        "**55. Ferramenta de Busca de arquivos.**"
      ]
    },
    {
      "cell_type": "code",
      "execution_count": null,
      "metadata": {
        "id": "OrT28Dq_VGy5"
      },
      "outputs": [],
      "source": [
        "import os\n",
        "\n",
        "def buscar_em_arquivos(diretorio, padrao):\n",
        "    resultados = []\n",
        "\n",
        "    for pasta_raiz, _, arquivos in os.walk(diretorio):\n",
        "        for arquivo in arquivos:\n",
        "            caminho_completo = os.path.join(pasta_raiz, arquivo)\n",
        "            with open(caminho_completo, 'r', encoding='utf-8') as file:\n",
        "                linhas = file.readlines()\n",
        "                for numero_linha, linha in enumerate(linhas, start=1):\n",
        "                    if re.search(padrao, linha):\n",
        "                        resultados.append(f'{caminho_completo} - Linha {numero_linha}: {linha.strip()}')\n",
        "\n",
        "    return resultados\n",
        "\n",
        "if __name__ == \"__main__\":\n",
        "    diretorio = input(\"Digite o diretório para busca: \")\n",
        "    padrao = input(\"Digite o padrão de busca (expressão regular): \")\n",
        "\n",
        "    resultados = buscar_em_arquivos(diretorio, padrao)\n",
        "\n",
        "    if resultados:\n",
        "        print(\"Resultados encontrados:\")\n",
        "        for resultado in resultados:\n",
        "            print(resultado)\n",
        "    else:\n",
        "        print(\"Nenhum resultado encontrado.\")"
      ]
    },
    {
      "cell_type": "markdown",
      "metadata": {
        "id": "UnzkCPUnVGy5"
      },
      "source": [
        "**56. Extrator de CEP.**"
      ]
    },
    {
      "cell_type": "code",
      "execution_count": null,
      "metadata": {
        "id": "HuRdhqlpVGy5"
      },
      "outputs": [],
      "source": [
        "import re\n",
        "\n",
        "def extrair_cep(texto):\n",
        "    # Padrão para encontrar CEPs no formato XXXXX-XXX ou XXXXXXXX\n",
        "    padrao = r'\\b\\d{5}-\\d{3}|\\d{8}\\b'\n",
        "    ceps = re.findall(padrao, texto)\n",
        "    return ceps\n",
        "\n",
        "if __name__ == \"__main__\":\n",
        "    texto = input(\"Digite o texto no qual você deseja encontrar CEPs: \")\n",
        "    ceps_encontrados = extrair_cep(texto)\n",
        "\n",
        "    if ceps_encontrados:\n",
        "        print(\"CEPs encontrados:\")\n",
        "        for cep in ceps_encontrados:\n",
        "            print(cep)\n",
        "    else:\n",
        "        print(\"Nenhum CEP encontrado.\")"
      ]
    },
    {
      "cell_type": "markdown",
      "metadata": {
        "id": "HrspOjKhVGy5"
      },
      "source": [
        "**57. Tradutor de Números romanos.**"
      ]
    },
    {
      "cell_type": "code",
      "execution_count": null,
      "metadata": {
        "id": "LuuzIKdvVGy5"
      },
      "outputs": [],
      "source": [
        "def romano_para_arabico(romano):\n",
        "    valores = {'I': 1, 'V': 5, 'X': 10, 'L': 50, 'C': 100, 'D': 500, 'M': 1000}\n",
        "    arabico = 0\n",
        "    anterior = 0\n",
        "\n",
        "    for algarismo in romano[::-1]:\n",
        "        valor = valores[algarismo]\n",
        "        if valor < anterior:\n",
        "            arabico -= valor\n",
        "        else:\n",
        "            arabico += valor\n",
        "        anterior = valor\n",
        "\n",
        "    return arabico\n",
        "\n",
        "if __name__ == \"__main__\":\n",
        "    numero_romano = input(\"Digite um número em algarismos romanos: \")\n",
        "    numero_arabico = romano_para_arabico(numero_romano.upper())\n",
        "    print(f\"O número em algarismos arábicos é: {numero_arabico}\")"
      ]
    },
    {
      "cell_type": "markdown",
      "metadata": {
        "id": "wwV-AAw8VGy5"
      },
      "source": [
        "**58. Extrator de Código fonte html.**"
      ]
    },
    {
      "cell_type": "code",
      "execution_count": null,
      "metadata": {
        "id": "IT9GcwtEVGy5"
      },
      "outputs": [],
      "source": [
        "import re\n",
        "\n",
        "def extrair_codigo_fonte_html(texto):\n",
        "    # Padrão para encontrar código HTML em um texto\n",
        "    padrao = r'<.*?>'\n",
        "    codigo_fonte = re.sub(padrao, '', texto)\n",
        "    return codigo_fonte\n",
        "\n",
        "if __name__ == \"__main__\":\n",
        "    texto = input(\"Digite o texto contendo código HTML: \")\n",
        "    codigo_fonte_html = extrair_codigo_fonte_html(texto)\n",
        "    print(\"Código Fonte HTML Extraído:\")\n",
        "    print(codigo_fonte_html)"
      ]
    },
    {
      "cell_type": "markdown",
      "metadata": {
        "id": "LHS6yBe5VGy5"
      },
      "source": [
        "**59. Validador de URL's.**"
      ]
    },
    {
      "cell_type": "code",
      "execution_count": null,
      "metadata": {
        "id": "idwbA7AyVGy6"
      },
      "outputs": [],
      "source": [
        "import re\n",
        "\n",
        "def validar_url(url):\n",
        "    # Padrão para validar URLs simples\n",
        "    padrao = r'^(https?|ftp)://[^\\s/$.?#].[^\\s]*$'\n",
        "    return bool(re.match(padrao, url))\n",
        "\n",
        "if __name__ == \"__main__\":\n",
        "    url = input(\"Digite a URL a ser validada: \")\n",
        "    if validar_url(url):\n",
        "        print(\"URL válida.\")\n",
        "    else:\n",
        "        print(\"URL inválida.\")"
      ]
    },
    {
      "cell_type": "markdown",
      "metadata": {
        "id": "gE7sV0vrVGy6"
      },
      "source": [
        "**60. Extrator de Domínios.**"
      ]
    },
    {
      "cell_type": "code",
      "execution_count": null,
      "metadata": {
        "id": "R0xB9xnRVGy6"
      },
      "outputs": [],
      "source": [
        "import re\n",
        "\n",
        "def extrair_dominio(url):\n",
        "    # Padrão para extrair o domínio de uma URL\n",
        "    padrao = r'^(https?|ftp)://([^\\s/$.?#].[^\\s]*)'\n",
        "    match = re.match(padrao, url)\n",
        "    if match:\n",
        "        return match.group(2)\n",
        "    else:\n",
        "        return None\n",
        "\n",
        "if __name__ == \"__main__\":\n",
        "    url = input(\"Digite a URL para extrair o domínio: \")\n",
        "    dominio = extrair_dominio(url)\n",
        "    if dominio:\n",
        "        print(f\"Domínio extraído: {dominio}\")\n",
        "    else:\n",
        "        print(\"URL inválida.\")"
      ]
    },
    {
      "cell_type": "markdown",
      "metadata": {
        "id": "MkPDJrXsVGy6"
      },
      "source": [
        "**61. Validador de CPF.**"
      ]
    },
    {
      "cell_type": "code",
      "execution_count": null,
      "metadata": {
        "id": "WOD4drVLVGy6"
      },
      "outputs": [],
      "source": [
        "import re\n",
        "\n",
        "def validar_cpf(cpf):\n",
        "    # Expressão regular para validar CPF\n",
        "    padrao = re.compile(r'^\\d{3}\\.\\d{3}\\.\\d{3}-\\d{2}$|^\\d{11}$')\n",
        "\n",
        "    if re.match(padrao, cpf):\n",
        "        return True\n",
        "    else:\n",
        "        return False\n",
        "\n",
        "# Exemplo de uso\n",
        "cpf = input(\"Digite um CPF (no formato XXX.XXX.XXX-XX ou XXXXXXXXXXX): \")\n",
        "if validar_cpf(cpf):\n",
        "    print(\"CPF válido.\")\n",
        "else:\n",
        "    print(\"CPF inválido. Digite no formato XXX.XXX.XXX-XX ou XXXXXXXXXXX.\")"
      ]
    },
    {
      "cell_type": "markdown",
      "metadata": {
        "id": "UB3EZ_TFVGy6"
      },
      "source": [
        "**62. Analisador de Logs da Web.**"
      ]
    },
    {
      "cell_type": "code",
      "execution_count": null,
      "metadata": {
        "id": "ALFpdebbVGy6"
      },
      "outputs": [],
      "source": [
        "import re\n",
        "\n",
        "def analisar_log_web(log, padrao):\n",
        "    return re.findall(padrao, log)\n",
        "\n",
        "# Exemplo de uso\n",
        "log = \"192.168.1.1 - - [18/Sep/2023:08:30:45 -0400] 'GET /page HTTP/1.1' 200 1234\"\n",
        "padrao = r'\\b\\d{1,3}\\.\\d{1,3}\\.\\d{1,3}\\.\\d{1,3}\\b|\\[([^\\[\\]]+)\\]|\\b\\d{3}\\b'\n",
        "resultados = analisar_log_web(log, padrao)\n",
        "print(\"Informações encontradas:\")\n",
        "for resultado in resultados:\n",
        "    print(resultado)"
      ]
    },
    {
      "cell_type": "markdown",
      "metadata": {
        "id": "kxacIIaMVGy6"
      },
      "source": [
        "**63. Extrator de números de telefone Internacionais.**"
      ]
    },
    {
      "cell_type": "code",
      "execution_count": null,
      "metadata": {
        "id": "2Y7JVo7NVGy6"
      },
      "outputs": [],
      "source": [
        "import re\n",
        "\n",
        "def extrair_numeros_telefone_internacionais(texto):\n",
        "    # Expressão regular para extrair números de telefone internacionais\n",
        "    padrao = r'\\+\\d{1,3}\\s?\\d{1,4}[-\\s]?\\d{1,12}'\n",
        "\n",
        "    return re.findall(padrao, texto)\n",
        "\n",
        "# Exemplo de uso\n",
        "texto = \"Entre em contato conosco no +1 123-456-7890 ou +44 20 1234 5678.\"\n",
        "numeros = extrair_numeros_telefone_internacionais(texto)\n",
        "print(\"Números de telefone internacionais encontrados:\")\n",
        "for numero in numeros:\n",
        "    print(numero)"
      ]
    },
    {
      "cell_type": "markdown",
      "metadata": {
        "id": "ImNWArCtVGy6"
      },
      "source": [
        "**64. Validador de Placas de Carro.**"
      ]
    },
    {
      "cell_type": "code",
      "execution_count": null,
      "metadata": {
        "id": "iasto9UXVGy7"
      },
      "outputs": [],
      "source": [
        "import re\n",
        "\n",
        "def extrair_numeros_telefone_internacionais(texto):\n",
        "    # Expressão regular para extrair números de telefone internacionais\n",
        "    padrao = r'\\+\\d{1,3}\\s?\\d{1,4}[-\\s]?\\d{1,12}'\n",
        "\n",
        "    return re.findall(padrao, texto)\n",
        "\n",
        "# Exemplo de uso\n",
        "texto = \"Entre em contato conosco no +1 123-456-7890 ou +44 20 1234 5678.\"\n",
        "numeros = extrair_numeros_telefone_internacionais(texto)\n",
        "print(\"Números de telefone internacionais encontrados:\")\n",
        "for numero in numeros:\n",
        "    print(numero)"
      ]
    },
    {
      "cell_type": "markdown",
      "metadata": {
        "id": "ynZIsPMnVGy7"
      },
      "source": [
        "**65. Pesquisa de Expressões Regulares em Arquivos.**"
      ]
    },
    {
      "cell_type": "code",
      "execution_count": null,
      "metadata": {
        "id": "lBdKngyZVGy7"
      },
      "outputs": [],
      "source": [
        "import re\n",
        "import os\n",
        "\n",
        "def pesquisar_em_arquivos(padrao, diretorio):\n",
        "    resultados = []\n",
        "\n",
        "    for raiz, _, arquivos in os.walk(diretorio):\n",
        "        for arquivo in arquivos:\n",
        "            caminho_arquivo = os.path.join(raiz, arquivo)\n",
        "            with open(caminho_arquivo, 'r', encoding='utf-8') as f:\n",
        "                conteudo = f.read()\n",
        "                correspondencias = re.findall(padrao, conteudo)\n",
        "                if correspondencias:\n",
        "                    resultados.append((caminho_arquivo, correspondencias))\n",
        "\n",
        "    return resultados\n",
        "\n",
        "# Exemplo de uso\n",
        "padrao = r'\\bexpressao_regular\\b'\n",
        "diretorio = '.'  # Diretório atual, você pode especificar um diretório diferente\n",
        "resultados = pesquisar_em_arquivos(padrao, diretorio)\n",
        "\n",
        "if resultados:\n",
        "    print(\"Correspondências encontradas:\")\n",
        "    for caminho_arquivo, correspondencias in resultados:\n",
        "        print(f\"Arquivo: {caminho_arquivo}\")\n",
        "        for correspondencia in correspondencias:\n",
        "            print(f\"  - {correspondencia}\")\n",
        "else:\n",
        "    print(\"Nenhuma correspondência encontrada.\")"
      ]
    },
    {
      "cell_type": "markdown",
      "metadata": {
        "id": "5l0MVLq0VGy7"
      },
      "source": [
        "**66. Validador de Cartão de Crédito.**"
      ]
    },
    {
      "cell_type": "code",
      "execution_count": null,
      "metadata": {
        "id": "cuYsIpE6VGy7"
      },
      "outputs": [],
      "source": [
        "import re\n",
        "\n",
        "def validar_cartao_credito(numero):\n",
        "    # Expressão regular para validar números de cartão de crédito\n",
        "    padrao = re.compile(r'^\\d{4}-\\d{4}-\\d{4}-\\d{4}$|^\\d{16}$')\n",
        "\n",
        "    if re.match(padrao, numero):\n",
        "        return True\n",
        "    else:\n",
        "        return False\n",
        "\n",
        "# Exemplo de uso\n",
        "numero_cartao = input(\"Digite um número de cartão de crédito (no formato XXXX-XXXX-XXXX-XXXX ou XXXXXXXXXXXXXXXX): \")\n",
        "if validar_cartao_credito(numero_cartao):\n",
        "    print(\"Número de cartão de crédito válido.\")\n",
        "else:\n",
        "    print(\"Número de cartão de crédito inválido. Digite no formato XXXX-XXXX-XXXX-XXXX ou XXXXXXXXXXXXXXXX.\")"
      ]
    },
    {
      "cell_type": "markdown",
      "metadata": {
        "id": "JfXwtHa7VGy7"
      },
      "source": [
        "**67. Processador de Texto com Marcação.**"
      ]
    },
    {
      "cell_type": "code",
      "execution_count": null,
      "metadata": {
        "id": "qCvgXJBvVGy7"
      },
      "outputs": [],
      "source": [
        "import re\n",
        "\n",
        "def processar_texto_com_marcacao(texto):\n",
        "    # Expressões regulares para encontrar marcações e aplicar formatação\n",
        "    negrito = re.compile(r'\\*\\*(.*?)\\*\\*')\n",
        "    italico = re.compile(r'_(.*?)_')\n",
        "\n",
        "    # Aplicar formatação para negrito e itálico\n",
        "    texto_formatado = negrito.sub(r'<b>\\1</b>', texto)\n",
        "    texto_formatado = italico.sub(r'<i>\\1</i>', texto_formatado)\n",
        "\n",
        "    return texto_formatado\n",
        "\n",
        "# Exemplo de uso\n",
        "texto_original = \"Este é um exemplo **de texto** com _marcações_.\"\n",
        "texto_formatado = processar_texto_com_marcacao(texto_original)\n",
        "print(texto_formatado)"
      ]
    },
    {
      "cell_type": "markdown",
      "metadata": {
        "id": "EAr7ywsoVGy7"
      },
      "source": [
        "**68. Analisador de Endereços IP.**"
      ]
    },
    {
      "cell_type": "code",
      "execution_count": null,
      "metadata": {
        "id": "WEvTU218VGy7"
      },
      "outputs": [],
      "source": [
        "import re\n",
        "\n",
        "def analisar_enderecos_ip(texto):\n",
        "    # Expressão regular para encontrar endereços IP\n",
        "    padrao = r'\\b\\d{1,3}\\.\\d{1,3}\\.\\d{1,3}\\.\\d{1,3}\\b'\n",
        "\n",
        "    enderecos = re.findall(padrao, texto)\n",
        "\n",
        "    categorias = {\n",
        "        'IPv4': [],\n",
        "        'IPv6': [],\n",
        "    }\n",
        "\n",
        "    for endereco in enderecos:\n",
        "        if '.' in endereco:\n",
        "            categorias['IPv4'].append(endereco)\n",
        "        else:\n",
        "            categorias['IPv6'].append(endereco)\n",
        "\n",
        "    return categorias\n",
        "\n",
        "# Exemplo de uso\n",
        "texto = \"Endereços IP válidos na rede: 192.168.1.1, 2001:0db8:85a3:0000:0000:8a2e:0370:7334.\"\n",
        "resultados = analisar_enderecos_ip(texto)\n",
        "print(\"Endereços IPv4 encontrados:\")\n",
        "print(resultados['IPv4'])\n",
        "print(\"Endereços IPv6 encontrados:\")\n",
        "print(resultados['IPv6'])"
      ]
    },
    {
      "cell_type": "markdown",
      "metadata": {
        "id": "Iskh03qoVGy7"
      },
      "source": [
        "**69. Validador de Números de registro nacional.**"
      ]
    },
    {
      "cell_type": "code",
      "execution_count": null,
      "metadata": {
        "id": "5zoaZdrqVGy7"
      },
      "outputs": [],
      "source": [
        "import re\n",
        "\n",
        "def validar_numero_registro_nacional(registro):\n",
        "    # Expressão regular para validar números de registro nacional (por exemplo, RG no Brasil)\n",
        "    padrao = re.compile(r'^\\d{1,10}$')\n",
        "\n",
        "    if re.match(padrao, registro):\n",
        "        return True\n",
        "    else:\n",
        "        return False\n",
        "\n",
        "# Exemplo de uso\n",
        "registro = input(\"Digite um número de registro nacional (por exemplo, RG): \")\n",
        "if validar_numero_registro_nacional(registro):\n",
        "    print(\"Número de registro nacional válido.\")\n",
        "else:\n",
        "    print(\"Número de registro nacional inválido. Digite no formato numérico.\")"
      ]
    },
    {
      "cell_type": "markdown",
      "metadata": {
        "id": "ti-_qIzHVGy7"
      },
      "source": [
        "**70. Extrator de Endereções de E-mail a partir do documento PDF.**"
      ]
    },
    {
      "cell_type": "code",
      "execution_count": null,
      "metadata": {
        "id": "P5Bo7MDoVGy7"
      },
      "outputs": [],
      "source": [
        "import re\n",
        "import PyPDF2\n",
        "\n",
        "def extrair_emails_de_pdf(arquivo_pdf):\n",
        "    emails = []\n",
        "\n",
        "    with open(arquivo_pdf, 'rb') as pdf_file:\n",
        "        pdf_reader = PyPDF2.PdfFileReader(pdf_file)\n",
        "        for page_num in range(pdf_reader.getNumPages()):\n",
        "            page = pdf_reader.getPage(page_num)\n",
        "            text = page.extractText()\n",
        "            padrao = r'\\b[A-Za-z0-9._%+-]+@[A-Za-z0-9.-]+\\.[A-Z|a-z]{2,7}\\b'\n",
        "            emails.extend(re.findall(padrao, text))\n",
        "\n",
        "    return emails\n",
        "\n",
        "# Exemplo de uso\n",
        "arquivo_pdf = \"exemplo.pdf\"  # Substitua pelo nome do seu arquivo PDF\n",
        "emails_encontrados = extrair_emails_de_pdf(arquivo_pdf)\n",
        "print(\"E-mails encontrados no PDF:\")\n",
        "for email in emails_encontrados:\n",
        "    print(email)"
      ]
    },
    {
      "cell_type": "markdown",
      "metadata": {
        "id": "n9N_w4TIVGy8"
      },
      "source": [
        "**71. Validador de Cep**"
      ]
    },
    {
      "cell_type": "code",
      "execution_count": null,
      "metadata": {
        "id": "cv9rz-knVGy8"
      },
      "outputs": [],
      "source": [
        "import re\n",
        "\n",
        "def validar_cep(cep):\n",
        "    # Expressão regular para validar CEP no formato XXXXX-XXX ou XXXXXXXX\n",
        "    padrao = re.compile(r'^\\d{5}-\\d{3}$|^\\d{8}$')\n",
        "\n",
        "    if re.match(padrao, cep):\n",
        "        return True\n",
        "    else:\n",
        "        return False\n",
        "\n",
        "# Exemplo de uso\n",
        "cep = input(\"Digite um CEP (no formato XXXXX-XXX ou XXXXXXXX): \")\n",
        "if validar_cep(cep):\n",
        "    print(\"CEP válido.\")\n",
        "else:\n",
        "    print(\"CEP inválido. Digite no formato XXXXX-XXX ou XXXXXXXX.\")"
      ]
    },
    {
      "cell_type": "markdown",
      "metadata": {
        "id": "KrbtV-RAVGy8"
      },
      "source": [
        "**72. Extrator de Datas.**"
      ]
    },
    {
      "cell_type": "code",
      "execution_count": null,
      "metadata": {
        "id": "ONxRY_jAVGy8"
      },
      "outputs": [],
      "source": [
        "import re\n",
        "\n",
        "def extrair_datas(texto):\n",
        "    # Expressão regular para extrair datas no formato DD/MM/AAAA\n",
        "    padrao = r'\\b(\\d{2}/\\d{2}/\\d{4})\\b'\n",
        "\n",
        "    return re.findall(padrao, texto)\n",
        "\n",
        "# Exemplo de uso\n",
        "texto = \"A reunião está marcada para o dia 18/09/2023. Não esqueça da data 22/10/2023.\"\n",
        "datas = extrair_datas(texto)\n",
        "print(\"Datas encontradas:\")\n",
        "for data in datas:\n",
        "    print(data)"
      ]
    },
    {
      "cell_type": "markdown",
      "metadata": {
        "id": "Zx-aRCQ9VGy8"
      },
      "source": [
        "**73. Validador de Números de Telefone.**"
      ]
    },
    {
      "cell_type": "code",
      "execution_count": null,
      "metadata": {
        "id": "XlqU1nBPVGy8"
      },
      "outputs": [],
      "source": [
        "import re\n",
        "\n",
        "def validar_numero_telefone(numero):\n",
        "    # Expressão regular para validar números de telefone no formato (XX) XXXXX-XXXX ou XXXXX-XXXX\n",
        "    padrao = re.compile(r'^\\((\\d{2})\\)\\s?(\\d{5}-\\d{4}|\\d{4}-\\d{4})$')\n",
        "\n",
        "    if re.match(padrao, numero):\n",
        "        return True\n",
        "    else:\n",
        "        return False\n",
        "\n",
        "# Exemplo de uso\n",
        "numero_telefone = input(\"Digite um número de telefone (no formato (XX) XXXXX-XXXX ou XXXXX-XXXX): \")\n",
        "if validar_numero_telefone(numero_telefone):\n",
        "    print(\"Número de telefone válido.\")\n",
        "else:\n",
        "    print(\"Número de telefone inválido. Digite no formato (XX) XXXXX-XXXX ou XXXXX-XXXX.\")"
      ]
    },
    {
      "cell_type": "markdown",
      "metadata": {
        "id": "sNBKxI63VGy8"
      },
      "source": [
        "**74. Analisador de Log.**"
      ]
    },
    {
      "cell_type": "code",
      "execution_count": null,
      "metadata": {
        "id": "lQ9jU4cMVGy8"
      },
      "outputs": [],
      "source": [
        "import re\n",
        "\n",
        "def analisar_log(log, padrao):\n",
        "    return re.findall(padrao, log)\n",
        "\n",
        "# Exemplo de uso\n",
        "log = \"2023-09-18 08:30:45 - Erro: Ocorreu um erro inesperado no servidor.\"\n",
        "padrao = r'\\d{4}-\\d{2}-\\d{2} \\d{2}:\\d{2}:\\d{2}'\n",
        "resultados = analisar_log(log, padrao)\n",
        "print(\"Datas encontradas:\")\n",
        "for resultado in resultados:\n",
        "    print(resultado)"
      ]
    },
    {
      "cell_type": "markdown",
      "metadata": {
        "id": "jHLkFYd9VGy8"
      },
      "source": [
        "**75. Filtragem de Dados.**"
      ]
    },
    {
      "cell_type": "code",
      "execution_count": null,
      "metadata": {
        "id": "wQHwmhdpVGy9"
      },
      "outputs": [],
      "source": [
        "import re\n",
        "\n",
        "def filtrar_dados(texto, padrao):\n",
        "    return re.findall(padrao, texto)\n",
        "\n",
        "# Exemplo de uso\n",
        "texto = \"Lorem ipsum 42 dolor sit amet, consectetur adipiscing elit. Fusce 12345 euismod 6789.\"\n",
        "padrao = r'\\d+'\n",
        "resultados = filtrar_dados(texto, padrao)\n",
        "print(\"Números encontrados:\")\n",
        "for resultado in resultados:\n",
        "    print(resultado)"
      ]
    },
    {
      "cell_type": "markdown",
      "metadata": {
        "id": "vZQR5M2IVGy9"
      },
      "source": [
        "**76. Verificador de Senhas Fortes.**"
      ]
    },
    {
      "cell_type": "code",
      "execution_count": null,
      "metadata": {
        "id": "BCLx_YbAVGy9"
      },
      "outputs": [],
      "source": [
        "import re\n",
        "\n",
        "def verificar_senha_forte(senha):\n",
        "    # Expressão regular para verificar senhas fortes\n",
        "    padrao = r'^(?=.*[a-z])(?=.*[A-Z])(?=.*\\d)(?=.*[@$!%*?&])[A-Za-z\\d@$!%*?&]{8,}$'\n",
        "\n",
        "    if re.match(padrao, senha):\n",
        "        return True\n",
        "    else:\n",
        "        return False\n",
        "\n",
        "# Exemplo de uso\n",
        "senha = input(\"Digite uma senha: \")\n",
        "if verificar_senha_forte(senha):\n",
        "    print(\"Senha forte.\")\n",
        "else:\n",
        "    print(\"Senha fraca. A senha deve conter pelo menos 8 caracteres, incluindo maiúsculas, minúsculas, números e caracteres especiais.\")"
      ]
    },
    {
      "cell_type": "markdown",
      "metadata": {
        "id": "bCwhuzYsVGy9"
      },
      "source": [
        "**77. Contador de Palavras - Chave.**"
      ]
    },
    {
      "cell_type": "code",
      "execution_count": null,
      "metadata": {
        "id": "6bOahy42VGy9"
      },
      "outputs": [],
      "source": [
        "import re\n",
        "\n",
        "def contar_palavras_chave(texto, palavra_chave):\n",
        "    # Expressão regular para encontrar a palavra-chave\n",
        "    padrao = re.compile(r'\\b' + re.escape(palavra_chave) + r'\\b', re.IGNORECASE)\n",
        "\n",
        "    ocorrencias = len(re.findall(padrao, texto))\n",
        "    return ocorrencias\n",
        "\n",
        "# Exemplo de uso\n",
        "texto = \"Python é uma linguagem de programação. Programar em python é fácil e Python é popular.\"\n",
        "palavra_chave = \"Python\"\n",
        "ocorrencias = contar_palavras_chave(texto, palavra_chave)\n",
        "print(f\"A palavra-chave '{palavra_chave}' ocorre {ocorrencias} vezes no texto.\")"
      ]
    },
    {
      "cell_type": "markdown",
      "metadata": {
        "id": "AOsjp8lcVGy9"
      },
      "source": [
        "**78. Validador de E-mail.**"
      ]
    },
    {
      "cell_type": "code",
      "execution_count": null,
      "metadata": {
        "id": "DV_MWWZoVGy9"
      },
      "outputs": [],
      "source": [
        "import re\n",
        "\n",
        "def validar_email(email):\n",
        "    # Expressão regular para validar e-mails\n",
        "    padrao = r'^[\\w\\.-]+@[\\w\\.-]+\\.\\w+$'\n",
        "\n",
        "    if re.match(padrao, email):\n",
        "        return True\n",
        "    else:\n",
        "        return False\n",
        "\n",
        "# Exemplo de uso\n",
        "email = input(\"Digite um endereço de e-mail: \")\n",
        "if validar_email(email):\n",
        "    print(\"E-mail válido.\")\n",
        "else:\n",
        "    print(\"E-mail inválido.\")"
      ]
    },
    {
      "cell_type": "markdown",
      "metadata": {
        "id": "Hj_74zFIVGy9"
      },
      "source": [
        "**79. Extrator de URL’s.**"
      ]
    },
    {
      "cell_type": "code",
      "execution_count": null,
      "metadata": {
        "id": "41Xl19-FVGy9"
      },
      "outputs": [],
      "source": [
        "import re\n",
        "\n",
        "def extrair_urls(texto):\n",
        "    # Expressão regular para extrair URLs\n",
        "    padrao = r'https?://\\S+'\n",
        "\n",
        "    return re.findall(padrao, texto)\n",
        "\n",
        "# Exemplo de uso\n",
        "texto = \"Acesse o nosso site em https://www.example.com para obter mais informações. Visite também http://www.test.com.\"\n",
        "urls = extrair_urls(texto)\n",
        "print(\"URLs encontradas:\")\n",
        "for url in urls:\n",
        "    print(url)"
      ]
    },
    {
      "cell_type": "markdown",
      "metadata": {
        "id": "LyCMyhSbVGy9"
      },
      "source": [
        "**80. Identificador de Formatos de Arquivos.**"
      ]
    },
    {
      "cell_type": "code",
      "execution_count": null,
      "metadata": {
        "id": "mjYnW8L4VGy9"
      },
      "outputs": [],
      "source": [
        "import re\n",
        "\n",
        "def identificar_formato_arquivo(arquivo):\n",
        "    # Dicionário de padrões de assinaturas binárias para formatos de arquivo conhecidos\n",
        "    padroes_formatos = {\n",
        "        \"JPEG\": b'\\xFF\\xD8\\xFF',\n",
        "        \"PNG\": b'\\x89\\x50\\x4E\\x47',\n",
        "        \"PDF\": b'\\x25\\x50\\x44\\x46\\x2D',\n",
        "        # Adicione mais formatos conforme necessário\n",
        "    }\n",
        "\n",
        "    with open(arquivo, 'rb') as f:\n",
        "        dados = f.read(4)\n",
        "        for formato, padrao in padroes_formatos.items():\n",
        "            if dados.startswith(padrao):\n",
        "                return formato\n",
        "\n",
        "    return \"Formato desconhecido\"\n",
        "\n",
        "# Exemplo de uso\n",
        "arquivo = \"exemplo.jpg\"  # Substitua pelo nome do seu arquivo\n",
        "formato = identificar_formato_arquivo(arquivo)\n",
        "print(f\"O formato do arquivo '{arquivo}' é: {formato}\")"
      ]
    },
    {
      "cell_type": "markdown",
      "metadata": {
        "id": "GPJ2WfSjVGy9"
      },
      "source": [
        "**81. Analisador de Logs de Servidor.**"
      ]
    },
    {
      "cell_type": "code",
      "execution_count": null,
      "metadata": {
        "id": "s3F9AMIlVGy-"
      },
      "outputs": [],
      "source": [
        "import re\n",
        "\n",
        "# Exemplo de um log de servidor\n",
        "log = \"\"\"\n",
        "192.168.1.1 - - [10/Mar/2023:10:45:32] \"GET /page1 HTTP/1.1\" 200 3402\n",
        "192.168.1.2 - - [10/Mar/2023:10:46:20] \"GET /page2 HTTP/1.1\" 404 1234\n",
        "192.168.1.3 - - [10/Mar/2023:10:47:15] \"GET /page1 HTTP/1.1\" 200 6543\n",
        "\"\"\"\n",
        "\n",
        "# Expressão regular para extrair endereços IP e URLs do log\n",
        "pattern = r'(\\d+\\.\\d+\\.\\d+\\.\\d+) - - \\[(.*?)\\] \"(GET|POST) (.*?) HTTP/1.1\" (\\d+) (\\d+)'\n",
        "\n",
        "matches = re.findall(pattern, log)\n",
        "for match in matches:\n",
        "    ip, timestamp, method, url, status, bytes_sent = match\n",
        "    print(f\"IP: {ip}, Timestamp: {timestamp}, Method: {method}, URL: {url}, Status: {status}, Bytes Sent: {bytes_sent}\")"
      ]
    },
    {
      "cell_type": "markdown",
      "metadata": {
        "id": "FXX9xhHvVGy-"
      },
      "source": [
        "**82. Extrator de Dados de Páginas da Web.**"
      ]
    },
    {
      "cell_type": "code",
      "execution_count": null,
      "metadata": {
        "id": "QfIlSq8_VGy-"
      },
      "outputs": [],
      "source": [
        "from bs4 import BeautifulSoup\n",
        "import requests\n",
        "import re\n",
        "\n",
        "# URL da página da web de exemplo\n",
        "url = \"https://example.com\"\n",
        "\n",
        "# Realize uma solicitação HTTP para obter o conteúdo da página\n",
        "response = requests.get(url)\n",
        "html = response.text\n",
        "\n",
        "# Use BeautifulSoup para analisar o HTML\n",
        "soup = BeautifulSoup(html, 'html.parser')\n",
        "\n",
        "# Encontre todos os links na página usando expressões regulares\n",
        "links = soup.find_all('a', href=re.compile(r'https://example\\.com/.*'))\n",
        "\n",
        "# Extraia e imprima os títulos e URLs dos links\n",
        "for link in links:\n",
        "    title = link.text\n",
        "    url = link['href']\n",
        "    print(f\"Link Title: {title}, URL: {url}\")"
      ]
    },
    {
      "cell_type": "markdown",
      "metadata": {
        "id": "Y7eSV2pOVGy-"
      },
      "source": [
        "**83. Conversor de Formatos de Data.**"
      ]
    },
    {
      "cell_type": "code",
      "execution_count": null,
      "metadata": {
        "id": "lNHDf0ACVGy-"
      },
      "outputs": [],
      "source": [
        "import re\n",
        "\n",
        "# Expressão regular para encontrar datas no formato \"dd/mm/aaaa\"\n",
        "data_pattern = r'(\\d{2})/(\\d{2})/(\\d{4})'\n",
        "\n",
        "# Função para substituir o formato da data\n",
        "def converter_data(match):\n",
        "    dia, mes, ano = match.groups()\n",
        "    nova_data = f\"{ano}-{mes}-{dia}\"\n",
        "    return nova_data\n",
        "\n",
        "# Texto de exemplo com datas no formato \"dd/mm/aaaa\"\n",
        "texto = \"A data de nascimento é 25/12/1990 e o evento ocorreu em 30/04/2022.\"\n",
        "\n",
        "# Use re.sub() com a função de substituição para converter as datas\n",
        "texto_convertido = re.sub(data_pattern, converter_data, texto)\n",
        "\n",
        "print(texto_convertido)"
      ]
    },
    {
      "cell_type": "markdown",
      "metadata": {
        "id": "hELzAnxeVGy-"
      },
      "source": [
        "**84. Busca e Substituição de Texto em Lote.**"
      ]
    },
    {
      "cell_type": "code",
      "execution_count": null,
      "metadata": {
        "id": "754LTLVwVGy-"
      },
      "outputs": [],
      "source": [
        "import os\n",
        "import re\n",
        "\n",
        "# Diretório onde os arquivos .txt estão localizados\n",
        "diretorio = \"caminho/para/seu/diretorio\"\n",
        "\n",
        "# Palavra a ser substituída\n",
        "palavra_antiga = \"palavra_antiga\"\n",
        "palavra_nova = \"palavra_nova\"\n",
        "\n",
        "# Expressão regular para encontrar a palavra antiga\n",
        "padrao = re.compile(r'\\b' + re.escape(palavra_antiga) + r'\\b')\n",
        "\n",
        "# Percorre todos os arquivos .txt no diretório\n",
        "for root, _, files in os.walk(diretorio):\n",
        "    for file in files:\n",
        "        if file.endswith(\".txt\"):\n",
        "            file_path = os.path.join(root, file)\n",
        "\n",
        "            # Abre o arquivo, lê seu conteúdo e substitui a palavra\n",
        "            with open(file_path, 'r') as f:\n",
        "                conteudo = f.read()\n",
        "                conteudo_modificado = re.sub(padrao, palavra_nova, conteudo)\n",
        "\n",
        "            # Escreve o conteúdo modificado de volta no arquivo\n",
        "            with open(file_path, 'w') as f:\n",
        "                f.write(conteudo_modificado)\n",
        "\n",
        "print(\"Substituição de texto em lote concluída.\")"
      ]
    },
    {
      "cell_type": "markdown",
      "metadata": {
        "id": "hcj3MsLJVGy-"
      },
      "source": [
        "**85. Verificador de Links Quebrados em Sites.**"
      ]
    },
    {
      "cell_type": "code",
      "execution_count": null,
      "metadata": {
        "id": "StbBrH1ZVGy-"
      },
      "outputs": [],
      "source": [
        "import requests\n",
        "from bs4 import BeautifulSoup\n",
        "import re\n",
        "\n",
        "# URL do site a ser verificado\n",
        "url = \"https://example.com\"\n",
        "\n",
        "# Realize uma solicitação HTTP para obter o conteúdo da página\n",
        "response = requests.get(url)\n",
        "html = response.text\n",
        "\n",
        "# Use BeautifulSoup para analisar o HTML\n",
        "soup = BeautifulSoup(html, 'html.parser')\n",
        "\n",
        "# Encontre todos os links na página\n",
        "links = soup.find_all('a', href=True)\n",
        "\n",
        "for link in links:\n",
        "    link_url = link['href']\n",
        "    if not re.match(r'http', link_url):  # Verifique se o link é relativo\n",
        "        link_url = url + link_url  # Converta para um URL absoluto\n",
        "\n",
        "    try:\n",
        "        # Faça uma solicitação HEAD para verificar se o link está ativo\n",
        "        response = requests.head(link_url)\n",
        "        if response.status_code == 200:\n",
        "            print(f\"Link válido: {link_url}\")\n",
        "        else:\n",
        "            print(f\"Link quebrado: {link_url}\")\n",
        "    except requests.exceptions.RequestException as e:\n",
        "        print(f\"Erro ao verificar o link: {link_url}\")"
      ]
    },
    {
      "cell_type": "markdown",
      "metadata": {
        "id": "d8ZsDx-8VGy-"
      },
      "source": [
        "**86. Reconhecimento de Padrões em Texto.**"
      ]
    },
    {
      "cell_type": "code",
      "execution_count": null,
      "metadata": {
        "id": "gLh68wiCVGy-"
      },
      "outputs": [],
      "source": [
        "import re\n",
        "\n",
        "# Expressão regular para encontrar números de telefone no formato (123) 456-7890\n",
        "padrao_telefone = r'\\(\\d{3}\\) \\d{3}-\\d{4}'\n",
        "\n",
        "# Texto de exemplo com números de telefone\n",
        "texto = \"Entre em contato conosco pelo telefone (123) 456-7890 ou visite nosso site.\"\n",
        "\n",
        "# Use re.findall() para encontrar números de telefone no texto\n",
        "numeros_telefone = re.findall(padrao_telefone, texto)\n",
        "\n",
        "print(\"Números de telefone encontrados:\")\n",
        "for numero in numeros_telefone:\n",
        "    print(numero)"
      ]
    },
    {
      "cell_type": "markdown",
      "metadata": {
        "id": "dpGk1odoVGy-"
      },
      "source": [
        "**87. Extrator de Código Postal.**"
      ]
    },
    {
      "cell_type": "code",
      "execution_count": null,
      "metadata": {
        "id": "-QF84hthVGy-"
      },
      "outputs": [],
      "source": [
        "import re\n",
        "\n",
        "# Expressão regular para extrair códigos postais no formato \"12345-678\"\n",
        "padrao_cep = r'\\b\\d{5}-\\d{3}\\b'\n",
        "\n",
        "# Texto de exemplo com códigos postais\n",
        "texto = \"O CEP da minha casa é 12345-678 e o CEP da minha empresa é 98765-432.\"\n",
        "\n",
        "# Use re.findall() para encontrar códigos postais no texto\n",
        "ceps_encontrados = re.findall(padrao_cep, texto)\n",
        "\n",
        "print(\"Códigos postais encontrados:\")\n",
        "for cep in ceps_encontrados:\n",
        "    print(cep)"
      ]
    },
    {
      "cell_type": "markdown",
      "metadata": {
        "id": "5DCtAXQbVGy-"
      },
      "source": [
        "**88. Validador de Cartões de Crédito.**"
      ]
    },
    {
      "cell_type": "code",
      "execution_count": null,
      "metadata": {
        "id": "Tr2GZObPVGy_"
      },
      "outputs": [],
      "source": [
        "import re\n",
        "\n",
        "# Expressão regular para validar números de cartões de crédito\n",
        "padrao_cartao = r'^\\d{13,19}$'\n",
        "\n",
        "# Função para validar números de cartão de crédito usando o algoritmo de Luhn\n",
        "def validar_cartao(numero):\n",
        "    numero = list(map(int, numero[::-1]))\n",
        "    total = sum(numero[0::2]) + sum(sum(divmod(d * 2, 10)) for d in numero[1::2])\n",
        "    return total % 10 == 0\n",
        "\n",
        "# Números de cartão de crédito de exemplo\n",
        "cartoes = [\"4532015112830366\", \"6011000990139424\", \"378282246310005\", \"1234567890123456\"]\n",
        "\n",
        "for cartao in cartoes:\n",
        "    if re.match(padrao_cartao, cartao) and validar_cartao(cartao):\n",
        "        print(f\"Cartão válido: {cartao}\")\n",
        "    else:\n",
        "        print(f\"Cartão inválido: {cartao}\")"
      ]
    },
    {
      "cell_type": "markdown",
      "metadata": {
        "id": "Fvxz9fzVVGy_"
      },
      "source": [
        "**89. Resumo de Artigos Científicos.**"
      ]
    },
    {
      "cell_type": "code",
      "execution_count": null,
      "metadata": {
        "id": "To0bdW1IVGy_"
      },
      "outputs": [],
      "source": [
        "import re\n",
        "\n",
        "# Expressões regulares para extrair informações de um artigo científico\n",
        "padrao_autores = r'Autores: (.*)'\n",
        "padrao_data = r'Data de Publicação: (\\d{2}/\\d{2}/\\d{4})'\n",
        "padrao_resultados = r'Resultados: (.*)'\n",
        "\n",
        "# Texto de exemplo de um artigo científico\n",
        "artigo = \"\"\"\n",
        "Título: Descoberta de um Novo Medicamento\n",
        "\n",
        "Autores: John Doe, Jane Smith\n",
        "\n",
        "Data de Publicação: 15/09/2022\n",
        "\n",
        "Resumo: Este artigo descreve a pesquisa e os resultados da descoberta de um novo medicamento para tratar doenças.\n",
        "\n",
        "Resultados: O medicamento mostrou eficácia em 95% dos casos testados.\n",
        "\"\"\"\n",
        "\n",
        "# Extrair informações do artigo usando expressões regulares\n",
        "autores = re.search(padrao_autores, artigo).group(1)\n",
        "data_publicacao = re.search(padrao_data, artigo).group(1)\n",
        "resultados = re.search(padrao_resultados, artigo).group(1)\n",
        "\n",
        "# Imprimir as informações extraídas\n",
        "print(f\"Autores: {autores}\")\n",
        "print(f\"Data de Publicação: {data_publicacao}\")\n",
        "print(f\"Resultados: {resultados}\")"
      ]
    },
    {
      "cell_type": "markdown",
      "metadata": {
        "id": "aBMCVRGlVGy_"
      },
      "source": [
        "**90. Extrator de Metadados de Música.**"
      ]
    },
    {
      "cell_type": "code",
      "execution_count": null,
      "metadata": {
        "id": "ACF55hZBVGy_"
      },
      "outputs": [],
      "source": [
        "import re\n",
        "\n",
        "# Expressões regulares para extrair metadados de música\n",
        "padrao_titulo = r'Título: (.*)'\n",
        "padrao_artista = r'Artista: (.*)'\n",
        "padrao_album = r'Álbum: (.*)'\n",
        "padrao_ano = r'Ano de Lançamento: (\\d{4})'\n",
        "\n",
        "# Texto de exemplo com metadados de música\n",
        "metadados_musica = \"\"\"\n",
        "Título: Música de Exemplo\n",
        "Artista: Artista da Música\n",
        "Álbum: Álbum de Exemplo\n",
        "Ano de Lançamento: 2022\n",
        "\"\"\"\n",
        "\n",
        "# Extrair metadados da música usando expressões regulares\n",
        "titulo = re.search(padrao_titulo, metadados_musica).group(1)\n",
        "artista = re.search(padrao_artista, metadados_musica).group(1)\n",
        "album = re.search(padrao_album, metadados_musica).group(1)\n",
        "ano = re.search(padrao_ano, metadados_musica).group(1)\n",
        "\n",
        "# Imprimir os metadados extraídos\n",
        "print(f\"Título: {titulo}\")\n",
        "print(f\"Artista: {artista}\")\n",
        "print(f\"Álbum: {album}\")\n",
        "print(f\"Ano de Lançamento: {ano}\")"
      ]
    },
    {
      "cell_type": "markdown",
      "metadata": {
        "id": "DO3SE5GLVGy_"
      },
      "source": [
        "**91. Verificador de CPF e CNPJ.**"
      ]
    },
    {
      "cell_type": "code",
      "execution_count": null,
      "metadata": {
        "id": "oc2bqe3QVGy_"
      },
      "outputs": [],
      "source": [
        "import re\n",
        "\n",
        "def validar_cpf(cpf):\n",
        "    # Remove caracteres não numéricos do CPF\n",
        "    cpf = re.sub(r'[^0-9]', '', cpf)\n",
        "\n",
        "    # Verifica se o CPF tem 11 dígitos\n",
        "    if len(cpf) != 11:\n",
        "        return False\n",
        "\n",
        "    # Calcula o primeiro dígito verificador do CPF\n",
        "    soma = 0\n",
        "    for i in range(9):\n",
        "        soma += int(cpf[i]) * (10 - i)\n",
        "    digito1 = 11 - (soma % 11)\n",
        "    if digito1 == 10 or digito1 == 11:\n",
        "        digito1 = 0\n",
        "\n",
        "    # Verifica o primeiro dígito verificador\n",
        "    if digito1 != int(cpf[9]):\n",
        "        return False\n",
        "\n",
        "    # Calcula o segundo dígito verificador do CPF\n",
        "    soma = 0\n",
        "    for i in range(10):\n",
        "        soma += int(cpf[i]) * (11 - i)\n",
        "    digito2 = 11 - (soma % 11)\n",
        "    if digito2 == 10 or digito2 == 11:\n",
        "        digito2 = 0\n",
        "\n",
        "    # Verifica o segundo dígito verificador\n",
        "    if digito2 != int(cpf[10]):\n",
        "        return False\n",
        "\n",
        "    return True\n",
        "\n",
        "def validar_cnpj(cnpj):\n",
        "    # Remove caracteres não numéricos do CNPJ\n",
        "    cnpj = re.sub(r'[^0-9]', '', cnpj)\n",
        "\n",
        "    # Verifica se o CNPJ tem 14 dígitos\n",
        "    if len(cnpj) != 14:\n",
        "        return False\n",
        "\n",
        "    # Calcula o primeiro dígito verificador do CNPJ\n",
        "    soma = 0\n",
        "    for i in range(4):\n",
        "        soma += int(cnpj[i]) * (5 - i)\n",
        "    for i in range(8, 12):\n",
        "        soma += int(cnpj[i]) * (13 - i)\n",
        "    digito1 = 11 - (soma % 11)\n",
        "    if digito1 == 10 or digito1 == 11:\n",
        "        digito1 = 0\n",
        "\n",
        "    # Verifica o primeiro dígito verificador\n",
        "    if digito1 != int(cnpj[12]):\n",
        "        return False\n",
        "\n",
        "    # Calcula o segundo dígito verificador do CNPJ\n",
        "    soma = 0\n",
        "    for i in range(5):\n",
        "        soma += int(cnpj[i]) * (6 - i)\n",
        "    for i in range(8, 13):\n",
        "        soma += int(cnpj[i]) * (14 - i)\n",
        "    digito2 = 11 - (soma % 11)\n",
        "    if digito2 == 10 or digito2 == 11:\n",
        "        digito2 = 0\n",
        "\n",
        "    # Verifica o segundo dígito verificador\n",
        "    if digito2 != int(cnpj[13]):\n",
        "        return False\n",
        "\n",
        "    return True\n",
        "\n",
        "# Teste de validação de CPF e CNPJ\n",
        "cpf_valido = validar_cpf(\"123.456.789-09\")\n",
        "cnpj_valido = validar_cnpj(\"12.345.678/0001-01\")\n",
        "\n",
        "if cpf_valido:\n",
        "    print(\"CPF válido.\")\n",
        "else:\n",
        "    print(\"CPF inválido.\")\n",
        "\n",
        "if cnpj_valido:\n",
        "    print(\"CNPJ válido.\")\n",
        "else:\n",
        "    print(\"CNPJ inválido.\")"
      ]
    },
    {
      "cell_type": "markdown",
      "metadata": {
        "id": "CX-eUA0XVGy_"
      },
      "source": [
        "**92. Tradutor de Texto Automático.**"
      ]
    },
    {
      "cell_type": "code",
      "execution_count": null,
      "metadata": {
        "id": "zW5PqQ5GVGy_"
      },
      "outputs": [],
      "source": [
        "import re\n",
        "\n",
        "# Dicionário de tradução de palavras-chave\n",
        "traducoes = {\n",
        "    \"hello\": \"olá\",\n",
        "    \"world\": \"mundo\",\n",
        "    \"example\": \"exemplo\"\n",
        "}\n",
        "\n",
        "# Função para traduzir texto com base no dicionário\n",
        "def traduzir_texto(texto):\n",
        "    padrao = re.compile(r'\\b(' + '|'.join(map(re.escape, traducoes.keys())) + r')\\b')\n",
        "    resultado = padrao.sub(lambda x: traducoes[x.group()], texto)\n",
        "    return resultado\n",
        "\n",
        "# Texto de exemplo a ser traduzido\n",
        "texto = \"Hello, world! This is an example of text translation.\"\n",
        "\n",
        "# Traduzir o texto\n",
        "texto_traduzido = traduzir_texto(texto)\n",
        "\n",
        "print(\"Texto original:\", texto)\n",
        "print(\"Texto traduzido:\", texto_traduzido)"
      ]
    },
    {
      "cell_type": "markdown",
      "metadata": {
        "id": "6-UoOsOSVGy_"
      },
      "source": [
        "**93. Extrator de Códigos de Cupons.**"
      ]
    },
    {
      "cell_type": "code",
      "execution_count": null,
      "metadata": {
        "id": "45XDN6HlVGy_"
      },
      "outputs": [],
      "source": [
        "import re\n",
        "\n",
        "# Expressão regular para extrair códigos de cupons promocionais\n",
        "padrao_cupom = r'[A-Z0-9]{6}-[A-Z0-9]{6}'\n",
        "\n",
        "# Texto de exemplo com códigos de cupons\n",
        "texto = \"Use o código promocional ABC123-DEF456 para obter um desconto de 20%. Válido até XYZ789-UVW123.\"\n",
        "\n",
        "# Use re.findall() para encontrar códigos de cupons no texto\n",
        "cupons = re.findall(padrao_cupom, texto)\n",
        "\n",
        "print(\"Códigos de cupons encontrados:\")\n",
        "for cupom in cupons:\n",
        "    print(cupom)"
      ]
    },
    {
      "cell_type": "markdown",
      "metadata": {
        "id": "8ZkJZNFgVGy_"
      },
      "source": [
        "**94. Gerador de Documentos Personalizados.**"
      ]
    },
    {
      "cell_type": "code",
      "execution_count": null,
      "metadata": {
        "id": "V1J4OdwAVGzA"
      },
      "outputs": [],
      "source": [
        "import re\n",
        "\n",
        "# Modelo de documento com espaços reservados\n",
        "modelo_documento = \"Olá [NOME], seu número de telefone é [TELEFONE].\"\n",
        "\n",
        "# Dicionário de informações para preencher no documento\n",
        "informacoes = {\n",
        "    \"NOME\": \"João da Silva\",\n",
        "    \"TELEFONE\": \"123-456-7890\"\n",
        "}\n",
        "\n",
        "# Função para preencher o modelo de documento com informações\n",
        "def preencher_documento(modelo, informacoes):\n",
        "    for chave, valor in informacoes.items():\n",
        "        modelo = re.sub(r'\\[' + chave + r'\\]', valor, modelo)\n",
        "    return modelo\n",
        "\n",
        "# Preencher o modelo de documento com informações\n",
        "documento_preenchido = preencher_documento(modelo_documento, informacoes)\n",
        "\n",
        "print(\"Documento personalizado:\")\n",
        "print(documento_preenchido)"
      ]
    },
    {
      "cell_type": "markdown",
      "metadata": {
        "id": "slIIbZ96VGzA"
      },
      "source": [
        "**95. Analisador de Código Fonte.**"
      ]
    },
    {
      "cell_type": "code",
      "execution_count": null,
      "metadata": {
        "id": "VcN-tlC5VGzA"
      },
      "outputs": [],
      "source": [
        "import re\n",
        "\n",
        "# Função para analisar um arquivo de código fonte\n",
        "def analisar_codigo_fonte(arquivo):\n",
        "    with open(arquivo, 'r') as f:\n",
        "        codigo = f.read()\n",
        "\n",
        "    # Encontrar variáveis no código\n",
        "    variaveis = re.findall(r'\\w+\\s*=\\s*.+', codigo)\n",
        "\n",
        "    # Encontrar funções no código\n",
        "    funcoes = re.findall(r'def\\s+\\w+\\s*\\(', codigo)\n",
        "\n",
        "    # Encontrar comentários no código\n",
        "    comentarios = re.findall(r'#.*', codigo)\n",
        "\n",
        "    # Imprimir as informações encontradas\n",
        "    print(\"Variáveis encontradas:\")\n",
        "    for variavel in variaveis:\n",
        "        print(variavel)\n",
        "\n",
        "    print(\"\\nFunções encontradas:\")\n",
        "    for funcao in funcoes:\n",
        "        print(funcao)\n",
        "\n",
        "    print(\"\\nComentários encontrados:\")\n",
        "    for comentario in comentarios:\n",
        "        print(comentario)\n",
        "\n",
        "# Nome do arquivo de código fonte a ser analisado\n",
        "arquivo_codigo_fonte = \"codigo_fonte.py\"\n",
        "\n",
        "# Executar a análise do código fonte\n",
        "analisar_codigo_fonte(arquivo_codigo_fonte)"
      ]
    },
    {
      "cell_type": "markdown",
      "metadata": {
        "id": "owPnuxVaVGzA"
      },
      "source": [
        "**96. Conversor de Unidades de Medida.**"
      ]
    },
    {
      "cell_type": "code",
      "execution_count": null,
      "metadata": {
        "id": "Gvb38VqmVGzA"
      },
      "outputs": [],
      "source": [
        "import re\n",
        "\n",
        "# Função para converter unidades de medida\n",
        "def converter_unidades(texto):\n",
        "    # Expressões regulares para identificar unidades de medida\n",
        "    padrao_metros = r'(\\d+)\\s*metros?'\n",
        "    padrao_pes = r'(\\d+)\\s*pés?'\n",
        "\n",
        "    # Converter metros para pés\n",
        "    texto = re.sub(padrao_metros, lambda x: f'{float(x.group(1)) * 3.28084:.2f} pés', texto)\n",
        "\n",
        "    # Converter pés para metros\n",
        "    texto = re.sub(padrao_pes, lambda x: f'{float(x.group(1)) / 3.28084:.2f} metros', texto)\n",
        "\n",
        "    return texto\n",
        "\n",
        "# Texto de exemplo com unidades de medida\n",
        "texto_com_medidas = \"A sala tem 5 metros de comprimento e 10 pés de largura.\"\n",
        "\n",
        "# Converter unidades de medida no texto\n",
        "texto_convertido = converter_unidades(texto_com_medidas)\n",
        "\n",
        "print(\"Texto original:\", texto_com_medidas)\n",
        "print(\"Texto convertido:\", texto_convertido)"
      ]
    },
    {
      "cell_type": "markdown",
      "metadata": {
        "id": "kT5f5NysVGzA"
      },
      "source": [
        "**97. Validador endereços residenciais.**"
      ]
    },
    {
      "cell_type": "code",
      "execution_count": null,
      "metadata": {
        "id": "zoP219DeVGzA"
      },
      "outputs": [],
      "source": [
        "import re\n",
        "\n",
        "# Função para validar um endereço residencial\n",
        "def validar_endereco(endereco):\n",
        "    # Expressão regular para validar um endereço residencial\n",
        "    padrao_endereco = r'^\\d+\\s\\w+\\s\\w+'\n",
        "\n",
        "    if re.match(padrao_endereco, endereco):\n",
        "        return True\n",
        "    else:\n",
        "        return False\n",
        "\n",
        "# Endereço de exemplo a ser validado\n",
        "endereco_exemplo = \"123 Rua da Amostra\"\n",
        "\n",
        "# Validar o endereço\n",
        "if validar_endereco(endereco_exemplo):\n",
        "    print(\"O endereço é válido.\")\n",
        "else:\n",
        "    print(\"O endereço não é válido.\")"
      ]
    },
    {
      "cell_type": "markdown",
      "metadata": {
        "id": "aZkAc780VGzA"
      },
      "source": [
        "**98. Ferramenta de Limpeza de Texto.**"
      ]
    },
    {
      "cell_type": "code",
      "execution_count": null,
      "metadata": {
        "id": "A5aF5pzxVGzA"
      },
      "outputs": [],
      "source": [
        "import re\n",
        "\n",
        "# Função para limpar um texto\n",
        "def limpar_texto(texto):\n",
        "    # Remover caracteres especiais e números\n",
        "    texto = re.sub(r'[^a-zA-Z\\s]', '', texto)\n",
        "\n",
        "    # Remover espaços em excesso\n",
        "    texto = re.sub(r'\\s+', ' ', texto)\n",
        "\n",
        "    # Converter para letras minúsculas\n",
        "    texto = texto.lower()\n",
        "\n",
        "    return texto\n",
        "\n",
        "# Texto de exemplo a ser limpo\n",
        "texto_exemplo = \"Este é um exemplo de  texto, com vários caracteres especiais, números e   espaços em excesso!\"\n",
        "\n",
        "# Limpar o texto\n",
        "texto_limpo = limpar_texto(texto_exemplo)\n",
        "\n",
        "print(\"Texto original:\", texto_exemplo)\n",
        "print(\"Texto limpo:\", texto_limpo)"
      ]
    },
    {
      "cell_type": "markdown",
      "metadata": {
        "id": "jWxwp7tYVGzA"
      },
      "source": [
        "**99. Validação de documentos básicos.**"
      ]
    },
    {
      "cell_type": "code",
      "execution_count": null,
      "metadata": {
        "id": "AviQ0PnLVGzA"
      },
      "outputs": [],
      "source": [
        "import re\n",
        "\n",
        "# Função para validar CPF\n",
        "def validar_cpf(cpf):\n",
        "    # Expressão regular para CPF\n",
        "    cpf_regex = re.compile(r'^\\d{3}\\.\\d{3}\\.\\d{3}-\\d{2}$')\n",
        "    return bool(cpf_regex.match(cpf))\n",
        "\n",
        "# Função para validar CNPJ\n",
        "def validar_cnpj(cnpj):\n",
        "    # Expressão regular para CNPJ\n",
        "    cnpj_regex = re.compile(r'^\\d{2}\\.\\d{3}\\.\\d{3}\\/\\d{4}-\\d{2}$')\n",
        "    return bool(cnpj_regex.match(cnpj))\n",
        "\n",
        "# Função para validar RG\n",
        "def validar_rg(rg):\n",
        "    # Expressão regular para RG (formato: XX.XXX.XXX-X)\n",
        "    rg_regex = re.compile(r'^\\d{2}\\.\\d{3}\\.\\d{3}-\\d{1}$')\n",
        "    return bool(rg_regex.match(rg))\n",
        "\n",
        "# Função para validar número de telefone\n",
        "def validar_telefone(telefone):\n",
        "    # Expressão regular para número de telefone (formato: (XX) XXXXX-XXXX)\n",
        "    telefone_regex = re.compile(r'^\\(\\d{2}\\) \\d{5}-\\d{4}$')\n",
        "    return bool(telefone_regex.match(telefone))\n",
        "\n",
        "# Solicitar ao usuário o tipo de documento e o documento\n",
        "tipo_documento = input(\"Escolha o tipo de documento (CPF, CNPJ, RG, Telefone): \").upper()\n",
        "documento = input(\"Insira o documento: \")\n",
        "\n",
        "if tipo_documento == 'CPF':\n",
        "    if validar_cpf(documento):\n",
        "        print(\"CPF válido.\")\n",
        "    else:\n",
        "        print(\"CPF inválido.\")\n",
        "elif tipo_documento == 'CNPJ':\n",
        "    if validar_cnpj(documento):\n",
        "        print(\"CNPJ válido.\")\n",
        "    else:\n",
        "        print(\"CNPJ inválido.\")\n",
        "elif tipo_documento == 'RG':\n",
        "    if validar_rg(documento):\n",
        "        print(\"RG válido.\")\n",
        "    else:\n",
        "        print(\"RG inválido.\")\n",
        "elif tipo_documento == 'TELEFONE':\n",
        "    if validar_telefone(documento):\n",
        "        print(\"Número de telefone válido.\")\n",
        "    else:\n",
        "        print(\"Número de telefone inválido.\")\n",
        "else:\n",
        "    print(\"Tipo de documento não suportado.\")"
      ]
    },
    {
      "cell_type": "markdown",
      "metadata": {
        "id": "qxJK6AOyVGzC"
      },
      "source": [
        "**100. Validador de Placas de Veículos.**"
      ]
    },
    {
      "cell_type": "code",
      "execution_count": null,
      "metadata": {
        "id": "wHX2sSGXVGzC"
      },
      "outputs": [],
      "source": [
        "import re\n",
        "\n",
        "# Função para validar uma lista de placas de veículo brasileiras (padrão Mercosul)\n",
        "def validar_placas(placas):\n",
        "    # Expressão regular para validar uma placa de veículo no novo padrão brasileiro (Mercosul)\n",
        "    padrao_placa = r'^[A-Z]{3}\\d[A-Z]\\d{2}$'\n",
        "\n",
        "    placas_validas = []\n",
        "    placas_invalidas = []\n",
        "\n",
        "    for placa in placas:\n",
        "        if re.match(padrao_placa, placa):\n",
        "            placas_validas.append(placa)\n",
        "        else:\n",
        "            placas_invalidas.append(placa)\n",
        "\n",
        "    return placas_validas, placas_invalidas\n",
        "\n",
        "# Lista de placas de exemplo a serem validadas\n",
        "placas_exemplo = [\"AAA1A11\", \"XYZ2B22\", \"1234CDE\", \"MNO5F55\"]\n",
        "\n",
        "# Validar as placas\n",
        "placas_validas, placas_invalidas = validar_placas(placas_exemplo)\n",
        "\n",
        "print(\"Placas válidas:\")\n",
        "for placa in placas_validas:\n",
        "    print(placa)\n",
        "\n",
        "print(\"\\nPlacas inválidas:\")\n",
        "for placa in placas_invalidas:\n",
        "    print(placa)"
      ]
    }
  ],
  "metadata": {
    "colab": {
      "provenance": []
    },
    "kernelspec": {
      "display_name": "base",
      "language": "python",
      "name": "python3"
    },
    "language_info": {
      "codemirror_mode": {
        "name": "ipython",
        "version": 3
      },
      "file_extension": ".py",
      "mimetype": "text/x-python",
      "name": "python",
      "nbconvert_exporter": "python",
      "pygments_lexer": "ipython3",
      "version": "3.13.5"
    }
  },
  "nbformat": 4,
  "nbformat_minor": 0
}
