{
  "cells": [
    {
      "cell_type": "markdown",
      "metadata": {
        "id": "PW5yxQ56-evF"
      },
      "source": [
        "### **Ciência de Dados**\n",
        "\n",
        "#### **Manipulação de Dados com Pandas**"
      ]
    },
    {
      "cell_type": "markdown",
      "metadata": {},
      "source": [
        "##### **1. Carregar e Visualizar um DataFrame**"
      ]
    },
    {
      "cell_type": "code",
      "execution_count": null,
      "metadata": {
        "id": "Y9FfDjhE-evJ"
      },
      "outputs": [],
      "source": [
        "import pandas as pd\n",
        "\n",
        "# Carregar dados de um arquivo CSV (certifique-se de que 'dados.csv' exista)\n",
        "# Exemplo de como criar um 'dados.csv' para teste:\n",
        "# data = {'idade': [25, 35, 45, 28, 50], 'sexo': ['M', 'F', 'M', 'F', 'M']}\n",
        "# pd.DataFrame(data).to_csv('dados.csv', index=False)\n",
        "\n",
        "df = pd.read_csv('dados.csv')\n",
        "\n",
        "# Visualizar as primeiras linhas do DataFrame\n",
        "print(df.head())"
      ]
    },
    {
      "cell_type": "markdown",
      "metadata": {
        "id": "ZgeDa0vi-evL"
      },
      "source": [
        "##### **2. Filtrar Dados com base em uma Condição**"
      ]
    },
    {
      "cell_type": "code",
      "execution_count": null,
      "metadata": {
        "id": "osMuelPx-evL"
      },
      "outputs": [],
      "source": [
        "# Filtrar linhas onde a coluna 'idade' é maior que 30\n",
        "df_filtrado = df[df['idade'] > 30]\n",
        "print(df_filtrado.head())"
      ]
    },
    {
      "cell_type": "markdown",
      "metadata": {
        "id": "havCcNFJ-evM"
      },
      "source": [
        "##### **3. Agrupar e Resumir Dados**"
      ]
    },
    {
      "cell_type": "code",
      "execution_count": null,
      "metadata": {
        "id": "3MjGzsG9-evM"
      },
      "outputs": [],
      "source": [
        "# Calcular a média da idade para cada sexo\n",
        "resumo = df.groupby('sexo')['idade'].mean()\n",
        "print(resumo)"
      ]
    },
    {
      "cell_type": "markdown",
      "metadata": {
        "id": "ir2PxF21-evM"
      },
      "source": [
        "##### **4. Adicionar uma Nova Coluna Calculada**"
      ]
    },
    {
      "cell_type": "code",
      "execution_count": null,
      "metadata": {
        "id": "9eqNvrBT-evN"
      },
      "outputs": [],
      "source": [
        "# Adicionar uma nova coluna 'idade_dobrada' com a idade multiplicada por 2\n",
        "df['idade_dobrada'] = df['idade'] * 2\n",
        "print(df.head())"
      ]
    },
    {
      "cell_type": "markdown",
      "metadata": {
        "id": "UUiK6w3r-evN"
      },
      "source": [
        "##### **5. Salvar Dados em um Novo Arquivo CSV**"
      ]
    },
    {
      "cell_type": "code",
      "execution_count": null,
      "metadata": {
        "id": "xniSsgiV-evN"
      },
      "outputs": [],
      "source": [
        "# Salvar o DataFrame em um novo arquivo CSV\n",
        "df.to_csv('dados_processados.csv', index=False)"
      ]
    },
    {
      "cell_type": "markdown",
      "metadata": {},
      "source": [
        "-----\n",
        "\n",
        "#### **Visualização de Dados com Matplotlib e Seaborn**"
      ]
    },
    {
      "cell_type": "markdown",
      "metadata": {
        "id": "7v05jzeX-evO"
      },
      "source": [
        "##### **6. Gráfico de Barras com Matplotlib**"
      ]
    },
    {
      "cell_type": "code",
      "execution_count": null,
      "metadata": {
        "id": "Q1f-AFHc-evO"
      },
      "outputs": [],
      "source": [
        "import matplotlib.pyplot as plt\n",
        "\n",
        "# Dados\n",
        "categorias = ['A', 'B', 'C', 'D']\n",
        "valores = [10, 20, 15, 25]\n",
        "\n",
        "# Criar gráfico de barras\n",
        "plt.bar(categorias, valores)\n",
        "plt.xlabel('Categorias')\n",
        "plt.ylabel('Valores')\n",
        "plt.title('Gráfico de Barras')\n",
        "plt.show()"
      ]
    },
    {
      "cell_type": "markdown",
      "metadata": {
        "id": "mnGE75-J-evO"
      },
      "source": [
        "##### **7. Gráfico de Dispersão com Matplotlib**"
      ]
    },
    {
      "cell_type": "code",
      "execution_count": null,
      "metadata": {
        "id": "5iMSrZxy-evO"
      },
      "outputs": [],
      "source": [
        "import matplotlib.pyplot as plt\n",
        "\n",
        "# Dados\n",
        "x = [1, 2, 3, 4, 5]\n",
        "y = [2, 3, 5, 7, 11]\n",
        "\n",
        "# Criar gráfico de dispersão\n",
        "plt.scatter(x, y)\n",
        "plt.xlabel('X')\n",
        "plt.ylabel('Y')\n",
        "plt.title('Gráfico de Dispersão')\n",
        "plt.show()"
      ]
    },
    {
      "cell_type": "markdown",
      "metadata": {
        "id": "T0hqTM6H-evO"
      },
      "source": [
        "##### **8. Histograma com Matplotlib**"
      ]
    },
    {
      "cell_type": "code",
      "execution_count": null,
      "metadata": {
        "id": "Qa8TOXb1-evO"
      },
      "outputs": [],
      "source": [
        "import matplotlib.pyplot as plt\n",
        "import numpy as np\n",
        "\n",
        "# Dados\n",
        "dados = np.random.randn(1000)\n",
        "\n",
        "# Criar histograma\n",
        "plt.hist(dados, bins=30)\n",
        "plt.xlabel('Valores')\n",
        "plt.ylabel('Frequência')\n",
        "plt.title('Histograma')\n",
        "plt.show()"
      ]
    },
    {
      "cell_type": "markdown",
      "metadata": {
        "id": "_THQ8N-H-evP"
      },
      "source": [
        "##### **9. Gráfico de Boxplot com Seaborn**"
      ]
    },
    {
      "cell_type": "code",
      "execution_count": null,
      "metadata": {
        "id": "y3u9rfWf-evP"
      },
      "outputs": [],
      "source": [
        "import seaborn as sns\n",
        "import matplotlib.pyplot as plt\n",
        "import numpy as np\n",
        "\n",
        "# Dados\n",
        "dados = np.random.normal(loc=0, scale=1, size=100)\n",
        "\n",
        "# Criar boxplot com Seaborn\n",
        "sns.boxplot(data=dados)\n",
        "plt.xlabel('Valores')\n",
        "plt.title('Boxplot')\n",
        "plt.show()"
      ]
    },
    {
      "cell_type": "markdown",
      "metadata": {
        "id": "a2SIvnXn-evP"
      },
      "source": [
        "##### **10. Gráfico de Violino com Seaborn**"
      ]
    },
    {
      "cell_type": "code",
      "execution_count": null,
      "metadata": {
        "id": "iWLSEn0z-evP"
      },
      "outputs": [],
      "source": [
        "import seaborn as sns\n",
        "import matplotlib.pyplot as plt\n",
        "import numpy as np\n",
        "\n",
        "# Dados\n",
        "dados = np.random.normal(loc=0, scale=1, size=100)\n",
        "\n",
        "# Criar gráfico de violino com Seaborn\n",
        "sns.violinplot(data=dados)\n",
        "plt.xlabel('Valores')\n",
        "plt.title('Gráfico de Violino')\n",
        "plt.show()"
      ]
    },
    {
      "cell_type": "markdown",
      "metadata": {
        "id": "JyW6eoS5-evP"
      },
      "source": [
        "-----\n",
        "\n",
        "#### **Modelagem e Machine Learning com Scikit-learn**\n",
        "\n",
        "##### **11. Regressão Linear**"
      ]
    },
    {
      "cell_type": "code",
      "execution_count": null,
      "metadata": {
        "id": "SbiEOdL8-evP"
      },
      "outputs": [],
      "source": [
        "from sklearn.linear_model import LinearRegression\n",
        "import numpy as np\n",
        "\n",
        "# Dados\n",
        "X = np.array([[1], [2], [3], [4], [5]])\n",
        "y = np.array([2, 3, 4, 5, 6])\n",
        "\n",
        "# Criar e treinar modelo de regressão linear\n",
        "modelo = LinearRegression()\n",
        "modelo.fit(X, y)\n",
        "\n",
        "# Prever valores\n",
        "X_novo = np.array([[6], [7]])\n",
        "y_pred = modelo.predict(X_novo)\n",
        "\n",
        "print(\"Valores previstos:\", y_pred)"
      ]
    },
    {
      "cell_type": "markdown",
      "metadata": {
        "id": "aL4XSKF5-evP"
      },
      "source": [
        "##### **12. Classificação com Support Vector Machine (SVM)**"
      ]
    },
    {
      "cell_type": "code",
      "execution_count": null,
      "metadata": {
        "id": "cA09J_jY-evP"
      },
      "outputs": [],
      "source": [
        "from sklearn.svm import SVC\n",
        "from sklearn.datasets import load_iris\n",
        "from sklearn.model_selection import train_test_split\n",
        "\n",
        "# Carregar conjunto de dados Iris\n",
        "iris = load_iris()\n",
        "X_train, X_test, y_train, y_test = train_test_split(iris.data, iris.target, test_size=0.2, random_state=42)\n",
        "\n",
        "# Criar e treinar modelo SVM\n",
        "modelo = SVC(kernel='linear', C=1.0)\n",
        "modelo.fit(X_train, y_train)\n",
        "\n",
        "# Avaliar modelo\n",
        "score = modelo.score(X_test, y_test)\n",
        "print(\"Acurácia do modelo SVM:\", score)"
      ]
    },
    {
      "cell_type": "markdown",
      "metadata": {
        "id": "sQ6M3A7i-evQ"
      },
      "source": [
        "##### **13. Clustering com K-Means**"
      ]
    },
    {
      "cell_type": "code",
      "execution_count": null,
      "metadata": {
        "id": "TtejMbo9-evQ"
      },
      "outputs": [],
      "source": [
        "from sklearn.cluster import KMeans\n",
        "import numpy as np\n",
        "\n",
        "# Dados\n",
        "X = np.array([[1, 2], [1, 4], [1, 0], [10, 2], [10, 4], [10, 0]])\n",
        "\n",
        "# Criar e treinar modelo K-Means\n",
        "modelo = KMeans(n_clusters=2, random_state=42, n_init=10)\n",
        "modelo.fit(X)\n",
        "\n",
        "# Centróides\n",
        "print(\"Centróides:\", modelo.cluster_centers_)"
      ]
    },
    {
      "cell_type": "markdown",
      "metadata": {
        "id": "wRmbfaVV-evQ"
      },
      "source": [
        "##### **14. Redução de Dimensionalidade com PCA**"
      ]
    },
    {
      "cell_type": "code",
      "execution_count": null,
      "metadata": {
        "id": "OAtu4umq-evQ"
      },
      "outputs": [],
      "source": [
        "from sklearn.decomposition import PCA\n",
        "from sklearn.datasets import load_iris\n",
        "\n",
        "# Carregar conjunto de dados Iris\n",
        "iris = load_iris()\n",
        "X = iris.data\n",
        "\n",
        "# Aplicar PCA para redução de dimensionalidade\n",
        "pca = PCA(n_components=2)\n",
        "X_pca = pca.fit_transform(X)\n",
        "\n",
        "print(\"Dimensões originais:\", X.shape)\n",
        "print(\"Dimensões reduzidas com PCA:\", X_pca.shape)"
      ]
    },
    {
      "cell_type": "markdown",
      "metadata": {
        "id": "x_XtAR2j-evQ"
      },
      "source": [
        "##### **15. Avaliação de Modelos com Cross-Validation**"
      ]
    },
    {
      "cell_type": "code",
      "execution_count": null,
      "metadata": {
        "id": "SsctRlmP-evQ"
      },
      "outputs": [],
      "source": [
        "from sklearn.model_selection import cross_val_score\n",
        "from sklearn.linear_model import LogisticRegression\n",
        "from sklearn.datasets import load_iris\n",
        "\n",
        "# Carregar conjunto de dados Iris\n",
        "iris = load_iris()\n",
        "X = iris.data\n",
        "y = iris.target\n",
        "\n",
        "# Criar e avaliar modelo de regressão logística com cross-validation\n",
        "modelo = LogisticRegression(max_iter=200)\n",
        "scores = cross_val_score(modelo, X, y, cv=5)\n",
        "\n",
        "print(\"Acurácias do cross-validation:\", scores)\n",
        "print(\"Acurácia Média:\", scores.mean())"
      ]
    },
    {
      "cell_type": "markdown",
      "metadata": {
        "id": "R3LIUG6F-evQ"
      },
      "source": [
        "-----\n",
        "\n",
        "#### **Processamento de Dados com NumPy**\n",
        "\n",
        "##### **16. Criar um Array NumPy**"
      ]
    },
    {
      "cell_type": "code",
      "execution_count": null,
      "metadata": {
        "id": "STzh_s-g-evQ"
      },
      "outputs": [],
      "source": [
        "import numpy as np\n",
        "\n",
        "# Criar um array NumPy a partir de uma lista\n",
        "arr = np.array([1, 2, 3, 4, 5])\n",
        "print(arr)\n",
        "print(type(arr))"
      ]
    },
    {
      "cell_type": "markdown",
      "metadata": {
        "id": "JC7IHRwM-evQ"
      },
      "source": [
        "##### **17. Operações Matemáticas com Arrays NumPy**"
      ]
    },
    {
      "cell_type": "code",
      "execution_count": null,
      "metadata": {
        "id": "6qd3xdRR-evQ"
      },
      "outputs": [],
      "source": [
        "import numpy as np\n",
        "\n",
        "# Criar dois arrays NumPy\n",
        "arr1 = np.array([1, 2, 3, 4, 5])\n",
        "arr2 = np.array([6, 7, 8, 9, 10])\n",
        "\n",
        "# Adicionar os arrays\n",
        "soma = arr1 + arr2\n",
        "print(\"Soma:\", soma)\n",
        "\n",
        "# Multiplicação\n",
        "multiplicacao = arr1 * arr2\n",
        "print(\"Multiplicação:\", multiplicacao)"
      ]
    },
    {
      "cell_type": "markdown",
      "metadata": {
        "id": "wfsseNh3-evQ"
      },
      "source": [
        "##### **18. Indexação e Fatiamento de Arrays NumPy**"
      ]
    },
    {
      "cell_type": "code",
      "execution_count": null,
      "metadata": {
        "id": "TWrHQYwg-evQ"
      },
      "outputs": [],
      "source": [
        "import numpy as np\n",
        "\n",
        "# Criar um array NumPy\n",
        "arr = np.array([1, 2, 3, 4, 5])\n",
        "\n",
        "# Acessar elementos por índice\n",
        "print(arr[0])  # Primeiro elemento\n",
        "print(arr[-1]) # Último elemento\n",
        "\n",
        "# Fatiamento\n",
        "print(arr[1:4])  # Elementos do índice 1 ao 3"
      ]
    },
    {
      "cell_type": "markdown",
      "metadata": {
        "id": "gmFM8si8-evR"
      },
      "source": [
        "##### **19. Funções Estatísticas com Arrays NumPy**"
      ]
    },
    {
      "cell_type": "code",
      "execution_count": null,
      "metadata": {
        "id": "K5gWytHx-evR"
      },
      "outputs": [],
      "source": [
        "import numpy as np\n",
        "\n",
        "# Criar um array NumPy\n",
        "arr = np.array([1, 2, 3, 4, 5])\n",
        "\n",
        "# Média\n",
        "media = np.mean(arr)\n",
        "\n",
        "# Desvio padrão\n",
        "desvio_padrao = np.std(arr)\n",
        "\n",
        "print(\"Média:\", media)\n",
        "print(\"Desvio Padrão:\", desvio_padrao)"
      ]
    },
    {
      "cell_type": "markdown",
      "metadata": {
        "id": "jsj1inAo-evR"
      },
      "source": [
        "##### **20. Reshape de Arrays NumPy**"
      ]
    },
    {
      "cell_type": "code",
      "execution_count": null,
      "metadata": {
        "id": "HXtSxe7Y-evV"
      },
      "outputs": [],
      "source": [
        "import numpy as np\n",
        "\n",
        "# Criar um array NumPy\n",
        "arr = np.array([1, 2, 3, 4, 5, 6, 7, 8])\n",
        "\n",
        "# Redimensionar o array para uma matriz 2x4\n",
        "matriz = arr.reshape(2, 4)\n",
        "print(matriz)"
      ]
    },
    {
      "cell_type": "markdown",
      "metadata": {
        "id": "dpkEe48s-evV"
      },
      "source": [
        "-----\n",
        "\n",
        "#### **Análise Estatística com SciPy**\n",
        "\n",
        "##### **21. Teste de Hipótese (Teste t)**"
      ]
    },
    {
      "cell_type": "code",
      "execution_count": null,
      "metadata": {
        "id": "vTSX5qNs-evV"
      },
      "outputs": [],
      "source": [
        "from scipy import stats\n",
        "import numpy as np\n",
        "\n",
        "# Dados\n",
        "grupo1 = np.array([85, 90, 88, 82, 87])\n",
        "grupo2 = np.array([78, 80, 85, 75, 82])\n",
        "\n",
        "# Teste t de Student para médias de amostras independentes\n",
        "t_stat, p_valor = stats.ttest_ind(grupo1, grupo2)\n",
        "\n",
        "print(\"Estatística t:\", t_stat)\n",
        "print(\"Valor p:\", p_valor)"
      ]
    },
    {
      "cell_type": "markdown",
      "metadata": {
        "id": "xIGiJwTv-evV"
      },
      "source": [
        "##### **22. Regressão Linear com SciPy**"
      ]
    },
    {
      "cell_type": "code",
      "execution_count": null,
      "metadata": {
        "id": "LxFmt-p7-evV"
      },
      "outputs": [],
      "source": [
        "from scipy import stats\n",
        "import numpy as np\n",
        "\n",
        "# Dados\n",
        "X = np.array([1, 2, 3, 4, 5])\n",
        "y = np.array([2, 3, 4, 5, 6])\n",
        "\n",
        "# Regressão linear\n",
        "slope, intercept, r_value, p_value, std_err = stats.linregress(X, y)\n",
        "\n",
        "print(\"Coeficiente Angular:\", slope)\n",
        "print(\"Intercepto:\", intercept)\n",
        "print(\"Coeficiente de Correlação (R):\", r_value)\n",
        "print(\"Valor p:\", p_value)"
      ]
    },
    {
      "cell_type": "markdown",
      "metadata": {
        "id": "_ue3HMPo-evV"
      },
      "source": [
        "##### **23. Análise de Variância (ANOVA)**"
      ]
    },
    {
      "cell_type": "code",
      "execution_count": null,
      "metadata": {
        "id": "wBR9U4Je-evV"
      },
      "outputs": [],
      "source": [
        "from scipy import stats\n",
        "import numpy as np\n",
        "\n",
        "# Dados\n",
        "grupo1 = np.array([85, 90, 88, 82, 87])\n",
        "grupo2 = np.array([78, 80, 85, 75, 82])\n",
        "grupo3 = np.array([72, 68, 74, 80, 73])\n",
        "\n",
        "# ANOVA one-way\n",
        "f_stat, p_valor = stats.f_oneway(grupo1, grupo2, grupo3)\n",
        "\n",
        "print(\"Estatística F:\", f_stat)\n",
        "print(\"Valor p:\", p_valor)"
      ]
    },
    {
      "cell_type": "markdown",
      "metadata": {
        "id": "yOyJeIpN-evV"
      },
      "source": [
        "##### **24. Interpolação com SciPy**"
      ]
    },
    {
      "cell_type": "code",
      "execution_count": null,
      "metadata": {
        "id": "ZRKDhmSz-evV"
      },
      "outputs": [],
      "source": [
        "from scipy import interpolate\n",
        "import numpy as np\n",
        "\n",
        "# Dados\n",
        "x = np.array([1, 2, 3, 4, 5])\n",
        "y = np.array([2, 3, 4, 5, 6])\n",
        "\n",
        "# Interpolação linear\n",
        "interp_func = interpolate.interp1d(x, y, kind='linear')\n",
        "\n",
        "# Valor interpolado para x = 2.5\n",
        "valor_interpolado = interp_func(2.5)\n",
        "print(\"Valor interpolado para x=2.5:\", valor_interpolado)"
      ]
    },
    {
      "cell_type": "markdown",
      "metadata": {
        "id": "8xZ8okqG-evW"
      },
      "source": [
        "##### **25. Distribuições Estatísticas com SciPy**"
      ]
    },
    {
      "cell_type": "code",
      "execution_count": null,
      "metadata": {
        "id": "UOqiYytL-evW"
      },
      "outputs": [],
      "source": [
        "from scipy.stats import norm\n",
        "\n",
        "# Gerar 1000 amostras de uma distribuição normal padrão\n",
        "amostras = norm.rvs(size=1000)\n",
        "\n",
        "# Média e Desvio Padrão da distribuição\n",
        "media = norm.mean()\n",
        "desvio_padrao = norm.std()\n",
        "\n",
        "print(\"Média da distribuição:\", media)\n",
        "print(\"Desvio Padrão da distribuição:\", desvio_padrao)"
      ]
    },
    {
      "cell_type": "markdown",
      "metadata": {
        "id": "Nq_vQ8Mp-evW"
      },
      "source": [
        "-----\n",
        "\n",
        "#### **Projetos Rápidos**\n",
        "\n",
        "##### **26. Carregamento de dados com Pandas**"
      ]
    },
    {
      "cell_type": "code",
      "execution_count": null,
      "metadata": {
        "id": "GnEc0T2y-evW"
      },
      "outputs": [],
      "source": [
        "import pandas as pd\n",
        "\n",
        "def carregar_dados_csv(nome_arquivo):\n",
        "    \"\"\"Carrega dados de um arquivo CSV.\"\"\"\n",
        "    return pd.read_csv(nome_arquivo)\n",
        "\n",
        "def carregar_dados_excel(nome_arquivo):\n",
        "    \"\"\"Carrega dados de um arquivo Excel.\"\"\"\n",
        "    return pd.read_excel(nome_arquivo)\n",
        "\n",
        "# Exemplo de uso (requer arquivos existentes)\n",
        "# df_csv = carregar_dados_csv('dados.csv')\n",
        "# print(df_csv.head())"
      ]
    },
    {
      "cell_type": "markdown",
      "metadata": {
        "id": "3zwcPq-l-evW"
      },
      "source": [
        "##### **27. Visualização de Dados com Matplotlib**"
      ]
    },
    {
      "cell_type": "code",
      "execution_count": null,
      "metadata": {
        "id": "I4WHcZ4K-evW"
      },
      "outputs": [],
      "source": [
        "import matplotlib.pyplot as plt\n",
        "\n",
        "def plotar_grafico(x, y, titulo='', xlabel='', ylabel=''):\n",
        "    \"\"\"Plota um gráfico de linhas simples.\"\"\"\n",
        "    plt.figure(figsize=(8, 6))\n",
        "    plt.plot(x, y)\n",
        "    plt.title(titulo)\n",
        "    plt.xlabel(xlabel)\n",
        "    plt.ylabel(ylabel)\n",
        "    plt.grid(True)\n",
        "    plt.show()\n",
        "\n",
        "# Exemplo de uso\n",
        "x_exemplo = [1, 2, 3, 4, 5]\n",
        "y_exemplo = [2, 3, 5, 7, 11]\n",
        "plotar_grafico(x_exemplo, y_exemplo, titulo=\"Meu Gráfico\", xlabel=\"Eixo X\", ylabel=\"Eixo Y\")"
      ]
    },
    {
      "cell_type": "markdown",
      "metadata": {
        "id": "PQumupht-evW"
      },
      "source": [
        "##### **28. Processamento de Dados com Scikit-Learn**"
      ]
    },
    {
      "cell_type": "code",
      "execution_count": null,
      "metadata": {
        "id": "KSNBq3TA-evW"
      },
      "outputs": [],
      "source": [
        "from sklearn.preprocessing import StandardScaler, LabelEncoder\n",
        "import numpy as np\n",
        "\n",
        "def padronizar_dados(dados):\n",
        "    \"\"\"Padroniza os dados (média 0, desvio padrão 1).\"\"\"\n",
        "    scaler = StandardScaler()\n",
        "    return scaler.fit_transform(dados)\n",
        "\n",
        "def codificar_labels(labels):\n",
        "    \"\"\"Codifica labels categóricos em numéricos.\"\"\"\n",
        "    encoder = LabelEncoder()\n",
        "    return encoder.fit_transform(labels)\n",
        "\n",
        "# Exemplo de uso\n",
        "dados_numericos = np.array([[10], [20], [30], [40], [50]])\n",
        "print(\"Dados padronizados:\\n\", padronizar_dados(dados_numericos))\n",
        "\n",
        "labels_categoricos = ['gato', 'cachorro', 'gato', 'passaro']\n",
        "print(\"\\nLabels codificados:\", codificar_labels(labels_categoricos))"
      ]
    },
    {
      "cell_type": "markdown",
      "metadata": {
        "id": "64wGKBpW-evW"
      },
      "source": [
        "##### **29. Avaliação de modelos de machine learning com scikit-learn**"
      ]
    },
    {
      "cell_type": "code",
      "execution_count": null,
      "metadata": {
        "id": "ygDfS0Oh-evW"
      },
      "outputs": [],
      "source": [
        "from sklearn.model_selection import train_test_split\n",
        "from sklearn.metrics import accuracy_score, classification_report\n",
        "from sklearn.linear_model import LogisticRegression\n",
        "from sklearn.datasets import load_iris\n",
        "\n",
        "def dividir_dados_treino_teste(X, y, tamanho_teste=0.2, estado_aleatorio=None):\n",
        "    \"\"\"Divide os dados em conjuntos de treino e teste.\"\"\"\n",
        "    return train_test_split(X, y, test_size=tamanho_teste, random_state=estado_aleatorio)\n",
        "\n",
        "def avaliar_modelo(modelo, X_teste, y_teste):\n",
        "    \"\"\"Avalia um modelo de classificação.\"\"\"\n",
        "    y_pred = modelo.predict(X_teste)\n",
        "    return {\n",
        "        'acuracia': accuracy_score(y_teste, y_pred),\n",
        "        'relatorio_classificacao': classification_report(y_teste, y_pred)\n",
        "    }\n",
        "\n",
        "# Exemplo de uso\n",
        "iris = load_iris()\n",
        "X_treino, X_teste, y_treino, y_teste = dividir_dados_treino_teste(iris.data, iris.target, estado_aleatorio=42)\n",
        "\n",
        "modelo = LogisticRegression(max_iter=200)\n",
        "modelo.fit(X_treino, y_treino)\n",
        "\n",
        "avaliacao = avaliar_modelo(modelo, X_teste, y_teste)\n",
        "print(\"Acurácia:\", avaliacao['acuracia'])\n",
        "print(\"Relatório de Classificação:\\n\", avaliacao['relatorio_classificacao'])"
      ]
    },
    {
      "cell_type": "markdown",
      "metadata": {
        "id": "eUJycpPr-evW"
      },
      "source": [
        "##### **30. Análise estatística com NumPy**"
      ]
    },
    {
      "cell_type": "code",
      "execution_count": null,
      "metadata": {
        "id": "rBm2gYrz-evW"
      },
      "outputs": [],
      "source": [
        "import numpy as np\n",
        "\n",
        "def calcular_media(array):\n",
        "    \"\"\"Calcula a média de um array NumPy.\"\"\"\n",
        "    return np.mean(array)\n",
        "\n",
        "def calcular_desvio_padrao(array):\n",
        "    \"\"\"Calcula o desvio padrão de um array NumPy.\"\"\"\n",
        "    return np.std(array)\n",
        "\n",
        "# Exemplo de uso\n",
        "meu_array = np.array([10, 12, 15, 13, 11, 19])\n",
        "print(\"Média:\", calcular_media(meu_array))\n",
        "print(\"Desvio Padrão:\", calcular_desvio_padrao(meu_array))"
      ]
    },
    {
      "cell_type": "markdown",
      "metadata": {
        "id": "L8HJO0-8-evW"
      },
      "source": [
        "-----\n",
        "\n",
        "#### **Previsões**\n",
        "\n",
        "##### **31. Previsão do Tempo (Exemplo Simplificado)**"
      ]
    },
    {
      "cell_type": "code",
      "execution_count": null,
      "metadata": {
        "id": "OdUiKAg_-evW"
      },
      "outputs": [],
      "source": [
        "import pandas as pd\n",
        "import numpy as np\n",
        "from sklearn.linear_model import LinearRegression\n",
        "import matplotlib.pyplot as plt\n",
        "\n",
        "# Vamos criar dados fictícios para simular uma previsão do tempo\n",
        "dias = np.array([1, 2, 3, 4, 5, 6, 7]).reshape(-1, 1)\n",
        "temperaturas = np.array([22, 24, 23, 25, 26, 27, 28])\n",
        "\n",
        "# Vamos ajustar um modelo de regressão linear simples\n",
        "modelo = LinearRegression()\n",
        "modelo.fit(dias, temperaturas)\n",
        "\n",
        "# Preveja a temperatura para o dia seguinte\n",
        "dia_seguinte = np.array([[8]])\n",
        "previsao = modelo.predict(dia_seguinte)\n",
        "\n",
        "print(f\"Previsão da temperatura para o dia seguinte: {previsao[0]:.2f}°C\")\n",
        "\n",
        "# Vamos criar um gráfico para visualizar a tendência\n",
        "plt.scatter(dias, temperaturas, color='b', label='Dados Históricos')\n",
        "plt.plot(dias, modelo.predict(dias), color='r', label='Linha de Regressão')\n",
        "plt.scatter(dia_seguinte, previsao, color='g', marker='x', s=100, label='Previsão')\n",
        "plt.xlabel('Dia')\n",
        "plt.ylabel('Temperatura (°C)')\n",
        "plt.title('Previsão de Temperatura')\n",
        "plt.legend()\n",
        "plt.grid(True)\n",
        "plt.show()"
      ]
    },
    {
      "cell_type": "markdown",
      "metadata": {
        "id": "X5aonSli-evW"
      },
      "source": [
        "##### **32. Previsões de Ações (Exemplo Simplificado)**"
      ]
    },
    {
      "cell_type": "code",
      "execution_count": null,
      "metadata": {
        "id": "LOih4kgM-evX"
      },
      "outputs": [],
      "source": [
        "# !pip install yfinance # Descomente e execute se não tiver a biblioteca instalada\n",
        "import pandas as pd\n",
        "import numpy as np\n",
        "import yfinance as yf\n",
        "from sklearn.linear_model import LinearRegression\n",
        "import matplotlib.pyplot as plt\n",
        "\n",
        "# Use a biblioteca yfinance para obter dados de preços de ações\n",
        "ticker = 'AAPL'  # Exemplo: ação da Apple\n",
        "data = yf.download(ticker, start='2022-01-01', end='2023-01-01')\n",
        "\n",
        "# Crie um DataFrame com os dados\n",
        "df = data[['Adj Close']].reset_index()\n",
        "\n",
        "# Vamos ajustar um modelo de regressão linear simples\n",
        "dias = np.arange(len(df)).reshape(-1, 1)\n",
        "precos = df['Adj Close'].values\n",
        "\n",
        "modelo = LinearRegression()\n",
        "modelo.fit(dias, precos)\n",
        "\n",
        "# Preveja o preço para o próximo dia\n",
        "dia_seguinte = np.array([[len(df)]])\n",
        "previsao = modelo.predict(dia_seguinte)\n",
        "\n",
        "print(f\"Previsão do preço de {ticker} para o próximo dia: ${previsao[0]:.2f}\")\n",
        "\n",
        "# Vamos criar um gráfico para visualizar a tendência de preços\n",
        "plt.figure(figsize=(10, 6))\n",
        "plt.plot(df['Date'], df['Adj Close'], label='Preço Histórico')\n",
        "plt.plot(df['Date'], modelo.predict(dias), label='Linha de Regressão', linestyle='--')\n",
        "plt.xlabel('Data')\n",
        "plt.ylabel('Preço das Ações (USD)')\n",
        "plt.title(f'Previsão de Preço para {ticker}')\n",
        "plt.legend()\n",
        "plt.grid(True)\n",
        "plt.show()"
      ]
    },
    {
      "cell_type": "markdown",
      "metadata": {
        "id": "tMThZJwo-evX"
      },
      "source": [
        "##### **33. Previsões de Vendas (Exemplo com Dados Fictícios)**"
      ]
    },
    {
      "cell_type": "code",
      "execution_count": null,
      "metadata": {
        "id": "tMhVtWHs-evX"
      },
      "outputs": [],
      "source": [
        "import pandas as pd\n",
        "from sklearn.model_selection import train_test_split\n",
        "from sklearn.linear_model import LinearRegression\n",
        "from sklearn.metrics import mean_squared_error, r2_score\n",
        "import matplotlib.pyplot as plt\n",
        "\n",
        "# Crie um arquivo 'dados_de_vendas.csv' para o exemplo funcionar\n",
        "vendas_data = {\n",
        "    'Preco': [10, 12, 11, 15, 9, 13, 14],\n",
        "    'Promocao': [1, 0, 1, 1, 0, 0, 1],\n",
        "    'Sazonalidade': [0.8, 0.9, 0.85, 1.2, 0.7, 1.0, 1.1],\n",
        "    'Vendas': [100, 80, 110, 150, 70, 95, 130]\n",
        "}\n",
        "pd.DataFrame(vendas_data).to_csv('dados_de_vendas.csv', index=False)\n",
        "\n",
        "\n",
        "# Carregue seus dados de vendas em um DataFrame\n",
        "data = pd.read_csv('dados_de_vendas.csv')\n",
        "\n",
        "# Divida os dados em conjuntos de treinamento e teste\n",
        "X = data[['Preco', 'Promocao', 'Sazonalidade']]\n",
        "y = data['Vendas']\n",
        "X_train, X_test, y_train, y_test = train_test_split(X, y, test_size=0.2, random_state=42)\n",
        "\n",
        "# Crie e treine o modelo de regressão linear\n",
        "model = LinearRegression()\n",
        "model.fit(X_train, y_train)\n",
        "\n",
        "# Faça previsões com o modelo\n",
        "y_pred = model.predict(X_test)\n",
        "\n",
        "# Avalie o desempenho do modelo\n",
        "mse = mean_squared_error(y_test, y_pred)\n",
        "r2 = r2_score(y_test, y_pred)\n",
        "\n",
        "# Crie visualizações dos resultados\n",
        "plt.scatter(y_test, y_pred)\n",
        "plt.xlabel('Vendas Reais')\n",
        "plt.ylabel('Previsões de Vendas')\n",
        "plt.title('Desempenho do Modelo de Previsão de Vendas')\n",
        "plt.grid(True)\n",
        "plt.show()\n",
        "\n",
        "# Imprima métricas de desempenho\n",
        "print(f'Erro Quadrático Médio: {mse:.2f}')\n",
        "print(f'Coeficiente de Determinação (R²): {r2:.2f}')"
      ]
    },
    {
      "cell_type": "markdown",
      "metadata": {
        "id": "Uw5W-cQq-evX"
      },
      "source": [
        "##### **34. Previsão de Reembolso (Estrutura do Código)**"
      ]
    },
    {
      "cell_type": "code",
      "execution_count": null,
      "metadata": {
        "id": "ooQnTlYk-evX"
      },
      "outputs": [],
      "source": [
        "import pandas as pd\n",
        "from sklearn.model_selection import train_test_split\n",
        "from sklearn.linear_model import LinearRegression\n",
        "\n",
        "# Nota: Este código precisa de um arquivo 'dados_de_reembolso.csv'\n",
        "# e provavelmente de pré-processamento para colunas categóricas (OneHotEncoder).\n",
        "\n",
        "# Exemplo de como criar um arquivo para teste:\n",
        "reembolso_data = {\n",
        "    'Tipo_de_Produto': ['Eletronico', 'Roupa', 'Eletronico', 'Livro', 'Roupa'],\n",
        "    'Motivo_do_Reembolso': ['Defeito', 'Tamanho', 'Defeito', 'Arrependimento', 'Tamanho'],\n",
        "    'Historico_do_Cliente': [10, 2, 5, 1, 3],\n",
        "    'Valor_do_Reembolso': [500, 50, 700, 20, 80]\n",
        "}\n",
        "# pd.DataFrame(reembolso_data).to_csv('dados_de_reembolso.csv', index=False)\n",
        "\n",
        "\n",
        "# Carregue seus dados de histórico de reembolso em um DataFrame\n",
        "# data = pd.read_csv('dados_de_reembolso.csv')\n",
        "\n",
        "# --- Início do Bloco de Pré-processamento (Necessário) ---\n",
        "# data_processed = pd.get_dummies(data, columns=['Tipo_de_Produto', 'Motivo_do_Reembolso'])\n",
        "# X = data_processed.drop('Valor_do_Reembolso', axis=1)\n",
        "# y = data_processed['Valor_do_Reembolso']\n",
        "# --- Fim do Bloco de Pré-processamento ---\n",
        "\n",
        "\n",
        "# X_train, X_test, y_train, y_test = train_test_split(X, y, test_size=0.2, random_state=42)\n",
        "# model = LinearRegression()\n",
        "# model.fit(X_train, y_train)\n",
        "# y_pred = model.predict(X_test)\n",
        "# print(\"Previsões de reembolso:\", y_pred)\n",
        "\n",
        "print(\"Estrutura do código para previsão de reembolso pronta.\")\n",
        "print(\"É necessário implementar o pré-processamento dos dados categóricos.\")"
      ]
    },
    {
      "cell_type": "markdown",
      "metadata": {
        "id": "fFIuuLVO-evX"
      },
      "source": [
        "##### **35. Dashboard de Análise de Despesas (com Plotly)**"
      ]
    },
    {
      "cell_type": "code",
      "execution_count": null,
      "metadata": {
        "id": "xGGqHzKc-evX"
      },
      "outputs": [],
      "source": [
        "# !pip install plotly # Descomente e execute se não tiver a biblioteca instalada\n",
        "import plotly.express as px\n",
        "\n",
        "# Dados de exemplo (substitua por seus próprios dados)\n",
        "categorias = ['Aluguel', 'Alimentação', 'Transporte', 'Lazer', 'Outros']\n",
        "despesas = [1200, 500, 300, 200, 700]\n",
        "\n",
        "# Crie um gráfico de barras interativo\n",
        "fig = px.bar(\n",
        "    x=categorias,\n",
        "    y=despesas,\n",
        "    labels={'x': 'Categorias', 'y': 'Despesas (em R$)'},\n",
        "    title='Análise de Despesas por Categoria',\n",
        "    text=despesas # Adiciona o valor no topo de cada barra\n",
        ")\n",
        "\n",
        "# Personalize o layout do gráfico\n",
        "fig.update_layout(\n",
        "    xaxis_title_font=dict(size=14, family='Arial'),\n",
        "    yaxis_title_font=dict(size=14, family='Arial'),\n",
        "    title_font=dict(size=16, family='Arial'),\n",
        "    xaxis=dict(categoryorder='total descending')\n",
        ")\n",
        "\n",
        "# Exiba o gráfico interativo\n",
        "fig.show()"
      ]
    }
  ],
  "metadata": {
    "colab": {
      "provenance": []
    },
    "kernelspec": {
      "display_name": "base",
      "language": "python",
      "name": "python3"
    },
    "language_info": {
      "codemirror_mode": {
        "name": "ipython",
        "version": 3
      },
      "file_extension": ".py",
      "mimetype": "text/x-python",
      "name": "python",
      "nbconvert_exporter": "python",
      "pygments_lexer": "ipython3",
      "version": "3.13.5"
    }
  },
  "nbformat": 4,
  "nbformat_minor": 0
}
