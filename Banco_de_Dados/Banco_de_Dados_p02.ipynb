{
  "cells": [
    {
      "cell_type": "markdown",
      "metadata": {
        "id": "kbiGvc18X6G4"
      },
      "source": [
        "## **Bancos de Dados parte 02 de 02**\n",
        "\n",
        "### **Projetos Práticos (continuação)**"
      ]
    },
    {
      "cell_type": "markdown",
      "metadata": {},
      "source": [
        "#### **36. Gerenciamento de Projetos**"
      ]
    },
    {
      "cell_type": "code",
      "execution_count": null,
      "metadata": {
        "id": "t-ObtTSMX6G8"
      },
      "outputs": [],
      "source": [
        "import sqlite3\n",
        "\n",
        "# Função para criar a tabela de projetos no banco de dados\n",
        "def criar_tabela_projetos():\n",
        "    with sqlite3.connect(\"gerenciamento_de_projetos.db\") as conn:\n",
        "        conn.execute(\"\"\"\n",
        "        CREATE TABLE IF NOT EXISTS projetos (\n",
        "            id INTEGER PRIMARY KEY,\n",
        "            nome TEXT,\n",
        "            status TEXT\n",
        "        )\"\"\")\n",
        "\n",
        "# Função para criar a tabela de tarefas no banco de dados\n",
        "def criar_tabela_tarefas_proj():\n",
        "    with sqlite3.connect(\"gerenciamento_de_projetos.db\") as conn:\n",
        "        conn.execute(\"\"\"\n",
        "        CREATE TABLE IF NOT EXISTS tarefas (\n",
        "            id INTEGER PRIMARY KEY,\n",
        "            projeto_id INTEGER,\n",
        "            descricao TEXT,\n",
        "            concluida BOOLEAN\n",
        "        )\"\"\")\n",
        "\n",
        "# Função para adicionar um novo projeto\n",
        "def adicionar_projeto(nome, status):\n",
        "    with sqlite3.connect(\"gerenciamento_de_projetos.db\") as conn:\n",
        "        conn.execute(\"INSERT INTO projetos (nome, status) VALUES (?, ?)\", (nome, status))\n",
        "\n",
        "# Função para adicionar uma nova tarefa a um projeto\n",
        "def adicionar_tarefa_proj(projeto_id, descricao):\n",
        "    with sqlite3.connect(\"gerenciamento_de_projetos.db\") as conn:\n",
        "        conn.execute(\"INSERT INTO tarefas (projeto_id, descricao, concluida) VALUES (?, ?, ?)\", (projeto_id, descricao, False))\n",
        "\n",
        "# Função para listar todos os projetos\n",
        "def listar_projetos():\n",
        "    with sqlite3.connect(\"gerenciamento_de_projetos.db\") as conn:\n",
        "        return conn.execute(\"SELECT * FROM projetos\").fetchall()\n",
        "\n",
        "# Função para listar todas as tarefas de um projeto\n",
        "def listar_tarefas_proj(projeto_id):\n",
        "    with sqlite3.connect(\"gerenciamento_de_projetos.db\") as conn:\n",
        "        return conn.execute(\"SELECT * FROM tarefas WHERE projeto_id = ?\", (projeto_id,)).fetchall()\n",
        "\n",
        "# Execução do exemplo\n",
        "criar_tabela_projetos()\n",
        "criar_tabela_tarefas_proj()\n",
        "\n",
        "adicionar_projeto(\"Projeto A\", \"Em andamento\")\n",
        "# Para obter o ID, você faria uma consulta, mas para simplificar vamos assumir ID 1\n",
        "projeto_id = 1\n",
        "adicionar_tarefa_proj(projeto_id, \"Desenvolver funcionalidade X\")\n",
        "adicionar_tarefa_proj(projeto_id, \"Testar funcionalidade X\")\n",
        "\n",
        "projetos = listar_projetos()\n",
        "print(\"Gerenciamento de Projetos:\")\n",
        "for projeto in projetos:\n",
        "    print(f\"ID: {projeto[0]}, Nome: {projeto[1]}, Status: {projeto[2]}\")\n",
        "    tarefas = listar_tarefas_proj(projeto[0])\n",
        "    for tarefa in tarefas:\n",
        "        print(f\"  Tarefa: {tarefa[2]}, Concluída: {bool(tarefa[3])}\")"
      ]
    },
    {
      "cell_type": "markdown",
      "metadata": {
        "id": "0F82v6g6X6G9"
      },
      "source": [
        "-----\n",
        "\n",
        "#### **37. Automação de Atendimento ao Cliente**"
      ]
    },
    {
      "cell_type": "code",
      "execution_count": null,
      "metadata": {
        "id": "NMo9Jr4uX6G-"
      },
      "outputs": [],
      "source": [
        "import sqlite3\n",
        "\n",
        "def criar_tabela_clientes_atendimento():\n",
        "    with sqlite3.connect(\"atendimento_ao_cliente.db\") as conn:\n",
        "        conn.execute(\"\"\"\n",
        "        CREATE TABLE IF NOT EXISTS clientes (\n",
        "            id INTEGER PRIMARY KEY, nome TEXT, email TEXT,\n",
        "            telefone TEXT, historico TEXT\n",
        "        )\"\"\")\n",
        "\n",
        "def adicionar_cliente(nome, email, telefone):\n",
        "    with sqlite3.connect(\"atendimento_ao_cliente.db\") as conn:\n",
        "        conn.execute(\"INSERT INTO clientes (nome, email, telefone, historico) VALUES (?, ?, ?, '')\", (nome, email, telefone))\n",
        "\n",
        "def registrar_interacao(cliente_id, historico_novo):\n",
        "    with sqlite3.connect(\"atendimento_ao_cliente.db\") as conn:\n",
        "        cursor = conn.cursor()\n",
        "        cursor.execute(\"SELECT historico FROM clientes WHERE id = ?\", (cliente_id,))\n",
        "        historico_antigo = cursor.fetchone()[0]\n",
        "        historico_atualizado = historico_antigo + \"\\n\" + historico_novo\n",
        "        cursor.execute(\"UPDATE clientes SET historico = ? WHERE id = ?\", (historico_atualizado, cliente_id))\n",
        "\n",
        "# Execução do exemplo\n",
        "criar_tabela_clientes_atendimento()\n",
        "adicionar_cliente(\"Alice\", \"alice@example.com\", \"555-1234\")\n",
        "adicionar_cliente(\"Bob\", \"bob@example.com\", \"555-5678\")\n",
        "registrar_interacao(1, \"Cliente muito satisfeito com o produto.\")\n",
        "registrar_interacao(2, \"Cliente com dúvidas sobre faturamento.\")\n",
        "\n",
        "with sqlite3.connect(\"atendimento_ao_cliente.db\") as conn:\n",
        "    clientes = conn.execute(\"SELECT * FROM clientes\").fetchall()\n",
        "\n",
        "print(\"Atendimento ao Cliente:\")\n",
        "for cliente in clientes:\n",
        "    print(f\"Nome: {cliente[1]}, Email: {cliente[2]}, Telefone: {cliente[3]}\")\n",
        "    print(f\"Histórico de Interações: {cliente[4]}\\n\")"
      ]
    },
    {
      "cell_type": "markdown",
      "metadata": {
        "id": "NKp-BNU9X6G-"
      },
      "source": [
        "-----\n",
        "\n",
        "#### **38. Gerenciamento de Tarefas de Equipe**"
      ]
    },
    {
      "cell_type": "code",
      "execution_count": null,
      "metadata": {
        "id": "eRpNxJrBX6G_"
      },
      "outputs": [],
      "source": [
        "import sqlite3\n",
        "\n",
        "def criar_tabela_tarefas_equipe():\n",
        "    with sqlite3.connect(\"gerenciamento_tarefas_equipe.db\") as conn:\n",
        "        conn.execute(\"\"\"\n",
        "        CREATE TABLE IF NOT EXISTS tarefas (\n",
        "            id INTEGER PRIMARY KEY, titulo TEXT, descricao TEXT,\n",
        "            responsavel TEXT, prazo DATE, concluida BOOLEAN\n",
        "        )\"\"\")\n",
        "\n",
        "def adicionar_tarefa_equipe(titulo, descricao, responsavel, prazo):\n",
        "    with sqlite3.connect(\"gerenciamento_tarefas_equipe.db\") as conn:\n",
        "        conn.execute(\"INSERT INTO tarefas (titulo, descricao, responsavel, prazo, concluida) VALUES (?, ?, ?, ?, 0)\",\n",
        "                       (titulo, descricao, responsavel, prazo))\n",
        "\n",
        "def listar_tarefas_por_responsavel(responsavel):\n",
        "    with sqlite3.connect(\"gerenciamento_tarefas_equipe.db\") as conn:\n",
        "        return conn.execute(\"SELECT * FROM tarefas WHERE responsavel = ? ORDER BY prazo\", (responsavel,)).fetchall()\n",
        "\n",
        "# Execução do exemplo\n",
        "criar_tabela_tarefas_equipe()\n",
        "adicionar_tarefa_equipe(\"Projeto A\", \"Desenvolver funcionalidade X\", \"Alice\", \"2025-12-15\")\n",
        "adicionar_tarefa_equipe(\"Projeto B\", \"Testar funcionalidade Y\", \"Bob\", \"2025-12-16\")\n",
        "\n",
        "tarefas_alice = listar_tarefas_por_responsavel(\"Alice\")\n",
        "tarefas_bob = listar_tarefas_por_responsavel(\"Bob\")\n",
        "\n",
        "print(\"Gerenciamento de Tarefas:\")\n",
        "print(\"\\nTarefas de Alice:\")\n",
        "for tarefa in tarefas_alice:\n",
        "    print(f\"Título: {tarefa[1]}, Descrição: {tarefa[2]}, Prazo: {tarefa[4]}\")\n",
        "print(\"\\nTarefas de Bob:\")\n",
        "for tarefa in tarefas_bob:\n",
        "    print(f\"Título: {tarefa[1]}, Descrição: {tarefa[2]}, Prazo: {tarefa[4]}\")"
      ]
    },
    {
      "cell_type": "markdown",
      "metadata": {
        "id": "D_7yF8g0X6G_"
      },
      "source": [
        "-----\n",
        "\n",
        "#### **39. Sistema de Vendas Online**"
      ]
    },
    {
      "cell_type": "code",
      "execution_count": null,
      "metadata": {
        "id": "V-ef5LCPX6G_"
      },
      "outputs": [],
      "source": [
        "import sqlite3\n",
        "\n",
        "def criar_tabelas_vendas():\n",
        "    with sqlite3.connect(\"sistema_de_vendas.db\") as conn:\n",
        "        conn.execute(\"\"\"\n",
        "        CREATE TABLE IF NOT EXISTS produtos (\n",
        "            id INTEGER PRIMARY KEY, nome TEXT, preco REAL, estoque INTEGER\n",
        "        )\"\"\")\n",
        "        conn.execute(\"\"\"\n",
        "        CREATE TABLE IF NOT EXISTS vendas (\n",
        "            id INTEGER PRIMARY KEY, produto_id INTEGER,\n",
        "            quantidade INTEGER, data DATE\n",
        "        )\"\"\")\n",
        "\n",
        "def adicionar_produto(nome, preco, estoque):\n",
        "    with sqlite3.connect(\"sistema_de_vendas.db\") as conn:\n",
        "        conn.execute(\"INSERT INTO produtos (nome, preco, estoque) VALUES (?, ?, ?)\", (nome, preco, estoque))\n",
        "\n",
        "def realizar_venda(produto_id, quantidade, data):\n",
        "    with sqlite3.connect(\"sistema_de_vendas.db\") as conn:\n",
        "        conn.execute(\"INSERT INTO vendas (produto_id, quantidade, data) VALUES (?, ?, ?)\", (produto_id, quantidade, data))\n",
        "\n",
        "def calcular_total_vendas():\n",
        "    with sqlite3.connect(\"sistema_de_vendas.db\") as conn:\n",
        "        total = conn.execute(\"SELECT SUM(p.preco * v.quantidade) FROM produtos p JOIN vendas v ON p.id = v.produto_id\").fetchone()[0]\n",
        "        return total if total is not None else 0\n",
        "\n",
        "# Execução do exemplo\n",
        "criar_tabelas_vendas()\n",
        "adicionar_produto(\"Produto A\", 10.0, 100)\n",
        "adicionar_produto(\"Produto B\", 15.0, 50)\n",
        "realizar_venda(1, 5, \"2025-12-15\")\n",
        "realizar_venda(2, 3, \"2025-12-16\")\n",
        "total_vendas = calcular_total_vendas()\n",
        "\n",
        "print(\"Sistema de Vendas Online:\")\n",
        "print(f\"Total de Vendas: R${total_vendas:.2f}\")"
      ]
    },
    {
      "cell_type": "markdown",
      "metadata": {
        "id": "SP0Lc8zQX6HA"
      },
      "source": [
        "-----\n",
        "\n",
        "#### **40. Livro de Receitas**"
      ]
    },
    {
      "cell_type": "code",
      "execution_count": null,
      "metadata": {
        "id": "duUSzQNwX6HA"
      },
      "outputs": [],
      "source": [
        "import sqlite3\n",
        "\n",
        "def setup_receitas():\n",
        "    with sqlite3.connect('livro_de_receitas.db') as conn:\n",
        "        conn.execute('''\n",
        "        CREATE TABLE IF NOT EXISTS receitas (\n",
        "            id INTEGER PRIMARY KEY, nome TEXT, ingredientes TEXT, instrucoes TEXT\n",
        "        )''')\n",
        "\n",
        "def adicionar_receita(nome, ingredientes, instrucoes):\n",
        "    with sqlite3.connect('livro_de_receitas.db') as conn:\n",
        "        conn.execute('INSERT INTO receitas (nome, ingredientes, instrucoes) VALUES (?, ?, ?)', (nome, ingredientes, instrucoes))\n",
        "\n",
        "def listar_receitas():\n",
        "    with sqlite3.connect('livro_de_receitas.db') as conn:\n",
        "        return conn.execute('SELECT id, nome FROM receitas').fetchall()\n",
        "\n",
        "def mostrar_receita(id):\n",
        "    with sqlite3.connect('livro_de_receitas.db') as conn:\n",
        "        return conn.execute('SELECT nome, ingredientes, instrucoes FROM receitas WHERE id = ?', (id,)).fetchone()\n",
        "\n",
        "# Execução do exemplo\n",
        "setup_receitas()\n",
        "adicionar_receita('Bolo de Chocolate', 'Farinha, açúcar, cacau em pó', 'Misture tudo e asse.')\n",
        "print(\"Receitas Cadastradas:\")\n",
        "for rid, nome in listar_receitas():\n",
        "    print(f'ID: {rid}, Nome: {nome}')\n",
        "\n",
        "print(\"\\nDetalhes da Receita ID 1:\")\n",
        "receita = mostrar_receita(1)\n",
        "if receita:\n",
        "    print(f'Nome: {receita[0]}\\nIngredientes: {receita[1]}\\nInstruções: {receita[2]}')\n",
        "else:\n",
        "    print('Receita não encontrada.')"
      ]
    },
    {
      "cell_type": "markdown",
      "metadata": {
        "id": "TKBI4xRZX6HA"
      },
      "source": [
        "-----\n",
        "\n",
        "#### **41. Gerenciamento de Funcionários**"
      ]
    },
    {
      "cell_type": "code",
      "execution_count": null,
      "metadata": {
        "id": "_yIz23DPX6HA"
      },
      "outputs": [],
      "source": [
        "import sqlite3\n",
        "\n",
        "def setup_funcionarios():\n",
        "    with sqlite3.connect('gerenciamento_funcionarios.db') as conn:\n",
        "        conn.execute('''\n",
        "        CREATE TABLE IF NOT EXISTS funcionarios (\n",
        "            id INTEGER PRIMARY KEY, nome TEXT, cargo TEXT,\n",
        "            salario REAL, historico TEXT\n",
        "        )''')\n",
        "\n",
        "def adicionar_funcionario(nome, cargo, salario, historico):\n",
        "    with sqlite3.connect('gerenciamento_funcionarios.db') as conn:\n",
        "        conn.execute('INSERT INTO funcionarios (nome, cargo, salario, historico) VALUES (?, ?, ?, ?)',\n",
        "                     (nome, cargo, salario, historico))\n",
        "\n",
        "def listar_funcionarios():\n",
        "    with sqlite3.connect('gerenciamento_funcionarios.db') as conn:\n",
        "        return conn.execute('SELECT id, nome FROM funcionarios').fetchall()\n",
        "\n",
        "def mostrar_funcionario(id):\n",
        "    with sqlite3.connect('gerenciamento_funcionarios.db') as conn:\n",
        "        return conn.execute('SELECT nome, cargo, salario, historico FROM funcionarios WHERE id = ?', (id,)).fetchone()\n",
        "\n",
        "# Execução do exemplo\n",
        "setup_funcionarios()\n",
        "adicionar_funcionario('Maria', 'Engenheira de Software', 75000.0, 'Experiência em desenvolvimento web.')\n",
        "adicionar_funcionario('João', 'Analista de Marketing', 55000.0, 'Especializado em marketing digital.')\n",
        "\n",
        "print(\"Funcionários Cadastrados:\")\n",
        "for fid, nome in listar_funcionarios():\n",
        "    print(f'ID: {fid}, Nome: {nome}')\n",
        "\n",
        "print(\"\\nDetalhes do Funcionário ID 1:\")\n",
        "funcionario = mostrar_funcionario(1)\n",
        "if funcionario:\n",
        "    print(f'Nome: {funcionario[0]}\\nCargo: {funcionario[1]}\\nSalário: {funcionario[2]}\\nHistórico: {funcionario[3]}')\n",
        "else:\n",
        "    print('Funcionário não encontrado.')"
      ]
    },
    {
      "cell_type": "markdown",
      "metadata": {
        "id": "NIthdhReX6HA"
      },
      "source": [
        "-----\n",
        "\n",
        "#### **42. Gestão de Patrimônio**"
      ]
    },
    {
      "cell_type": "code",
      "execution_count": null,
      "metadata": {
        "id": "FlYJciPmX6HB"
      },
      "outputs": [],
      "source": [
        "import sqlite3\n",
        "\n",
        "def setup_patrimonio():\n",
        "    with sqlite3.connect('gestao_de_patrimonio.db') as conn:\n",
        "        conn.execute('''\n",
        "        CREATE TABLE IF NOT EXISTS ativos (\n",
        "            id INTEGER PRIMARY KEY, tipo TEXT, descricao TEXT, valor REAL\n",
        "        )''')\n",
        "\n",
        "def adicionar_ativo(tipo, descricao, valor):\n",
        "    with sqlite3.connect('gestao_de_patrimonio.db') as conn:\n",
        "        conn.execute('INSERT INTO ativos (tipo, descricao, valor) VALUES (?, ?, ?)', (tipo, descricao, valor))\n",
        "\n",
        "def listar_ativos():\n",
        "    with sqlite3.connect('gestao_de_patrimonio.db') as conn:\n",
        "        return conn.execute('SELECT id, tipo, descricao, valor FROM ativos').fetchall()\n",
        "\n",
        "# Execução do exemplo\n",
        "setup_patrimonio()\n",
        "adicionar_ativo('Imóvel', 'Casa própria', 250000.0)\n",
        "adicionar_ativo('Investimento', 'Ações da Empresa XYZ', 5000.0)\n",
        "print(\"Gestão de Patrimônio:\")\n",
        "for id_ativo, tipo, desc, val in listar_ativos():\n",
        "    print(f'ID: {id_ativo}, Tipo: {tipo}, Descrição: {desc}, Valor: R$ {val:.2f}')"
      ]
    },
    {
      "cell_type": "markdown",
      "metadata": {
        "id": "rShbIcuuX6HB"
      },
      "source": [
        "-----\n",
        "\n",
        "#### **43. Gestão de Estoque**"
      ]
    },
    {
      "cell_type": "code",
      "execution_count": null,
      "metadata": {
        "id": "k8uvmZiyX6HB"
      },
      "outputs": [],
      "source": [
        "import sqlite3\n",
        "\n",
        "class SistemaGestaoEstoques:\n",
        "    def __init__(self, nome_banco):\n",
        "        self.conn = sqlite3.connect(nome_banco)\n",
        "        self.criar_tabela_estoque()\n",
        "\n",
        "    def criar_tabela_estoque(self):\n",
        "        with self.conn:\n",
        "            self.conn.execute('''\n",
        "                CREATE TABLE IF NOT EXISTS estoque (\n",
        "                    id INTEGER PRIMARY KEY, produto TEXT UNIQUE, quantidade INTEGER\n",
        "                )''')\n",
        "\n",
        "    def adicionar_produto(self, produto, quantidade):\n",
        "        with self.conn:\n",
        "            self.conn.execute(\"INSERT OR IGNORE INTO estoque (produto, quantidade) VALUES (?, ?)\", (produto, 0))\n",
        "            self.conn.execute(\"UPDATE estoque SET quantidade = quantidade + ? WHERE produto = ?\", (quantidade, produto))\n",
        "\n",
        "    def remover_produto(self, produto, quantidade):\n",
        "        estoque_atual = self.consultar_estoque(produto)\n",
        "        if estoque_atual >= quantidade:\n",
        "            with self.conn:\n",
        "                self.conn.execute(\"UPDATE estoque SET quantidade = quantidade - ? WHERE produto=?\", (quantidade, produto))\n",
        "        else:\n",
        "            print(f\"Quantidade insuficiente de {produto} em estoque.\")\n",
        "\n",
        "    def consultar_estoque(self, produto):\n",
        "        cursor = self.conn.cursor()\n",
        "        cursor.execute(\"SELECT quantidade FROM estoque WHERE produto=?\", (produto,))\n",
        "        resultado = cursor.fetchone()\n",
        "        return resultado[0] if resultado else 0\n",
        "\n",
        "    def listar_produtos(self):\n",
        "        with self.conn:\n",
        "            return self.conn.execute(\"SELECT produto, quantidade FROM estoque WHERE quantidade > 0\").fetchall()\n",
        "\n",
        "# Execução do exemplo\n",
        "sistema = SistemaGestaoEstoques(\"estoque.db\")\n",
        "sistema.adicionar_produto(\"Camiseta\", 50)\n",
        "sistema.adicionar_produto(\"Calça Jeans\", 30)\n",
        "print(f\"Quantidade de Camisetas: {sistema.consultar_estoque('Camiseta')}\")\n",
        "sistema.remover_produto(\"Calça Jeans\", 10)\n",
        "print(\"\\nProdutos em estoque:\")\n",
        "for produto, qtd in sistema.listar_produtos():\n",
        "    print(f\"- {produto}: {qtd}\")"
      ]
    },
    {
      "cell_type": "markdown",
      "metadata": {
        "id": "pvxzH9tHX6HB"
      },
      "source": [
        "-----\n",
        "\n",
        "#### **44. Gestão de Fornecedores**"
      ]
    },
    {
      "cell_type": "code",
      "execution_count": null,
      "metadata": {
        "id": "Fgj0cg5hX6HC"
      },
      "outputs": [],
      "source": [
        "import sqlite3\n",
        "\n",
        "class SistemaGestaoFornecedores:\n",
        "    def __init__(self, nome_banco):\n",
        "        self.conn = sqlite3.connect(nome_banco)\n",
        "        self.criar_tabelas()\n",
        "\n",
        "    def criar_tabelas(self):\n",
        "        with self.conn:\n",
        "            self.conn.execute('''\n",
        "                CREATE TABLE IF NOT EXISTS fornecedores (\n",
        "                    id INTEGER PRIMARY KEY, nome TEXT, contato TEXT\n",
        "                )''')\n",
        "            self.conn.execute('''\n",
        "                CREATE TABLE IF NOT EXISTS compras (\n",
        "                    id INTEGER PRIMARY KEY, fornecedor_id INTEGER,\n",
        "                    data_compra TEXT, valor REAL\n",
        "                )''')\n",
        "\n",
        "    def adicionar_fornecedor(self, nome, contato):\n",
        "        with self.conn:\n",
        "            self.conn.execute(\"INSERT INTO fornecedores (nome, contato) VALUES (?, ?)\", (nome, contato))\n",
        "\n",
        "    def listar_fornecedores(self):\n",
        "        with self.conn:\n",
        "            return self.conn.execute(\"SELECT id, nome FROM fornecedores\").fetchall()\n",
        "\n",
        "    def fazer_compra(self, fornecedor_id, data_compra, valor):\n",
        "        with self.conn:\n",
        "            self.conn.execute(\"INSERT INTO compras (fornecedor_id, data_compra, valor) VALUES (?, ?, ?)\",\n",
        "                              (fornecedor_id, data_compra, valor))\n",
        "\n",
        "    def listar_compras(self, fornecedor_id):\n",
        "        with self.conn:\n",
        "            return self.conn.execute(\"SELECT data_compra, valor FROM compras WHERE fornecedor_id=?\",\n",
        "                                     (fornecedor_id,)).fetchall()\n",
        "\n",
        "# Execução do exemplo\n",
        "sistema_f = SistemaGestaoFornecedores(\"fornecedores_compras.db\")\n",
        "sistema_f.adicionar_fornecedor(\"Fornecedor A\", \"Contato A\")\n",
        "sistema_f.adicionar_fornecedor(\"Fornecedor B\", \"Contato B\")\n",
        "\n",
        "print(\"Fornecedores:\")\n",
        "for fid, nome in sistema_f.listar_fornecedores():\n",
        "    print(f\"ID: {fid}, Nome: {nome}\")\n",
        "\n",
        "sistema_f.fazer_compra(1, \"2025-01-15\", 1000.0)\n",
        "sistema_f.fazer_compra(2, \"2025-02-20\", 1500.0)\n",
        "print(\"\\nCompras para Fornecedor 1:\")\n",
        "for data, valor in sistema_f.listar_compras(1):\n",
        "    print(f\"Data: {data}, Valor: {valor}\")"
      ]
    },
    {
      "cell_type": "markdown",
      "metadata": {
        "id": "I7QEHgVkX6HC"
      },
      "source": [
        "-----\n",
        "\n",
        "#### **45. Gestão de Projetos (Classe)**"
      ]
    },
    {
      "cell_type": "code",
      "execution_count": null,
      "metadata": {
        "id": "6dQ3V0gZX6HC"
      },
      "outputs": [],
      "source": [
        "import sqlite3\n",
        "\n",
        "class SistemaGestaoProjetos:\n",
        "    def __init__(self, nome_banco):\n",
        "        self.conn = sqlite3.connect(nome_banco)\n",
        "        self.criar_tabelas()\n",
        "\n",
        "    def criar_tabelas(self):\n",
        "        with self.conn:\n",
        "            self.conn.execute('''\n",
        "                CREATE TABLE IF NOT EXISTS projetos_cls (\n",
        "                    id INTEGER PRIMARY KEY, nome TEXT, descricao TEXT,\n",
        "                    data_inicio TEXT, data_prazo TEXT\n",
        "                )''')\n",
        "            self.conn.execute('''\n",
        "                CREATE TABLE IF NOT EXISTS tarefas_cls (\n",
        "                    id INTEGER PRIMARY KEY, projeto_id INTEGER, descricao TEXT,\n",
        "                    data_prazo TEXT, concluida INTEGER\n",
        "                )''')\n",
        "\n",
        "    def criar_projeto(self, nome, descricao, data_inicio, data_prazo):\n",
        "        with self.conn:\n",
        "            self.conn.execute(\"INSERT INTO projetos_cls (nome, descricao, data_inicio, data_prazo) VALUES (?, ?, ?, ?)\",\n",
        "                              (nome, descricao, data_inicio, data_prazo))\n",
        "\n",
        "    def criar_tarefa(self, projeto_id, descricao, data_prazo):\n",
        "        with self.conn:\n",
        "            self.conn.execute(\"INSERT INTO tarefas_cls (projeto_id, descricao, data_prazo, concluida) VALUES (?, ?, ?, 0)\",\n",
        "                              (projeto_id, descricao, data_prazo))\n",
        "\n",
        "    def listar_projetos(self):\n",
        "        with self.conn:\n",
        "            return self.conn.execute(\"SELECT id, nome FROM projetos_cls\").fetchall()\n",
        "\n",
        "    def listar_tarefas(self, projeto_id):\n",
        "        with self.conn:\n",
        "            return self.conn.execute(\"SELECT id, descricao, data_prazo, concluida FROM tarefas_cls WHERE projeto_id=?\", (projeto_id,)).fetchall()\n",
        "\n",
        "    def marcar_tarefa_concluida(self, tarefa_id):\n",
        "        with self.conn:\n",
        "            self.conn.execute(\"UPDATE tarefas_cls SET concluida=1 WHERE id=?\", (tarefa_id,))\n",
        "\n",
        "# Execução do exemplo\n",
        "sistema_p = SistemaGestaoProjetos(\"gestao_projetos.db\")\n",
        "sistema_p.criar_projeto(\"Projeto Z\", \"Descrição do Projeto Z\", \"2025-01-01\", \"2025-03-31\")\n",
        "projeto_id = 1\n",
        "sistema_p.criar_tarefa(projeto_id, \"Tarefa Z1\", \"2025-02-10\")\n",
        "print(\"Projetos:\")\n",
        "for pid, nome in sistema_p.listar_projetos():\n",
        "    print(f\"ID: {pid}, Nome: {nome}\")"
      ]
    },
    {
      "cell_type": "markdown",
      "metadata": {
        "id": "aNACNO2GX6HC"
      },
      "source": [
        "-----\n",
        "\n",
        "#### **Aplicações Web com Flask**\n",
        "\n",
        "**AVISO:** Os códigos a seguir são aplicações web e não são feitos para rodar diretamente em uma célula de Jupyter Notebook. Eles devem ser salvos em arquivos `.py` (ex: `app.py`) e executados a partir do terminal. Além disso, eles requerem arquivos HTML correspondentes em uma pasta chamada `templates`.\n",
        "\n",
        "#### **46. Aplicação de Agendamento Médico**"
      ]
    },
    {
      "cell_type": "code",
      "execution_count": null,
      "metadata": {
        "id": "g7h6eAijX6HC"
      },
      "outputs": [],
      "source": [
        "# Salve como app_agendamento.py\n",
        "from flask import Flask, render_template, request, redirect, url_for\n",
        "import sqlite3\n",
        "\n",
        "app = Flask(__name__)\n",
        "\n",
        "def inicializar_db_agendamento():\n",
        "    with sqlite3.connect('agenda_medica.db') as conn:\n",
        "        conn.execute('''\n",
        "            CREATE TABLE IF NOT EXISTS pacientes (\n",
        "                id INTEGER PRIMARY KEY, nome TEXT NOT NULL,\n",
        "                email TEXT NOT NULL, telefone TEXT NOT NULL\n",
        "            )''')\n",
        "        conn.execute('''\n",
        "            CREATE TABLE IF NOT EXISTS agendamentos (\n",
        "                id INTEGER PRIMARY KEY, paciente_id INTEGER,\n",
        "                data_hora TEXT NOT NULL, descricao TEXT,\n",
        "                FOREIGN KEY (paciente_id) REFERENCES pacientes (id)\n",
        "            )''')\n",
        "inicializar_db_agendamento()\n",
        "\n",
        "@app.route('/')\n",
        "def index_agendamento():\n",
        "    with sqlite3.connect('agenda_medica.db') as conn:\n",
        "        pacientes = conn.execute('SELECT * FROM pacientes').fetchall()\n",
        "    return render_template('index.html', pacientes=pacientes)\n",
        "# ... (Restante do código Flask como fornecido)\n",
        "\n",
        "# Para rodar:\n",
        "# 1. Salve este código como app_agendamento.py\n",
        "# 2. Crie os arquivos HTML necessários (index.html, novo_paciente.html, etc.) na pasta 'templates'\n",
        "# 3. Execute 'python app_agendamento.py' no terminal"
      ]
    },
    {
      "cell_type": "markdown",
      "metadata": {
        "id": "GgHwutRPX6HC"
      },
      "source": [
        "-----\n",
        "\n",
        "#### **47. Sistema de Gestão Hospitalar**"
      ]
    },
    {
      "cell_type": "code",
      "execution_count": null,
      "metadata": {
        "id": "2WiXFeJYX6HC"
      },
      "outputs": [],
      "source": [
        "# Salve como app_hospital.py\n",
        "from flask import Flask, render_template, request, redirect, url_for\n",
        "import sqlite3\n",
        "\n",
        "app = Flask(__name__)\n",
        "\n",
        "def inicializar_db_hospital():\n",
        "    with sqlite3.connect('gestao_hospitalar.db') as conn:\n",
        "        conn.execute('''\n",
        "            CREATE TABLE IF NOT EXISTS pacientes_hosp (\n",
        "                id INTEGER PRIMARY KEY, nome TEXT NOT NULL, idade INTEGER,\n",
        "                sexo TEXT, cpf TEXT UNIQUE, endereco TEXT, telefone TEXT\n",
        "            )''')\n",
        "        conn.execute('''\n",
        "            CREATE TABLE IF NOT EXISTS consultas (\n",
        "                id INTEGER PRIMARY KEY, paciente_id INTEGER, data_hora TEXT,\n",
        "                descricao TEXT, FOREIGN KEY (paciente_id) REFERENCES pacientes_hosp (id)\n",
        "            )''')\n",
        "inicializar_db_hospital()\n",
        "\n",
        "@app.route('/')\n",
        "def index_hospital():\n",
        "    with sqlite3.connect('gestao_hospitalar.db') as conn:\n",
        "        pacientes = conn.execute('SELECT * FROM pacientes_hosp').fetchall()\n",
        "    return render_template('index.html', pacientes=pacientes)\n",
        "# ... (Restante do código Flask como fornecido)\n",
        "\n",
        "# Para rodar:\n",
        "# 1. Salve este código como app_hospital.py\n",
        "# 2. Crie os arquivos HTML na pasta 'templates'\n",
        "# 3. Execute 'python app_hospital.py' no terminal"
      ]
    },
    {
      "cell_type": "markdown",
      "metadata": {
        "id": "BB7UY_miX6HC"
      },
      "source": [
        "-----\n",
        "\n",
        "#### **48. Monitoramento de Dispositivos Médicos**\n",
        "\n",
        "**AVISO:** O código a seguir contém um loop infinito (`while True`). Ao executá-lo em um notebook, você precisará interromper o kernel manualmente para parar a execução."
      ]
    },
    {
      "cell_type": "code",
      "execution_count": null,
      "metadata": {
        "id": "Zb_StZuGX6HD"
      },
      "outputs": [],
      "source": [
        "import random\n",
        "import time\n",
        "import sqlite3\n",
        "\n",
        "def inicializar_db_dispositivos():\n",
        "    with sqlite3.connect('dados_dispositivos.db') as conn:\n",
        "        conn.execute('''\n",
        "            CREATE TABLE IF NOT EXISTS dados_dispositivos (\n",
        "                id INTEGER PRIMARY KEY, timestamp INTEGER, batimentos INTEGER,\n",
        "                pressao_sistolica INTEGER, pressao_diastolica INTEGER\n",
        "            )''')\n",
        "inicializar_db_dispositivos()\n",
        "\n",
        "def coletar_dados_simulados(num_leituras=5):\n",
        "    with sqlite3.connect('dados_dispositivos.db') as conn:\n",
        "        print(f\"Coletando {num_leituras} leituras simuladas...\")\n",
        "        for i in range(num_leituras):\n",
        "            batimentos = random.randint(60, 100)\n",
        "            pressao_sistolica = random.randint(100, 140)\n",
        "            pressao_diastolica = random.randint(60, 90)\n",
        "            timestamp = int(time.time())\n",
        "\n",
        "            conn.execute('''\n",
        "                INSERT INTO dados_dispositivos (timestamp, batimentos, pressao_sistolica, pressao_diastolica)\n",
        "                VALUES (?, ?, ?, ?)\n",
        "            ''', (timestamp, batimentos, pressao_sistolica, pressao_diastolica))\n",
        "            print(f\"Leitura {i+1}: Batimentos={batimentos}, Pressão={pressao_sistolica}/{pressao_diastolica}\")\n",
        "            time.sleep(1)\n",
        "    print(\"Coleta finalizada.\")\n",
        "\n",
        "# Execução do exemplo com um número finito de leituras\n",
        "coletar_dados_simulados(5)"
      ]
    },
    {
      "cell_type": "markdown",
      "metadata": {
        "id": "zKgfxgWnX6HD"
      },
      "source": [
        "-----\n",
        "\n",
        "#### **49. Sistema de Registro e Controle de Vacinação**"
      ]
    },
    {
      "cell_type": "code",
      "execution_count": null,
      "metadata": {
        "id": "xMIgZgWUX6HD"
      },
      "outputs": [],
      "source": [
        "# Salve como app_vacinacao.py\n",
        "from flask import Flask, render_template, request, redirect, url_for\n",
        "import sqlite3\n",
        "\n",
        "app = Flask(__name__)\n",
        "\n",
        "def inicializar_db_vacinacao():\n",
        "    with sqlite3.connect('registro_vacinacao.db') as conn:\n",
        "        conn.execute('''\n",
        "            CREATE TABLE IF NOT EXISTS vacinacao (\n",
        "                id INTEGER PRIMARY KEY, nome_paciente TEXT NOT NULL, idade INTEGER,\n",
        "                cpf TEXT UNIQUE, vacina TEXT, data_vacinacao TEXT\n",
        "            )''')\n",
        "inicializar_db_vacinacao()\n",
        "\n",
        "@app.route('/')\n",
        "def index_vacinacao():\n",
        "    with sqlite3.connect('registro_vacinacao.db') as conn:\n",
        "        vacinacoes = conn.execute('SELECT * FROM vacinacao').fetchall()\n",
        "    return render_template('index.html', vacinacoes=vacinacoes)\n",
        "# ... (Restante do código Flask como fornecido)\n",
        "\n",
        "# Para rodar:\n",
        "# 1. Salve este código como app_vacinacao.py\n",
        "# 2. Crie os arquivos HTML na pasta 'templates'\n",
        "# 3. Execute 'python app_vacinacao.py' no terminal"
      ]
    },
    {
      "cell_type": "markdown",
      "metadata": {
        "id": "_vK4iKGKX6HD"
      },
      "source": [
        "-----\n",
        "\n",
        "#### **50. Sistema de Gerenciamento Universitário**"
      ]
    },
    {
      "cell_type": "code",
      "execution_count": null,
      "metadata": {
        "id": "0hgcsg0RX6HD"
      },
      "outputs": [],
      "source": [
        "# Salve como app_universidade.py\n",
        "from flask import Flask, render_template, request, redirect, url_for\n",
        "import sqlite3\n",
        "\n",
        "app = Flask(__name__)\n",
        "\n",
        "def inicializar_db_universidade():\n",
        "    with sqlite3.connect('gerenciamento_alunos.db') as conn:\n",
        "        conn.execute('''\n",
        "            CREATE TABLE IF NOT EXISTS alunos (\n",
        "                id INTEGER PRIMARY KEY, nome TEXT NOT NULL,\n",
        "                matricula TEXT UNIQUE NOT NULL, curso TEXT NOT NULL\n",
        "            )''')\n",
        "        conn.execute('''\n",
        "            CREATE TABLE IF NOT EXISTS notas (\n",
        "                id INTEGER PRIMARY KEY, aluno_id INTEGER,\n",
        "                disciplina TEXT NOT NULL, nota INTEGER NOT NULL,\n",
        "                FOREIGN KEY (aluno_id) REFERENCES alunos (id)\n",
        "            )''')\n",
        "inicializar_db_universidade()\n",
        "\n",
        "@app.route('/')\n",
        "def index_universidade():\n",
        "    with sqlite3.connect('gerenciamento_alunos.db') as conn:\n",
        "        alunos = conn.execute('SELECT * FROM alunos').fetchall()\n",
        "    return render_template('index.html', alunos=alunos)\n",
        "# ... (Restante do código Flask como fornecido)\n",
        "\n",
        "# Para rodar:\n",
        "# 1. Salve este código como app_universidade.py\n",
        "# 2. Crie os arquivos HTML na pasta 'templates'\n",
        "# 3. Execute 'python app_universidade.py' no terminal"
      ]
    }
  ],
  "metadata": {
    "colab": {
      "provenance": []
    },
    "kernelspec": {
      "display_name": "Python 3",
      "name": "python3"
    }
  },
  "nbformat": 4,
  "nbformat_minor": 0
}
